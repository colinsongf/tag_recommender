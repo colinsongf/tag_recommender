{
 "metadata": {
  "name": ""
 },
 "nbformat": 3,
 "nbformat_minor": 0,
 "worksheets": [
  {
   "cells": [
    {
     "cell_type": "code",
     "collapsed": false,
     "input": [
      "from IPython.parallel import Client\n",
      "client = Client()\n",
      "dv = client[:]\n",
      "for i, target in enumerate(dv.targets):\n",
      "    dv.client[target]['eid'] = i\n",
      "print dv['eid']"
     ],
     "language": "python",
     "metadata": {},
     "outputs": [
      {
       "output_type": "stream",
       "stream": "stdout",
       "text": [
        "[0, 1]\n"
       ]
      }
     ],
     "prompt_number": 1
    },
    {
     "cell_type": "markdown",
     "metadata": {},
     "source": [
      "#Preprocessing\n",
      "##Duplicate Removal"
     ]
    },
    {
     "cell_type": "code",
     "collapsed": false,
     "input": [
      "import csv\n",
      "\n",
      "def remove_duplicate_rows(infilename, outfilename, key=1):\n",
      "    ''' Remove duplicate rows on the `key`th column from the inputted csv file '''\n",
      "    dupe_set = set()\n",
      "    fin, fout = open(infilename), open(outfilename, 'w')\n",
      "    with fin, fout:\n",
      "        rdr, wtr = csv.reader(fin, delimiter=','), csv.writer(fout, delimiter=',')\n",
      "        headers = rdr.next() # Ignore headers\n",
      "        for row in rdr:\n",
      "            if row[key] not in dupe_set:\n",
      "                dupe_set.add(row[key])\n",
      "                wtr.writerow(row)"
     ],
     "language": "python",
     "metadata": {},
     "outputs": [],
     "prompt_number": 4
    },
    {
     "cell_type": "markdown",
     "metadata": {},
     "source": [
      "##NLTK Processing"
     ]
    },
    {
     "cell_type": "code",
     "collapsed": false,
     "input": [
      "import nltk, csv, re, pickle\n",
      "from nltk.tokenize import RegexpTokenizer\n",
      "from bs4 import BeautifulSoup\n",
      "\n",
      "# Treebank-POS tags stop-list\n",
      "REJECT = set([\"CC\", \"CD\", \"DT\", \"EX\", \"IN\", \"LS\", \"MD\", \"PDT\", \"POS\",\n",
      "              \"PRP\", \"PRP$\", \"RB\", \"RP\", \"SYM\", \"TO\", \"UH\", \"WDT\", \"WP\",\n",
      "              \"WP$\", \"WRB\"])\n",
      "              \n",
      "ACCEPT = set([\"FW\", \"JJ\", \"JJR\", \"JJS\", \"NN\", \"NNP\", \"NNPS\", \"NNS\",\n",
      "              \"RBR\", \"RBS\", \"VB\", \"VBD\", \"VBG\", \"VBN\", \"VBP\",\n",
      "              \"VBZ\"])\n",
      "\n",
      "# Manual stop-list\n",
      "sw = set()\n",
      "with open(\"../working/english.stop\") as f:\n",
      "    for l in f:\n",
      "        sw.add(l.rstrip())\n",
      "\n",
      "# NLTK Tokenizer, Tagger\n",
      "tokenizer = RegexpTokenizer(r\"\\b\\w[\\w#+'-]*(?<!\\.$)\")\n",
      "tagger = pickle.load(open(\"../working/treebank_brill_aubt.pickle\"))\n",
      "lemmatizer = nltk.stem.WordNetLemmatizer()\n",
      "\n",
      "# NLTK Lemmatizer\n",
      "from nltk.corpus.reader.wordnet import ADJ, NOUN, ADV, VERB\n",
      "wntag_dict = {'J':ADJ, 'V':VERB, 'N':NOUN, 'R':ADV, '-':NOUN}\n",
      "def tb2wn(x):\n",
      "    ''' Map Treebank POS tag -> WordNet Lemma tag '''\n",
      "    return wntag_dict.get(x[0])"
     ],
     "language": "python",
     "metadata": {},
     "outputs": [],
     "prompt_number": 5
    },
    {
     "cell_type": "code",
     "collapsed": false,
     "input": [
      "from itertools import islice\n",
      "\n",
      "def process_title(title):\n",
      "    ''' Extract the title string and wrap filter_tokens '''\n",
      "    tokens = tokenizer.tokenize(title)\n",
      "    return filter_tokens(tokens)\n",
      "\n",
      "def process_body(body):\n",
      "    ''' Extract the body string and wrap filter_tokens '''\n",
      "    # Remove code and html-tags\n",
      "    soup = BeautifulSoup(body)\n",
      "    for tag in soup.find_all('p'):\n",
      "        for child in tag.children:\n",
      "            if child.name != 'a':\n",
      "                if child.name == 'code':\n",
      "                    for cc in child.children:\n",
      "                        body_lst.append(cc.__repr__()[2:-1])\n",
      "                else:\n",
      "                    body_lst.append(child.__repr__()[2:-1])\n",
      "    \n",
      "    # Extract tokens from processed body\n",
      "    tokens_lst = tokenizer.batch_tokenize(body_lst)\n",
      "    tokens = []\n",
      "    for tl in tokens_lst:\n",
      "        tokens.extend(tl)\n",
      "    return filter_tokens(tokens)\n",
      "\n",
      "def filter_tokens(tokens):\n",
      "    ''' Given a list of tokens, remove token if in REJECT or sw\n",
      "        Return as concatenated string '''\n",
      "    tkn_tag_tuples = [(token.lower(), tb2wn(tag)) for (token,tag) in tagger.tag(tokens)\n",
      "                          if tag not in REJECT]\n",
      "    lemmaed_tokens = [lemmatizer.lemmatize(*tup) for tup in tkn_tag_tuples\n",
      "                          if (tup[1] is not None) and (tup[0] not in sw)]\n",
      "    return ' '.join(lemmaed_tokens).decode('ascii', errors='ignore')\n",
      "\n",
      "def filter_html_tags(body):\n",
      "    ''' Use BeautifulSoup to remove html tags '''\n",
      "    pass\n",
      "\n",
      "def process_csv(infilename, outfilename, start=None, stop=None):\n",
      "    with open(outfilename, 'w') as f:\n",
      "        wtr = csv.writer(f, delimiter=',')\n",
      "        for row in row_stream(infilename, start=start, stop=stop):\n",
      "            ID, title, body, tags = row\n",
      "            wtr.writerow([ ID, process_title(title.decode('ascii', errors='ignore')),\n",
      "                           process_body(body.decode('ascii', errors='ignore')), tags ])"
     ],
     "language": "python",
     "metadata": {},
     "outputs": [],
     "prompt_number": 6
    },
    {
     "cell_type": "code",
     "collapsed": false,
     "input": [
      "def row_stream(filename, start=None, stop=None):\n",
      "    ''' A csv-row generator, starting on row `start` and ending on row `stop` '''\n",
      "    with open(filename) as f:\n",
      "        for row in islice(csv.reader(f, delimiter=',', quotechar='\"'), start, stop):\n",
      "            yield row\n",
      "\n",
      "def split_file(infilename, outfiletemplate, n):\n",
      "    ''' Split every n lines into a total of n outfiles. '''\n",
      "    f_handlers = [open(outfiletemplate % eid, 'w') for eid in xrange(n)]\n",
      "    with open(infilename) as f:\n",
      "        for ln,line in enumerate(f):\n",
      "            f_handlers[ln % n].write(line)\n",
      "\n",
      "def split_csv(infilename, outfiletemplate, n):\n",
      "    ''' Split every n lines into a total of n outfiles. '''\n",
      "    f_handlers = [csv.writer(open(outfiletemplate % eid, 'w'), delimiter=',')\n",
      "                      for eid in xrange(n)]\n",
      "    with open(infilename) as f:\n",
      "        for rn,row in enumerate(csv.reader(f, delimiter=',', quotechar='\"')):\n",
      "            f_handlers[rn % n].writerow(row)\n",
      "\n",
      "def combine_files(infiletemplate, outfilename, n):\n",
      "    ''' Given the value of n, combine n files into 1.\n",
      "        Merges serially (file after file). '''\n",
      "    with open(outfilename, 'w') as fout:\n",
      "        for eid in xrange(n):\n",
      "            fin = open(infiletemplate % eid)\n",
      "            fout.write(fin.read())\n",
      "            fin.close()\n",
      "\n",
      "def combine_csvs(infiletemplate, outfilename, n):\n",
      "    ''' Given the value of n, combine n csv files into 1.\n",
      "        Merges serially (file after file). '''\n",
      "    with open(outfilename, 'w') as fout:\n",
      "        wtr = csv.writer(fout, delimiter=',')\n",
      "        for eid in xrange(n):\n",
      "            for row in row_stream(infiletemplate % eid):\n",
      "                wtr.writerow(row)"
     ],
     "language": "python",
     "metadata": {},
     "outputs": [],
     "prompt_number": 7
    },
    {
     "cell_type": "markdown",
     "metadata": {},
     "source": [
      "##Term Frequency Pruning"
     ]
    },
    {
     "cell_type": "code",
     "collapsed": false,
     "input": [
      "from gensim.corpora.dictionary import Dictionary\n",
      "import pickle, csv\n",
      "\n",
      "def build_dictionary_from_splits(splits_template, column, n, save_pickle=None):\n",
      "    ''' Build dictionary from splits. If `save_pickle` is provided, then save. '''\n",
      "    unfiltered_dict = Dictionary()\n",
      "    for eid in xrange(n):\n",
      "        unfiltered_dict.add_documents(csv_isolator(\"../data/proc_Train_%d.csv\" % eid, column))\n",
      "    print \"Before filtering,\", unfiltered_dict\n",
      "    if save_pickle:\n",
      "        print \"\\nsaving...\"\n",
      "        unfiltered_dict.save(save_pickle)\n",
      "    \n",
      "    return unfiltered_dict\n",
      "\n",
      "\n",
      "def build_dictionaries_from_splits(splits_template, n, save_pickle_tup=None):\n",
      "    ''' Builds all 3 dictionaries from splits. If provided, `save_pickle_tup` must\n",
      "        be a 3-tuple of the picklefile names in the following order:\n",
      "        \n",
      "        (title, body, tags)\n",
      "        \n",
      "        If `save_pickle_tup[i]` is None, the corresponding dictionary will not be saved.\n",
      "    '''\n",
      "    utitledict, ubodydict, utagdict = Dictionary(), Dictionary(), Dictionary()\n",
      "    for eid in xrange(n):\n",
      "        for row in row_stream(splits_template % eid):\n",
      "            ID, title, body, tags = row\n",
      "            utitledict.doc2bow(title.split(), allow_update=True)\n",
      "            ubodydict.doc2bow(body.split(), allow_update=True)\n",
      "            utagdict.doc2bow(tags.split(), allow_update=True)\n",
      "    \n",
      "    assert ubodydict.num_docs == utitledict.num_docs == utagdict.num_docs\n",
      "    print \"Before filtering...\"\n",
      "    print \"utitledict:\", utitledict\n",
      "    print \"ubodydict:\", ubodydict\n",
      "    print \"utagdict:\", utagdict\n",
      "    \n",
      "    if save_pickle_tup:\n",
      "        assert len(save_pickle_tup) == 3\n",
      "        if save_pickle_tup[0]:\n",
      "            print \"saving utitledict...\"\n",
      "            utitledict.save(save_pickle_tup[0])\n",
      "        if save_pickle_tup[1]:\n",
      "            print \"saving ubodydict...\"\n",
      "            ubodydict.save(save_pickle_tup[1])\n",
      "        if save_pickle_tup[2]:\n",
      "            print \"saving utagdict...\"\n",
      "            utagdict.save(save_pickle_tup[2])\n",
      "            \n",
      "    return (utitledict, ubodydict, utagdict)\n",
      "\n",
      "\n",
      "def filter_extremes_wrapper(gdict, no_below=1, no_above=1.0, keep_n=None, save_pickle=None):\n",
      "    ''' Given unfiltered gensim-dict `gdict`, wrap filter_extremes '''\n",
      "    if type(gdict) == str:\n",
      "        gdict = Dictionary.load(gdict)\n",
      "    print \"Before filtering:\", gdict\n",
      "    gdict.filter_extremes(**kwargs)\n",
      "    print \"After filtering:\", gdict\n",
      "    \n",
      "    if save_pickle:\n",
      "        print \"\\nsaving...\"\n",
      "        gdict.save(save_pickle)\n",
      "    \n",
      "    return gdict\n",
      "\n",
      "\n",
      "def csv_isolator(filename, column):\n",
      "    ''' Isolate a column in the csv-file and yield a list containing its contents. '''\n",
      "    for row in row_stream(filename):\n",
      "        yield row[column].split()\n",
      "\n",
      "\n",
      "def prune_csv_file1(infilename, outfilename, column, gensim_dict):\n",
      "    ''' Using the (one) provided gensim.corpora.dictionary.Dictionary, prune out\n",
      "        tokens not found in the filtered dictionary. If filtered examples\n",
      "        have no tokens, remove them from file. '''\n",
      "    with open(outfilename, 'w') as f:\n",
      "        wtr = csv.writer(f, delimiter=',')\n",
      "        for row in row_stream(infilename):\n",
      "            tokens = row[column].split()\n",
      "            filtered_tokens = [token for token in tokens if token in gensim_dict.token2id]\n",
      "            if not filtered_tokens: # if no tokens remain, remove\n",
      "                continue\n",
      "            row[column] = ' '.join(filtered_tokens) # Python generators are un-affected from this\n",
      "            wtr.writerow(row)\n",
      "\n",
      "\n",
      "def prune_csv_file2(infilename, outfilename, gdict_tup, col_tup):\n",
      "    ''' `gdict_tup` must be a 2-tuple of gensim-dicts.\n",
      "        `col_tup` are the matching selection columns.\n",
      "        Prune a csv-file with 2 dictionaries simultaneously. '''\n",
      "    col_a, col_b = col_tup\n",
      "    gdict_a, gdict_b = gdict_tup\n",
      "    with open(outfilename, 'w') as f:\n",
      "        wtr = csv.writer(f, delimiter=',')\n",
      "        for row in row_stream(infilename):\n",
      "            tokens_a, tokens_b = row[col_a].split(), row[col_b].split()\n",
      "            filtered_tokens_a = [token for token in tokens_a if token in gdict_a.token2id]\n",
      "            filtered_tokens_b = [token for token in tokens_b if token in gdict_b.token2id]\n",
      "            if not filtered_tokens_a or not filtered_tokens_b:\n",
      "                continue\n",
      "            row[col_a] = ' '.join(filtered_tokens_a)\n",
      "            row[col_b] = ' '.join(filtered_tokens_b)\n",
      "            wtr.writerow(row)\n",
      "\n",
      "\n",
      "def prune_csv_file3(infilename, outfilename, gdict_tup, col_tup):\n",
      "    ''' `gdict_tup` must be a 3-tup\n",
      "        `col_tup` are the matching selection columns.\n",
      "        Prune a csv-file with all 3 dictionaries simultaneously. '''\n",
      "    col_a, col_b, col_c = col_tup\n",
      "    gdict_a, gdict_b, gdict_c = gdict_tup\n",
      "    with open(outfilename, 'w') as f:\n",
      "        wtr = csv.writer(f, delimiter=',')\n",
      "        for row in row_stream(infilename):\n",
      "            tokens_a, tokens_b, tokens_c = row[col_a].split(), row[col_b].split(), row[col_c].split()\n",
      "            filtered_tokens_a = [token for token in tokens_a if token in gdict_a.token2id]\n",
      "            filtered_tokens_b = [token for token in tokens_b if token in gdict_b.token2id]\n",
      "            filtered_tokens_c = [token for token in tokens_c if token in gdict_c.token2id]\n",
      "            if not filtered_tokens_a or not filtered_tokens_b or not filtered_tokens_c:\n",
      "                continue\n",
      "            row[col_a] = ' '.join(filtered_tokens_a)\n",
      "            row[col_b] = ' '.join(filtered_tokens_b)\n",
      "            row[col_c] = ' '.join(filtered_tokens_c)\n",
      "            wtr.writerow(row)    \n",
      "\n",
      "\n",
      "def extract_csv(infilename, outfilename, column):\n",
      "    ''' Isolate a column in the csv-file and write it into another file. '''\n",
      "    with open(outfilename, 'w') as f:\n",
      "        for row in row_stream(infilename):\n",
      "            f.write(row[column] + '\\n')\n",
      "            \n",
      "def extract_from_csvs(infiletemplate, outfilename, n, column):\n",
      "    ''' Isolate a column from multiple csv-files and write them\n",
      "        serially into another file. '''\n",
      "    with open(outfilename, 'w') as f:\n",
      "        for eid in xrange(n):\n",
      "            for row in row_stream(infiletemplate % eid):\n",
      "                f.write(row[column] + '\\n')"
     ],
     "language": "python",
     "metadata": {},
     "outputs": [],
     "prompt_number": 8
    },
    {
     "cell_type": "code",
     "collapsed": false,
     "input": [
      "from numba import autojit\n",
      "import numpy as np\n",
      "from matplotlib import pyplot as plt\n",
      "from __future__ import division\n",
      "import operator\n",
      "\n",
      "@autojit\n",
      "def delta(a, b):\n",
      "    ''' Record the delta changes from `a` into `b`. '''\n",
      "    b[0] = a[0]\n",
      "    for i in xrange(1, len(a)):\n",
      "        b[i] = b[i-1] + a[i]\n",
      "\n",
      "def plot_dict_hist(gdict):\n",
      "    ''' Provided gensim-dict `gdict`, plot hist statistics '''\n",
      "    if type(gdict) == str:\n",
      "        gdict = Dictionary.load(gdict)\n",
      "    sorted_dfs = sorted(gdict.dfs.iteritems(), key=operator.itemgetter(1), reverse=True)\n",
      "    y = [tup[1] for tup in sorted_dfs]\n",
      "    x = arange(0, len(y))\n",
      "    \n",
      "    plt.figure(figsize=(8,5));\n",
      "    plt.loglog(x, y);\n",
      "    plt.grid();\n",
      "    plt.xlabel(\"Token rank\");\n",
      "    plt.ylabel(\"Document count\");\n",
      "    \n",
      "    cdf = np.empty(len(y))\n",
      "    delta(y, cdf)\n",
      "    cdf /= np.max(cdf) # normalize\n",
      "    \n",
      "    x50 = x[cdf > 0.50][0]\n",
      "    x80 = x[cdf > 0.80][0]\n",
      "    x90 = x[cdf > 0.90][0]\n",
      "    x95 = x[cdf > 0.95][0]\n",
      "    \n",
      "    plt.axvline(x50, color='c');\n",
      "    plt.axvline(x80, color='g');\n",
      "    plt.axvline(x90, color='r');\n",
      "    plt.axvline(x95, color='k');\n",
      "    \n",
      "    print \"50%\\t\", x50\n",
      "    print \"80%\\t\", x80\n",
      "    print \"90%\\t\", x90\n",
      "    print \"95%\\t\", x95\n",
      "\n",
      "def analyze_top_dfs(tokendict, tagdict, cutoff_factor=1):\n",
      "    ''' Provided gensim-dicts `tokendict` and `tagsdict`, show the top word frequencies. '''\n",
      "    if type(tokendict) == str:\n",
      "        tokendict = Dictionary.load(tokendict)\n",
      "    if type(tagdict) == str:\n",
      "        tagdict = Dictionary.load(tagdict)\n",
      "    \n",
      "    max_tag_df = max(tagdict.dfs.iteritems(), key=operator.itemgetter(1))\n",
      "    sorted_dfs = sorted(tokendict.dfs.iteritems(), key=operator.itemgetter(1), reverse=True)\n",
      "    print \"count threshold: %-15s\\t%d\" % (tagdict[max_tag_df[0]], max_tag_df[1])\n",
      "    print \"----------------------------------------------\"\n",
      "    for tup in sorted_dfs[:100]:\n",
      "        if tup[1] > max_tag_df[1] * cutoff_factor:\n",
      "            print \"%-15s\\t%d\" % (tokendict[tup[0]][:15], tup[1])\n",
      "        else: break"
     ],
     "language": "python",
     "metadata": {},
     "outputs": [],
     "prompt_number": 9
    },
    {
     "cell_type": "markdown",
     "metadata": {},
     "source": [
      "##Main\n",
      "Remove dupes"
     ]
    },
    {
     "cell_type": "code",
     "collapsed": false,
     "input": [
      "remove_duplicate_rows(\"../data/Train.csv\", \"../data/Train_no_dupes.csv\", key=1)"
     ],
     "language": "python",
     "metadata": {},
     "outputs": [],
     "prompt_number": 9
    },
    {
     "cell_type": "markdown",
     "metadata": {},
     "source": [
      "NLTK Process"
     ]
    },
    {
     "cell_type": "code",
     "collapsed": false,
     "input": [
      "split_csv(\"../data/Train_no_dupes.csv\", \"../data/Train_%d.csv\", 4)"
     ],
     "language": "python",
     "metadata": {},
     "outputs": [],
     "prompt_number": 11
    },
    {
     "cell_type": "code",
     "collapsed": false,
     "input": [
      "from IPython.parallel import Client\n",
      "client = Client()\n",
      "dv = client[:]\n",
      "for i, target in enumerate(dv.targets):\n",
      "    dv.client[target]['eid'] = i\n",
      "print dv['eid']"
     ],
     "language": "python",
     "metadata": {},
     "outputs": [
      {
       "output_type": "stream",
       "stream": "stdout",
       "text": [
        "[0, 1, 2, 3]\n"
       ]
      }
     ],
     "prompt_number": 18
    },
    {
     "cell_type": "code",
     "collapsed": false,
     "input": [
      "%%px\n",
      "process_csv(\"../data/Train_%d.csv\" % eid, \"../data/proc_Train_%d.csv\" % eid)"
     ],
     "language": "python",
     "metadata": {},
     "outputs": [],
     "prompt_number": 19
    },
    {
     "cell_type": "markdown",
     "metadata": {},
     "source": [
      "Prune by term-frequency"
     ]
    },
    {
     "cell_type": "code",
     "collapsed": false,
     "input": [
      "loaded = True\n",
      "if loaded:\n",
      "    utitledict = Dictionary.load(\"../working/utitledict.pickle\")\n",
      "    ubodydict = Dictionary.load(\"../working/ubodydict.pickle\")\n",
      "    utagdict = Dictionary.load(\"../working/utagdict.pickle\")\n",
      "    print \"utitledict:\", utitledict\n",
      "    print \"ubodydict:\", ubodydict\n",
      "    print \"utagdict:\", utagdict\n",
      "    print \"loaded...\"\n",
      "else:\n",
      "    #utagdict = build_dictionary_from_splits(\"../data/proc_Train_%d.csv\",\n",
      "    #                                        -1, 4, \"../working/utagdict.pickle\")\n",
      "    utitledict, ubodydict, utagdict = build_dictionaries_from_splits(\"../data/proc_Train_%d.csv\",\n",
      "        4, save_pickle_tup=(\"../working/utitledict.pickle\", \"../working/ubodydict.pickle\", \"../working/utagdict.pickle\"))\n",
      "    print \"saved...\""
     ],
     "language": "python",
     "metadata": {},
     "outputs": [
      {
       "output_type": "stream",
       "stream": "stdout",
       "text": [
        "Before filtering...\n",
        "utitledict: Dictionary(347642 unique tokens)\n",
        "ubodydict: Dictionary(2287137 unique tokens)\n",
        "utagdict: Dictionary(41573 unique tokens)\n",
        "saving utitledict...\n",
        "saving ubodydict..."
       ]
      },
      {
       "output_type": "stream",
       "stream": "stdout",
       "text": [
        "\n",
        "saving utagdict..."
       ]
      },
      {
       "output_type": "stream",
       "stream": "stdout",
       "text": [
        "\n"
       ]
      }
     ],
     "prompt_number": 34
    },
    {
     "cell_type": "code",
     "collapsed": false,
     "input": [
      "analyze_top_dfs(utitledict, utagdict)\n",
      "print\n",
      "analyze_top_dfs(ubodydict, utagdict, cutoff_factor=2)"
     ],
     "language": "python",
     "metadata": {},
     "outputs": [
      {
       "output_type": "stream",
       "stream": "stdout",
       "text": [
        "count threshold: c#             \t327236\n",
        "----------------------------------------------\n",
        "\n",
        "count threshold: c#             \t327236"
       ]
      },
      {
       "output_type": "stream",
       "stream": "stdout",
       "text": [
        "\n",
        "----------------------------------------------\n",
        "work           \t1114324\n",
        "ode            \t797050\n",
        "problem        \t712237\n",
        "file           \t694302\n"
       ]
      }
     ],
     "prompt_number": 55
    },
    {
     "cell_type": "code",
     "collapsed": false,
     "input": [
      "print \"utagdict\"\n",
      "plot_dict_hist(utagdict)"
     ],
     "language": "python",
     "metadata": {},
     "outputs": [
      {
       "output_type": "stream",
       "stream": "stdout",
       "text": [
        "utagdict\n",
        "50%\t"
       ]
      },
      {
       "output_type": "stream",
       "stream": "stdout",
       "text": [
        "197\n",
        "80%\t1865\n",
        "90%\t4659\n",
        "95%\t8882\n"
       ]
      },
      {
       "metadata": {},
       "output_type": "display_data",
       "png": "[encoded data removed]",
       "text": [
        "<matplotlib.figure.Figure at 0x153b6190>"
       ]
      }
     ],
     "prompt_number": 56
    },
    {
     "cell_type": "code",
     "collapsed": false,
     "input": [
      "N = utitledict.num_docs\n",
      "with open(\"../working/N.pickle\", 'w') as picklefile:\n",
      "    pickle.dump(N, picklefile)\n",
      "print \"number of documents before pruning:\", N"
     ],
     "language": "python",
     "metadata": {},
     "outputs": [
      {
       "output_type": "stream",
       "stream": "stdout",
       "text": [
        "number of documents before pruning: 4125233\n"
       ]
      }
     ],
     "prompt_number": 63
    },
    {
     "cell_type": "code",
     "collapsed": false,
     "input": [
      "titledict = filter_extremes_wrapper(utitledict, no_below=3, no_above=1.0, keep_n=None,\n",
      "                save_pickle=\"../working/titledict.pickle\")\n",
      "del utitledict\n",
      "\n",
      "with open(\"../working/N.pickle\", 'r') as picklefile:\n",
      "    N = pickle.load(picklefile)\n",
      "no_above = 2*327236/N\n",
      "bodydict = filter_extremes_wrapper(ubodydict, no_below=3, no_above=no_above, keep_n=None,\n",
      "               save_pickle=\"../working/bodydict.pickle\")\n",
      "del ubodydict\n",
      "\n",
      "tagdict = filter_extremes_wrapper(utagdict, no_below=100, no_above=1.0, keep_n=None,\n",
      "              save_pickle=\"../working/tagdict.pickle\")\n",
      "del utagdict"
     ],
     "language": "python",
     "metadata": {},
     "outputs": [
      {
       "output_type": "stream",
       "stream": "stdout",
       "text": [
        "Before filtering: Dictionary(347642 unique tokens)\n",
        "After filtering:"
       ]
      },
      {
       "output_type": "stream",
       "stream": "stdout",
       "text": [
        " Dictionary(90368 unique tokens)\n",
        "Before filtering: Dictionary(2287137 unique tokens)\n",
        "After filtering:"
       ]
      },
      {
       "output_type": "stream",
       "stream": "stdout",
       "text": [
        " Dictionary(371689 unique tokens)\n",
        "Before filtering: Dictionary(41573 unique tokens)\n",
        "After filtering: Dictionary(8149 unique tokens)\n"
       ]
      }
     ],
     "prompt_number": 65
    },
    {
     "cell_type": "code",
     "collapsed": false,
     "input": [
      "%%px\n",
      "titledict = Dictionary.load(\"../working/titledict.pickle\")\n",
      "tagdict = Dictionary.load(\"../working/tagdict.pickle\")\n",
      "\n",
      "prune_csv_file2(\"../data/proc_Train_%d.csv\" % eid, \"../data/pruned_Train_%d.csv\" % eid,\n",
      "    (titledict, tagdict), (1, -1))"
     ],
     "language": "python",
     "metadata": {},
     "outputs": [],
     "prompt_number": 20
    },
    {
     "cell_type": "code",
     "collapsed": false,
     "input": [
      "extract_from_csvs(\"../data/pruned_Train_%d.csv\", \"../data/titleonly.txt\", 4, 1)\n",
      "extract_from_csvs(\"../data/pruned_Train_%d.csv\", \"../data/tagsonly.txt\", 4, -1)"
     ],
     "language": "python",
     "metadata": {},
     "outputs": [],
     "prompt_number": 21
    },
    {
     "cell_type": "code",
     "collapsed": false,
     "input": [
      "import pickle\n",
      "\n",
      "num_eng = 2\n",
      "\n",
      "\n",
      "with open(\"../data/titleonly.txt\") as f_titles:\n",
      "    titles_lst = f_titles.read().split('\\n')[:-1]\n",
      "    tl = len(titles_lst)\n",
      "with open(\"../working/titles_lst.pickle\", 'wb') as picklefile:\n",
      "    pickle.dump(titles_lst, picklefile, -1)\n",
      "for eid in xrange(num_eng):\n",
      "    with open(\"../working/titles_lst_%d.pickle\" % eid, 'wb') as picklefile:\n",
      "        pickle.dump(titles_lst[eid*tl//2 : (eid+1)*tl//2], picklefile, -1)\n",
      "\n",
      "del titles_lst\n",
      "\n",
      "# with open(\"../data/bodyonly.txt\") as f_bodies:\n",
      "#     bodies_lst = f_bodies.read().split('\\n')[:-1]\n",
      "#     bl = len(bodies_lst)\n",
      "# with open(\"../working/bodies_lst.pickle\", 'wb') as picklefile:\n",
      "#     pickle.dump(bodies_lst, picklefile, -1)\n",
      "# for eid in xrange(num_eng):\n",
      "#     with open(\"../working/bodies_lst_%d.pickle\" % eid, 'wb') as picklefile:\n",
      "#         pickle.dump(bodies_lst[eid*bl//2 : (eid+1)*bl//2], picklefile, -1)\n",
      "\n",
      "# del bodies_lst\n",
      "\n",
      "with open(\"../data/tagsonly.txt\") as f_tags:\n",
      "    tags_lst = f_tags.read().split('\\n')[:-1]\n",
      "    tl = len(tags_lst)\n",
      "with open(\"../working/tags_lst.pickle\", 'wb') as picklefile:\n",
      "    pickle.dump(tags_lst, picklefile, -1)\n",
      "for eid in xrange(num_eng):\n",
      "    with open(\"../working/tags_lst_%d.pickle\" % eid, 'wb') as picklefile:\n",
      "        pickle.dump(tags_lst[eid*tl//2 : (eid+1)*tl//2], picklefile, -1)\n",
      "\n",
      "del tags_lst"
     ],
     "language": "python",
     "metadata": {},
     "outputs": [],
     "prompt_number": 4
    },
    {
     "cell_type": "markdown",
     "metadata": {},
     "source": [
      "#Recommenders\n",
      "##`networkx` version\n",
      "###Basic Recommender"
     ]
    },
    {
     "cell_type": "code",
     "collapsed": false,
     "input": [
      "from collections import Counter\n",
      "from itertools import islice\n",
      "\n",
      "def basic_recommender(title, usefulness):\n",
      "    return Counter({word: usefulness.get(word, 0) for word in title.split()})\n",
      "\n",
      "def line_stream(infilename, start=None, stop=None):\n",
      "    with open(infilename) as f:\n",
      "        for line in islice(f, start, stop):\n",
      "            yield line"
     ],
     "language": "python",
     "metadata": {},
     "outputs": [],
     "prompt_number": 10
    },
    {
     "cell_type": "code",
     "collapsed": false,
     "input": [
      "from __future__ import division\n",
      "from gensim.corpora.dictionary import Dictionary\n",
      "from collections import defaultdict\n",
      "import csv\n",
      "\n",
      "assert 3 / 4 == 0.75\n",
      "\n",
      "common, usefulness = defaultdict(int), defaultdict(int)\n",
      "total = Dictionary.load(\"../working/titledict.pickle\")\n",
      "\n",
      "num_eng = 4\n",
      "for eid in xrange(num_eng):\n",
      "    for row in row_stream(\"../data/pruned_Train_%d.csv\" % eid):\n",
      "        ID, title, body, tags = row\n",
      "        title_tokens = title.split()\n",
      "        tags = set(tags.split())\n",
      "        for token in title_tokens:\n",
      "            if token in tags:\n",
      "                common[token] += 1\n",
      "            \n",
      "for (hash_id, count) in total.dfs.iteritems():\n",
      "    token = total[hash_id]\n",
      "    usefulness[token] = common[token] / count"
     ],
     "language": "python",
     "metadata": {},
     "outputs": [],
     "prompt_number": 11
    },
    {
     "cell_type": "markdown",
     "metadata": {},
     "source": [
      "###Tag ==> Tag recommender"
     ]
    },
    {
     "cell_type": "code",
     "collapsed": false,
     "input": [
      "import networkx as nx\n",
      "from itertools import combinations\n",
      "\n",
      "G = nx.Graph()\n",
      "\n",
      "num_eng = 4\n",
      "for eid in xrange(num_eng):\n",
      "    for row in row_stream(\"../data/pruned_Train_%d.csv\" % eid):\n",
      "        ID, title, body, tags = row\n",
      "        title_tokens = title.split()\n",
      "        tags = tags.split()\n",
      "        \n",
      "        # add tags\n",
      "        for tag in tags:\n",
      "            if tag:\n",
      "                if not G.has_node(tag):\n",
      "                    G.add_node(tag)\n",
      "                    G.node[tag]['tag_count'] = 1\n",
      "                else:\n",
      "                    G.node[tag]['tag_count'] += 1\n",
      "        \n",
      "        # add edges\n",
      "        for edge in combinations(tags, 2):\n",
      "            ni, nj = edge\n",
      "            if not G.has_edge(ni, nj):\n",
      "                G.add_edge(ni, nj, weight=1)\n",
      "            else:\n",
      "                G.edge[ni][nj]['weight'] += 1"
     ],
     "language": "python",
     "metadata": {},
     "outputs": [],
     "prompt_number": 12
    },
    {
     "cell_type": "code",
     "collapsed": false,
     "input": [
      "def tag2tag_recommender(tags, n_recs=10):\n",
      "    ''' Given a Counter {tags: scores}, generate and score associated tags. '''\n",
      "    \n",
      "    total_scores = Counter()\n",
      "    \n",
      "    # prune tokens with usefulness == 0\n",
      "    tags -= Counter()\n",
      "    \n",
      "    for tag in tags:\n",
      "        tag_scores = Counter({nj: tags[tag]*G.edge[tag][nj]['weight']/G.node[tag]['tag_count']\n",
      "                              for _, nj in G.edges(tag)})\n",
      "        tag_scores = dict(tag_scores.most_common(n_recs)) # keep best n_recs\n",
      "        #total_scores = combine_tags(total_scores, tag_scores)\n",
      "        combine_tags(total_scores, tag_scores)\n",
      "    \n",
      "    return total_scores\n",
      "\n",
      "def combine_tags(c1, c2):\n",
      "    \"\"\"\n",
      "        Probabilistic union of two tag sets.\n",
      "        c1, c2: Counters with tags as key, probs as the values\n",
      "        \n",
      "        Example:\n",
      "\n",
      "            c1 = Counter({'php': 0.2, 'xml': 0.14})\n",
      "            c2 = Counter({'php': 0.1, 'jquery': 0.1})\n",
      "            combine_tags(c1,c2)\n",
      "    \"\"\"\n",
      "    \n",
      "    for t in c1:\n",
      "        if t in c2:\n",
      "            c1[t] = 1 - (1 - c1[t])*(1 - c2[t])\n",
      "    if c2:\n",
      "        for t in c2:\n",
      "            if t not in c1:\n",
      "                c1[t] = c2[t] # add missing items from c2\n",
      "    \n",
      "    #return Counter(dict(c2, **c1)) # add missing items from c2"
     ],
     "language": "python",
     "metadata": {},
     "outputs": [],
     "prompt_number": 13
    },
    {
     "cell_type": "markdown",
     "metadata": {},
     "source": [
      "###Title ==> Tag recommender"
     ]
    },
    {
     "cell_type": "code",
     "collapsed": false,
     "input": [
      "Y = nx.Graph()\n",
      "\n",
      "num_eng = 4\n",
      "for eid in xrange(num_eng):\n",
      "    for row in row_stream(\"../data/pruned_Train_%d.csv\" % eid):\n",
      "        ID, title, body, tags = row\n",
      "        title = title.split()\n",
      "        tags = tags.split()\n",
      "        \n",
      "        # add tags\n",
      "        for token in title:\n",
      "            if not Y.has_node(token):              # add title token if not done so already\n",
      "                Y.add_node(token, count=1)\n",
      "            elif not Y.node[token].get('count'):   # if title token is a tag recently added into the graph,\n",
      "                Y.node[token]['count'] = 1         # then start counting it\n",
      "                \n",
      "            else:                                  # if title token already added, increase its count\n",
      "                Y.node[token]['count'] += 1\n",
      "        \n",
      "        for tag in tags:\n",
      "            if not Y.has_edge(token, tag):\n",
      "                Y.add_edge(token, tag, weight=1)\n",
      "            else:\n",
      "                Y.edge[token][tag]['weight'] += 1"
     ],
     "language": "python",
     "metadata": {},
     "outputs": [],
     "prompt_number": 14
    },
    {
     "cell_type": "code",
     "collapsed": false,
     "input": [
      "from collections import Counter\n",
      "\n",
      "def title2tag_recommender(tokens, n_recs=10):\n",
      "    total_scores = Counter()\n",
      "    for token in tokens:\n",
      "        if Y.has_node(token):\n",
      "            tag_scores = Counter({nj: Y.edge[token][nj]['weight'] / Y.node[token]['count']\n",
      "                              for _,nj in Y.edges(token)})\n",
      "            tag_scores = dict(tag_scores.most_common(n_recs))\n",
      "            #total_scores = combine_tags(total_scores, tag_scores)\n",
      "            combine_tags(total_scores, tag_scores)\n",
      "    return total_scores - Counter()"
     ],
     "language": "python",
     "metadata": {},
     "outputs": [],
     "prompt_number": 15
    },
    {
     "cell_type": "markdown",
     "metadata": {},
     "source": [
      "##Submission\n",
      "Normalize and combine recommenders"
     ]
    },
    {
     "cell_type": "code",
     "collapsed": false,
     "input": [
      "from itertools import izip\n",
      "\n",
      "def normalize(rec, weight=1):\n",
      "    ''' Normalize each recommendation proportionally to the score of the leading tag. '''\n",
      "    if rec: \n",
      "        max_score = rec[max(rec)]\n",
      "        for tag in rec:\n",
      "            rec[tag] = weight * rec[tag] / max_score\n",
      "    return rec\n",
      "\n",
      "def meta_recommender(recommendations, weights):\n",
      "    ''' Probabilistically combine `recommendations` with corresponding `weights` '''\n",
      "    total = Counter()\n",
      "    for rec, weight in izip(recommendations, weights):\n",
      "        rec = normalize(rec, weight)\n",
      "        combine_tags(total, rec) # accumulate tag scores\n",
      "    return total"
     ],
     "language": "python",
     "metadata": {},
     "outputs": [],
     "prompt_number": 19
    },
    {
     "cell_type": "markdown",
     "metadata": {},
     "source": [
      "Selecting tags for submission"
     ]
    },
    {
     "cell_type": "code",
     "collapsed": false,
     "input": [
      "def select_tags(rec, threshold=0.3):\n",
      "    ''' Select at most 5 tags with score greater than `threshold` '''\n",
      "    return [tag for tag, score in rec.most_common(5) if score > threshold]"
     ],
     "language": "python",
     "metadata": {},
     "outputs": [],
     "prompt_number": 20
    },
    {
     "cell_type": "code",
     "collapsed": false,
     "input": [
      "import time\n",
      "tp, fp, fn = 0, 0, 0\n",
      "\n",
      "num_eng = 1\n",
      "start = 20000\n",
      "t0 = time.time()\n",
      "for eid in xrange(num_eng):\n",
      "    for row in row_stream(\"../data/pruned_Train_%d.csv\" % eid, start=start, stop=start+10000):\n",
      "        ID, title, body, tags = row\n",
      "        tags = tags.split()\n",
      "        basic = basic_recommender(title, usefulness)\n",
      "        tag2tag = tag2tag_recommender(basic, 10)\n",
      "        title2tag = title2tag_recommender(basic, 10)\n",
      "        recommendations = meta_recommender([basic - Counter(), tag2tag, title2tag], [0.33, 0.39, 0.33])\n",
      "        selections = select_tags(recommendations, threshold=0.3)\n",
      "        \n",
      "        tags_set = set(tags)\n",
      "        selections_set = set(selections)\n",
      "        tp += len(selections_set & tags_set)\n",
      "        fp += len(selections_set - tags_set)\n",
      "        fn += len(tags_set - selections_set)\n",
      "t1 = time.time()\n",
      "\n",
      "print \"tp:\", tp\n",
      "print \"fp:\", fp\n",
      "print \"fn:\", fn\n",
      "p = tp / (tp + fp)\n",
      "r = tp / (tp + fn)\n",
      "f1 = 2*p*r/(p+r)\n",
      "print \"p:\", p\n",
      "print \"r:\", r\n",
      "print \"f1:\", f1\n",
      "print \"time elapsed:\", t1 - t0, \"seconds\""
     ],
     "language": "python",
     "metadata": {},
     "outputs": [
      {
       "output_type": "stream",
       "stream": "stdout",
       "text": [
        "tp: 7481\n",
        "fp: 42434\n",
        "fn: 19915\n",
        "p: 0.149874787138\n",
        "r: 0.273069061177\n",
        "f1: 0.193530028068\n",
        "time elapsed: 209.28975606 seconds\n"
       ]
      }
     ],
     "prompt_number": 21
    },
    {
     "cell_type": "markdown",
     "metadata": {},
     "source": [
      "##`cython` version\n",
      "Note: `cython` can't re-declare, even if you delete the original variable reference. Also, `pickle` works only with pure-`python` objects. `-.-`"
     ]
    },
    {
     "cell_type": "code",
     "collapsed": false,
     "input": [
      "%load_ext cythonmagic"
     ],
     "language": "python",
     "metadata": {},
     "outputs": [],
     "prompt_number": 3
    },
    {
     "cell_type": "code",
     "collapsed": false,
     "input": [
      "%%cython -f\n",
      "from __future__ import division\n",
      "from itertools import islice, combinations, izip\n",
      "import csv, pickle, dill\n",
      "from collections import defaultdict\n",
      "from gensim.corpora.dictionary import Dictionary\n",
      "\n",
      "def row_stream(filename, start=None, stop=None):\n",
      "    ''' A csv-row generator, starting on row `start` and ending on row `stop` '''\n",
      "    with open(filename) as f:\n",
      "        for row in islice(csv.reader(f, delimiter=',', quotechar='\"'), start, stop):\n",
      "            yield row\n",
      "\n",
      "def line_stream(infilename, start=None, stop=None):\n",
      "    with open(infilename) as f:\n",
      "        for line in islice(f, start, stop):\n",
      "            yield line\n",
      "\n",
      "# Determine when building dictionaries, tags_lst &/ titles_lst should be in-core or out-of-core\n",
      "out_of_core_flag = False\n",
      "# Determine whether or not to save dictionaries for external use\n",
      "external_use_flag = True\n",
      "\n",
      "if not out_of_core_flag:\n",
      "    with open(\"../working/tags_lst.pickle\", 'rb') as picklefile:\n",
      "        tags_lst = pickle.load(picklefile)\n",
      "    with open(\"../working/titles_lst.pickle\", 'rb') as picklefile:\n",
      "        titles_lst = pickle.load(picklefile)\n",
      "\n",
      "\n",
      "''' Build usefulness '''\n",
      "common, usefulness = defaultdict(int), defaultdict(int)\n",
      "titledict = Dictionary.load(\"../working/titledict.pickle\")\n",
      "cdef bytes ID, title_str, body, tags_str, token\n",
      "\n",
      "if not out_of_core_flag:\n",
      "    for title_str, tags_str in izip(titles_lst, tags_lst):\n",
      "        tags = tags_str.split()\n",
      "        for token in title_str.split():\n",
      "            if token in tags:\n",
      "                common[token] += 1\n",
      "else:\n",
      "    num_eng = 4\n",
      "    for eid in xrange(num_eng):\n",
      "        for row in row_stream(\"../data/pruned_Train_%d.csv\" % eid):\n",
      "            ID, title_str, body, tags_str = row\n",
      "            tags = tags_str.split()\n",
      "            for token in title_str.split():\n",
      "                if token in tags:\n",
      "                    common[token] += 1\n",
      "\n",
      "cdef int hash_id, count\n",
      "for (hash_id, count) in titledict.dfs.iteritems():\n",
      "    usefulness[titledict[hash_id]] = common[titledict[hash_id]] / count\n",
      "del common, titledict\n",
      "\n",
      "# Save usefulness\n",
      "if external_use_flag:\n",
      "    temp = {}\n",
      "    for t_tag, t_use in usefulness.iteritems():\n",
      "        temp[t_tag] = t_use\n",
      "    with open(\"../working/usefulness.pickle\", 'wb') as picklefile:\n",
      "        pickle.dump(temp, picklefile, -1)\n",
      "    del temp, usefulness\n",
      "\n",
      "\n",
      "''' Build tag_occurrence and tags_co_occurrence '''\n",
      "tag_occurrence, tags_co_occurrence = defaultdict(int), defaultdict(lambda : defaultdict(int))\n",
      "cdef bytes tag, tag2\n",
      "if not out_of_core_flag:\n",
      "    for tags_str in tags_lst:\n",
      "        tags = tags_str.split()\n",
      "        for tag in tags:\n",
      "            tag_occurrence[tag] += 1\n",
      "        for tag, tag2 in combinations(tags, 2):\n",
      "            tags_co_occurrence[tag][tag2] += 1\n",
      "            tags_co_occurrence[tag2][tag] += 1\n",
      "else:\n",
      "    for eid in xrange(num_eng):\n",
      "        for tags_str in line_stream(\"../data/tags/pruned_tagsonly_%d.txt\" % eid):\n",
      "            tags = tags_str.split()\n",
      "            for tag in tags:\n",
      "                tag_occurrence[tag] += 1\n",
      "            for tag, tag2 in combinations(tags, 2):\n",
      "                tags_co_occurrence[tag][tag2] += 1\n",
      "                tags_co_occurrence[tag2][tag] += 1\n",
      "\n",
      "# Save tag_occurrence and tags_co_occurrence\n",
      "if external_use_flag:\n",
      "    temp = {}\n",
      "    for t_tag, t_count in tag_occurrence.iteritems():\n",
      "        temp[t_tag] = t_count\n",
      "    with open(\"../working/tag_occurrence.pickle\", 'wb') as picklefile:\n",
      "        pickle.dump(temp, picklefile, -1)\n",
      "    del temp, tag_occurrence\n",
      "    \n",
      "    temp = {}\n",
      "    for t_token, d in tags_co_occurrence.iteritems():\n",
      "        td = temp[t_token] = {}\n",
      "        for t_tag, t_count in d.iteritems():\n",
      "            td[t_tag] = t_count\n",
      "    with open(\"../working/tags_co_occurrence.pickle\", 'wb') as picklefile:\n",
      "        pickle.dump(temp, picklefile, -1)\n",
      "    del temp, tags_co_occurrence\n",
      "\n",
      "\n",
      "''' Build title_occurrence and title_tag_co_occurrence '''\n",
      "title_occurrence, title_tag_co_occurrence = defaultdict(int), defaultdict(lambda : defaultdict(int))\n",
      "if not out_of_core_flag:\n",
      "    for title_str, tags_str in izip(titles_lst, tags_lst):\n",
      "        for token in title_str.split():\n",
      "            title_occurrence[token] += 1\n",
      "            for tag in tags_str.split():\n",
      "                title_tag_co_occurrence[token][tag] += 1\n",
      "else:\n",
      "    num_eng = 4\n",
      "    for eid in xrange(num_eng):\n",
      "        for row in row_stream(\"../data/pruned_Train_%d.csv\" % eid):\n",
      "            ID, title_str, body, tags_str = row\n",
      "            for token in title_str.split():\n",
      "                title_occurrence[token] += 1\n",
      "                for tag in tags_str.split():\n",
      "                    title_tag_co_occurrence[token][tag] += 1\n",
      "\n",
      "# Save title_occurrence and title_tag_co_occurrence\n",
      "if external_use_flag:\n",
      "    temp = {}\n",
      "    for t_token, t_count in title_occurrence.iteritems():\n",
      "        temp[t_token] = t_count\n",
      "    with open(\"../working/title_occurrence.pickle\", 'wb') as picklefile:\n",
      "        pickle.dump(temp, picklefile, -1)\n",
      "    del temp, title_occurrence\n",
      "    \n",
      "    temp = {}\n",
      "    for t_token, d in title_tag_co_occurrence.iteritems():\n",
      "        td = temp[t_token] = {}\n",
      "        for t_tag, t_count in d.iteritems():\n",
      "            td[t_tag] = t_count\n",
      "    with open(\"../working/title_tag_co_occurrence.pickle\", 'wb') as picklefile:\n",
      "        pickle.dump(temp, picklefile, -1)\n",
      "    del temp, title_tag_co_occurrence"
     ],
     "language": "python",
     "metadata": {},
     "outputs": [],
     "prompt_number": 4
    },
    {
     "cell_type": "markdown",
     "metadata": {},
     "source": [
      "You must manually restart IPython and its engines due to cython's memory leak"
     ]
    },
    {
     "cell_type": "code",
     "collapsed": false,
     "input": [
      "from IPython.parallel import Client\n",
      "client = Client()\n",
      "dv = client[:]\n",
      "for i, target in enumerate(dv.targets):\n",
      "    dv.client[target]['eid'] = i\n",
      "print dv['eid']"
     ],
     "language": "python",
     "metadata": {},
     "outputs": [
      {
       "output_type": "stream",
       "stream": "stdout",
       "text": [
        "[0, 1]\n"
       ]
      }
     ],
     "prompt_number": 3
    },
    {
     "cell_type": "code",
     "collapsed": false,
     "input": [
      "%%px\n",
      "%load_ext cythonmagic"
     ],
     "language": "python",
     "metadata": {},
     "outputs": [],
     "prompt_number": 2
    },
    {
     "cell_type": "code",
     "collapsed": false,
     "input": [
      "%%px\n",
      "%%cython -f\n",
      "from __future__ import division\n",
      "from collections import Counter\n",
      "import pickle, csv, time\n",
      "from itertools import izip, islice\n",
      "\n",
      "def row_stream(filename, start=None, stop=None):\n",
      "    ''' A csv-row generator, starting on row `start` and ending on row `stop` '''\n",
      "    with open(filename) as f:\n",
      "        for row in islice(csv.reader(f, delimiter=',', quotechar='\"'), start, stop):\n",
      "            yield row\n",
      "\n",
      "# load from previous state\n",
      "with open(\"../working/usefulness.pickle\", 'rb') as picklefile:\n",
      "    usefulness = pickle.load(picklefile)\n",
      "with open(\"../working/tag_occurrence.pickle\", 'rb') as picklefile:\n",
      "    tag_occurrence = pickle.load(picklefile)\n",
      "with open(\"../working/tags_co_occurrence.pickle\", 'rb') as picklefile:\n",
      "    tags_co_occurrence = pickle.load(picklefile)\n",
      "with open(\"../working/title_occurrence.pickle\", 'rb') as picklefile:\n",
      "    title_occurrence = pickle.load(picklefile)\n",
      "with open(\"../working/title_tag_co_occurrence.pickle\", 'rb') as picklefile:\n",
      "    title_tag_co_occurrence = pickle.load(picklefile)\n",
      "\n",
      "out_of_core_flag = False\n",
      "\n",
      "def basic_recommender(bytes title, usefulness):\n",
      "    return Counter({token: usefulness.get(token, 0) for token in title.split()})\n",
      "\n",
      "def tag2tag_recommender(tags, int n_recs=10):\n",
      "    ''' Given a Counter {tags: scores}, generate and score associated tags. '''\n",
      "    total_scores = Counter()\n",
      "    \n",
      "    # prune tokens with usefulness == 0\n",
      "    tags -= Counter()\n",
      "    \n",
      "    cdef bytes tag, tag2\n",
      "    cdef double use, co_count\n",
      "    for tag,use in tags.iteritems():\n",
      "        tag_scores = Counter({tag2: use*co_count/tag_occurrence[tag]\n",
      "                              for tag2, co_count in tags_co_occurrence[tag].iteritems()})\n",
      "        tag_scores = dict(tag_scores.most_common(n_recs)) # keep best n_recs\n",
      "        combine_tags(total_scores, tag_scores)\n",
      "    \n",
      "    return total_scores\n",
      "\n",
      "def combine_tags(c1, c2):\n",
      "    \"\"\"\n",
      "        Probabilistic union of two tag sets.\n",
      "        c1, c2: Counters with tags as key, probs as the values\n",
      "        \n",
      "        Example:\n",
      "\n",
      "            c1 = Counter({'php': 0.2, 'xml': 0.14})\n",
      "            c2 = Counter({'php': 0.1, 'jquery': 0.1})\n",
      "            combine_tags(c1,c2)\n",
      "    \"\"\"\n",
      "    cdef bytes t\n",
      "    for t in c1:\n",
      "        if t in c2:\n",
      "            c1[t] = 1.0 - (1.0 - c1[t])*(1.0 - c2[t])\n",
      "    \n",
      "    for t in c2:\n",
      "        if t not in c1:\n",
      "            c1[t] = c2[t] # add missing items from c2\n",
      "    \n",
      "def title2tag_recommender(tokens, int n_recs=10):\n",
      "    total_scores = Counter()\n",
      "    cdef bytes token, tag\n",
      "    cdef double co_count\n",
      "    for token in tokens:\n",
      "        tag_scores = Counter({tag: co_count / title_occurrence[token]\n",
      "                              for tag, co_count in title_tag_co_occurrence[token].iteritems()})\n",
      "        tag_scores = dict(tag_scores.most_common(n_recs))\n",
      "        combine_tags(total_scores, tag_scores)\n",
      "    return total_scores - Counter()\n",
      "\n",
      "def normalize(rec, double weight):\n",
      "    ''' Normalize each recommendation proportionally to the score of the leading tag. '''\n",
      "    cdef double max_score\n",
      "    cdef bytes tag\n",
      "    if rec:\n",
      "        max_score = rec[max(rec)]\n",
      "        for tag in rec:\n",
      "            rec[tag] = weight * rec[tag] / max_score\n",
      "    return rec\n",
      "\n",
      "def meta_recommender(recommendations, weights):\n",
      "    ''' Probabilistically combine `recommendations` with corresponding `weights`. '''\n",
      "    total = Counter()\n",
      "    cdef double weight\n",
      "    for rec, weight in izip(recommendations, weights):\n",
      "        rec = normalize(rec, weight)\n",
      "        combine_tags(total, rec) # accumulate tag scores\n",
      "    return total\n",
      "\n",
      "def select_tags(rec, double threshold=0.3):\n",
      "    ''' Select at most 5 tags with score greather than `threshold`. '''\n",
      "    cdef bytes tag\n",
      "    cdef double score\n",
      "    return [tag for tag, score in rec.most_common(5) if score > threshold]\n",
      "\n",
      "\n",
      "cdef int tp, fp, fn\n",
      "tp, fp, fn = 0, 0, 0\n",
      "cdef double p, r, f1\n",
      "\n",
      "num_eng = 1\n",
      "n = 10000\n",
      "start = 0\n",
      "\n",
      "cdef double weight\n",
      "cdef double max_score\n",
      "cdef bytes tag\n",
      "\n",
      "cdef bytes ID, title_str, body, tags_str\n",
      "t0 = time.time()\n",
      "\n",
      "if not out_of_core_flag:\n",
      "    with open(\"../working/titles_lst.pickle\", 'rb') as picklefile:\n",
      "        titles_lst = pickle.load(picklefile)\n",
      "    with open(\"../working/tags_lst.pickle\", 'rb') as picklefile:\n",
      "        tags_lst = pickle.load(picklefile)\n",
      "    for title_str, tags_str in islice(izip(titles_lst, tags_lst), start, start+n):\n",
      "        basic = basic_recommender(title_str, usefulness)\n",
      "        tag2tag = tag2tag_recommender(basic, 10)\n",
      "        title2tag = title2tag_recommender(basic, 10)\n",
      "        recommendations = meta_recommender([basic - Counter(), tag2tag, title2tag],\n",
      "                                           [0.33, 0.39, 0.33])\n",
      "        selections = select_tags(recommendations, threshold=0.4)\n",
      "        \n",
      "        tags_set = set(tags_str.split())\n",
      "        selections_set = set(selections)\n",
      "        tp += len(selections_set & tags_set)\n",
      "        fp += len(selections_set - tags_set)\n",
      "        fn += len(tags_set - selections_set)\n",
      "else:\n",
      "    for eid in xrange(num_eng):\n",
      "        for row in row_stream(\"../data/pruned_Train_%d.csv\" % eid, start=start, stop=start+n):\n",
      "            ID, title_str, body, tags_str = row\n",
      "            basic = basic_recommender(title_str, usefulness)\n",
      "            tag2tag = tag2tag_recommender(basic, 10)\n",
      "            title2tag = title2tag_recommender(basic, 10)\n",
      "            recommendations = meta_recommender([basic - Counter(), tag2tag, title2tag],\n",
      "                                               [0.33, 0.39, 0.33])\n",
      "            selections = select_tags(recommendations, threshold=0.4)\n",
      "            \n",
      "            tags_set = set(tags_str.split())\n",
      "            selections_set = set(selections)\n",
      "            tp += len(selections_set & tags_set)\n",
      "            fp += len(selections_set - tags_set)\n",
      "            fn += len(tags_set - selections_set)\n",
      "\n",
      "t1 = time.time()\n",
      "\n",
      "print \"tp:\", tp\n",
      "print \"fp:\", fp\n",
      "print \"fn:\", fn\n",
      "p = tp / (tp + fp)\n",
      "r = tp / (tp + fn)\n",
      "if p == r == 0:\n",
      "    f1 = 0\n",
      "else:\n",
      "    f1 = 2*p*r/(p+r)\n",
      "print \"p:\", p\n",
      "print \"r:\", r\n",
      "print \"f1:\", f1\n",
      "print \"time elapsed:\", t1 - t0, \"seconds\""
     ],
     "language": "python",
     "metadata": {},
     "outputs": [
      {
       "output_type": "stream",
       "stream": "stdout",
       "text": [
        "[stdout:0] \n",
        "tp: 7950\n",
        "fp: 41689\n",
        "fn: 19315\n",
        "p: 0.160156328693\n",
        "r: 0.291582615074\n",
        "f1: 0.206751274316\n",
        "time elapsed: 138.360890865 seconds\n",
        "[stdout:1] \n",
        "tp: 7950\n",
        "fp: 41689\n",
        "fn: 19315\n",
        "p: 0.160156328693\n",
        "r: 0.291582615074\n",
        "f1: 0.206751274316\n",
        "time elapsed: 139.516354084 seconds\n"
       ]
      }
     ],
     "prompt_number": 5
    },
    {
     "cell_type": "code",
     "collapsed": false,
     "input": [
      "import pyximport; pyximport.install()"
     ],
     "language": "python",
     "metadata": {},
     "outputs": [
      {
       "metadata": {},
       "output_type": "pyout",
       "prompt_number": 2,
       "text": [
        "(None, <pyximport.pyximport.PyxImporter at 0x31209d0>)"
       ]
      }
     ],
     "prompt_number": 2
    },
    {
     "cell_type": "code",
     "collapsed": false,
     "input": [
      "from __future__ import division\n",
      "from lib.recommender.new_cython_recommender import *"
     ],
     "language": "python",
     "metadata": {},
     "outputs": [],
     "prompt_number": 3
    },
    {
     "cell_type": "code",
     "collapsed": false,
     "input": [
      "# import multiprocessing\n",
      "# import logging\n",
      "# import sys\n",
      "\n",
      "# multiprocessing.log_to_stderr(logging.DEBUG)"
     ],
     "language": "python",
     "metadata": {},
     "outputs": [],
     "prompt_number": 4
    },
    {
     "cell_type": "code",
     "collapsed": false,
     "input": [
      "# weights, threshold args\n",
      "args = [[0.33, 0.39, 0.33], 0.3]\n",
      "# kwargs\n",
      "kwargs = dict(\n",
      "               out_of_core_flag=True,\n",
      "               num_eng = 2,\n",
      "               start = 0,\n",
      "               n = 50,\n",
      "             )\n",
      "\n",
      "print 50*2/10000 * (139-20) + 40"
     ],
     "language": "python",
     "metadata": {},
     "outputs": [
      {
       "output_type": "stream",
       "stream": "stdout",
       "text": [
        "41.19\n"
       ]
      }
     ],
     "prompt_number": 5
    },
    {
     "cell_type": "code",
     "collapsed": false,
     "input": [
      "%time mp_boiler(*args, **kwargs)"
     ],
     "language": "python",
     "metadata": {},
     "outputs": [
      {
       "output_type": "stream",
       "stream": "stdout",
       "text": [
        "manage_dicts call time elapsed: 40.4363429546 seconds\n"
       ]
      },
      {
       "output_type": "stream",
       "stream": "stdout",
       "text": [
        "tp: 177\n",
        "fp: 354\n",
        "fn: 223\n",
        "p: 0.333333333333\n",
        "r: 0.4425\n",
        "f1: 0.380236305048\n",
        "CPU times: user 37.6 s, sys: 716 ms, total: 38.3 s\n",
        "Wall time: 2min 38s\n"
       ]
      },
      {
       "metadata": {},
       "output_type": "pyout",
       "prompt_number": 6,
       "text": [
        "0.3802363050483351"
       ]
      }
     ],
     "prompt_number": 6
    },
    {
     "cell_type": "code",
     "collapsed": false,
     "input": [
      "weights = [0.33, 0.39, 0.33]\n",
      "basic = Counter({'mime': 0.29154795821462487, 'image': 0.2118145767810748, 'upload': 0.15020918393064167, 'file': 0.061763216528256025, 'check': 0.006809448462929475, 'type': 0.0})\n",
      "tag2tag = Counter({'php': 0.12632635187299612, 'email': 0.07091707091707092, 'java': 0.057378085097799736, 'c#': 0.049675907239108974, 'android': 0.03411865099539857, 'mime-types': 0.03290922898766036, 'javascript': 0.027868012899552985, 'jquery': 0.026519480745750834, 'html': 0.025699563539166026, 'python': 0.02523303251334419, 'file': 0.02226385226798896, 'image': 0.018708817792939113, 'css': 0.015960075814379183, 'http': 0.012514777220659573, 'smtp': 0.012051266953227738, 'file-upload': 0.011670567721123246, 'perl': 0.010660736150932229, 'image-processing': 0.010591186935374473, 'iphone': 0.00824573377321542, 'ajax': 0.007038250071815866, 'ftp': 0.0067509745586805244, 'c': 0.0036794694943050876, 'c++': 0.003470827128829225, 'windows': 0.002652594856133739, 'upload': 0.0023595535305637274, 'linux': 0.0021235981775073547, 'mysql': 0.0004982523265558153, 'sql': 0.00038752958732118963})\n",
      "title2tag = Counter({'php': 0.5307614410057097, 'c#': 0.45773631357992073, 'java': 0.36125001732387774, 'javascript': 0.3495667494946266, 'mime-types': 0.34277620396600567, 'mime': 0.2898961284230406, 'android': 0.28353683154905907, 'jquery': 0.2486413181886601, 'image': 0.23727467524784285, 'file-upload': 0.19754977029096477, 'upload': 0.1472113817121968, 'c++': 0.14160287457236165, 'asp.net': 0.1286634787408819, 'html': 0.1199324826008542, 'email': 0.10576015108593012, 'css': 0.09406364020224549, 'python': 0.08080886492468553, 'iphone': 0.07156545369899202, '.net': 0.06376049104346737, 'file': 0.05860026232469648, 'types': 0.05449079293498685, 'generics': 0.05447289776489325, 'linux': 0.0448354224820913, 'mysql': 0.03720333547145606, 'windows': 0.03501025756825967, 'perl': 0.03493862134088763, 'custom-post-types': 0.026484851738515773})\n",
      "recommendations = meta_recommender([basic, tag2tag, title2tag], weights)\n",
      "print recommendations"
     ],
     "language": "python",
     "metadata": {},
     "outputs": [
      {
       "output_type": "stream",
       "stream": "stdout",
       "text": [
        "Counter({'php': 0.5913, 'mime': 0.450762416110866, 'c#': 0.3943120976418427, 'image': 0.38933951836324143, 'java': 0.36195978033277043, 'mime-types': 0.29306647887521897, 'javascript': 0.2846786846241397, 'email': 0.2702978000970837, 'android': 0.2630521411058522, 'upload': 0.2514795215426755, 'jquery': 0.22380756745175523, 'file': 0.16539617041820998, 'file-upload': 0.15443067778501984, 'html': 0.14799231239870214, 'python': 0.12422930906068108, 'css': 0.10487486331275075, 'c++': 0.09781323513465212, 'asp.net': 0.07999629344595566, 'iphone': 0.06881956236463904, 'perl': 0.05392034349890806, '.net': 0.03964297407225911, 'http': 0.03863614395327567, 'smtp': 0.037205175658709906, 'linux': 0.03424964784451334, 'types': 0.03387955544485798, 'generics': 0.0338684291540715, 'image-processing': 0.032697555526251254, 'windows': 0.029778509414760457, 'mysql': 0.02463375349924324, 'ajax': 0.02172878015798182, 'ftp': 0.020841891171941747, 'custom-post-types': 0.01646691036400322, 'c': 0.011359412201039998, 'check': 0.00770754151916405, 'sql': 0.0011963975592931796, 'type': 0.0})\n"
       ]
      }
     ],
     "prompt_number": 5
    },
    {
     "cell_type": "code",
     "collapsed": false,
     "input": [],
     "language": "python",
     "metadata": {},
     "outputs": []
    },
    {
     "cell_type": "code",
     "collapsed": false,
     "input": [],
     "language": "python",
     "metadata": {},
     "outputs": []
    },
    {
     "cell_type": "code",
     "collapsed": false,
     "input": [
      "from __future__ import division\n",
      "from collections import Counter\n",
      "from itertools import izip\n",
      "\n",
      "\n",
      "def meta_recommender(recommendations, weights):\n",
      "    ''' Probabilistically combine `recommendations` with corresponding `weights`. '''\n",
      "    total = Counter()\n",
      "    for rec, weight in izip(recommendations, weights):\n",
      "        rec = normalize(rec, weight)\n",
      "        combine_tags(total, rec) # accumulate tag scores\n",
      "    return total\n",
      "\n",
      "def normalize(rec, weight):\n",
      "    ''' Normalize each recommendation proportionally to the score of the leading tag. '''\n",
      "    if rec:\n",
      "        max_score = rec.most_common(1)[0][1]\n",
      "        print \"max_score:\", max_score\n",
      "        for tag in rec:\n",
      "            rec[tag] = weight * rec[tag] / max_score\n",
      "    return rec\n",
      "\n",
      "def combine_tags(c1, c2):\n",
      "    \"\"\"\n",
      "        Probabilistic union of two tag sets.\n",
      "        c1, c2: Counters with tags as key, probs as the values\n",
      "        \n",
      "        Example:\n",
      "\n",
      "            c1 = Counter({'php': 0.2, 'xml': 0.14})\n",
      "            c2 = Counter({'php': 0.1, 'jquery': 0.1})\n",
      "            combine_tags(c1,c2)\n",
      "    \"\"\"\n",
      "    for t in c1:\n",
      "        if t in c2:\n",
      "            c1[t] = 1.0 - (1.0 - c1[t])*(1.0 - c2[t])\n",
      "    \n",
      "    for t in c2:\n",
      "        if t not in c1:\n",
      "            c1[t] = c2[t] # add missing items from c2"
     ],
     "language": "python",
     "metadata": {},
     "outputs": [],
     "prompt_number": 12
    },
    {
     "cell_type": "code",
     "collapsed": false,
     "input": [
      "weights = [0.33, 0.39, 0.33]\n",
      "basic = Counter({'mime': 0.29154795821462487, 'image': 0.2118145767810748, 'upload': 0.15020918393064167, 'file': 0.061763216528256025, 'check': 0.006809448462929475, 'type': 0.0})\n",
      "tag2tag = Counter({'php': 0.12632635187299612, 'email': 0.07091707091707092, 'java': 0.057378085097799736, 'c#': 0.049675907239108974, 'android': 0.03411865099539857, 'mime-types': 0.03290922898766036, 'javascript': 0.027868012899552985, 'jquery': 0.026519480745750834, 'html': 0.025699563539166026, 'python': 0.02523303251334419, 'file': 0.02226385226798896, 'image': 0.018708817792939113, 'css': 0.015960075814379183, 'http': 0.012514777220659573, 'smtp': 0.012051266953227738, 'file-upload': 0.011670567721123246, 'perl': 0.010660736150932229, 'image-processing': 0.010591186935374473, 'iphone': 0.00824573377321542, 'ajax': 0.007038250071815866, 'ftp': 0.0067509745586805244, 'c': 0.0036794694943050876, 'c++': 0.003470827128829225, 'windows': 0.002652594856133739, 'upload': 0.0023595535305637274, 'linux': 0.0021235981775073547, 'mysql': 0.0004982523265558153, 'sql': 0.00038752958732118963})\n",
      "title2tag = Counter({'php': 0.5307614410057097, 'c#': 0.45773631357992073, 'java': 0.36125001732387774, 'javascript': 0.3495667494946266, 'mime-types': 0.34277620396600567, 'mime': 0.2898961284230406, 'android': 0.28353683154905907, 'jquery': 0.2486413181886601, 'image': 0.23727467524784285, 'file-upload': 0.19754977029096477, 'upload': 0.1472113817121968, 'c++': 0.14160287457236165, 'asp.net': 0.1286634787408819, 'html': 0.1199324826008542, 'email': 0.10576015108593012, 'css': 0.09406364020224549, 'python': 0.08080886492468553, 'iphone': 0.07156545369899202, '.net': 0.06376049104346737, 'file': 0.05860026232469648, 'types': 0.05449079293498685, 'generics': 0.05447289776489325, 'linux': 0.0448354224820913, 'mysql': 0.03720333547145606, 'windows': 0.03501025756825967, 'perl': 0.03493862134088763, 'custom-post-types': 0.026484851738515773})\n",
      "recommendations = meta_recommender([basic, tag2tag, title2tag], weights)\n",
      "print recommendations"
     ],
     "language": "python",
     "metadata": {},
     "outputs": [
      {
       "output_type": "stream",
       "stream": "stdout",
       "text": [
        "Counter({'php': 0.5913, 'mime': 0.450762416110866, 'c#': 0.3943120976418427, 'image': 0.38933951836324143, 'java': 0.36195978033277043, 'mime-types': 0.29306647887521897, 'javascript': 0.2846786846241397, 'email': 0.2702978000970837, 'android': 0.2630521411058522, 'upload': 0.2514795215426755, 'jquery': 0.22380756745175523, 'file': 0.16539617041820998, 'file-upload': 0.15443067778501984, 'html': 0.14799231239870214, 'python': 0.12422930906068108, 'css': 0.10487486331275075, 'c++': 0.09781323513465212, 'asp.net': 0.07999629344595566, 'iphone': 0.06881956236463904, 'perl': 0.05392034349890806, '.net': 0.03964297407225911, 'http': 0.03863614395327567, 'smtp': 0.037205175658709906, 'linux': 0.03424964784451334, 'types': 0.03387955544485798, 'generics': 0.0338684291540715, 'image-processing': 0.032697555526251254, 'windows': 0.029778509414760457, 'mysql': 0.02463375349924324, 'ajax': 0.02172878015798182, 'ftp': 0.020841891171941747, 'custom-post-types': 0.01646691036400322, 'c': 0.011359412201039998, 'check': 0.00770754151916405, 'sql': 0.0011963975592931796, 'type': 0.0})\n"
       ]
      }
     ],
     "prompt_number": 5
    },
    {
     "cell_type": "code",
     "collapsed": false,
     "input": [],
     "language": "python",
     "metadata": {},
     "outputs": [
      {
       "metadata": {},
       "output_type": "pyout",
       "prompt_number": 6,
       "text": [
        "0.29154795821462487"
       ]
      }
     ],
     "prompt_number": 6
    },
    {
     "cell_type": "code",
     "collapsed": false,
     "input": [
      "basic.most_common(1)[0][1]"
     ],
     "language": "python",
     "metadata": {},
     "outputs": [
      {
       "metadata": {},
       "output_type": "pyout",
       "prompt_number": 11,
       "text": [
        "0.29154795821462487"
       ]
      }
     ],
     "prompt_number": 11
    },
    {
     "cell_type": "code",
     "collapsed": false,
     "input": [],
     "language": "python",
     "metadata": {},
     "outputs": []
    }
   ],
   "metadata": {}
  }
 ]
}