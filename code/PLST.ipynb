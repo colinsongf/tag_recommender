{
 "metadata": {
  "name": ""
 },
 "nbformat": 3,
 "nbformat_minor": 0,
 "worksheets": [
  {
   "cells": [
    {
     "cell_type": "markdown",
     "metadata": {},
     "source": [
      "#Principle Label Space Transformation\n",
      "##Preprocessing"
     ]
    },
    {
     "cell_type": "code",
     "collapsed": false,
     "input": [
      "import csv\n",
      "import pickle"
     ],
     "language": "python",
     "metadata": {},
     "outputs": [],
     "prompt_number": 1
    },
    {
     "cell_type": "markdown",
     "metadata": {},
     "source": [
      "###Duplicate Removal"
     ]
    },
    {
     "cell_type": "code",
     "collapsed": false,
     "input": [
      "TOTAL_SIZE = 0\n",
      "title_set = set()\n",
      "fin = open(\"../data/Train.csv\", 'rb')\n",
      "fout = open(\"../data/Train_no_dupes.csv\", 'wb')\n",
      "with fin, fout:\n",
      "    rdr = csv.reader(fin, delimiter=',')\n",
      "    wtr = csv.writer(fout, delimiter=',')\n",
      "    # Ignore headers\n",
      "    headers = rdr.next()\n",
      "    \n",
      "    for row in rdr:\n",
      "        if row[1] not in title_set:\n",
      "            TOTAL_SIZE += 1\n",
      "            title_set.add(row[1])\n",
      "            wtr.writerow(row)\n",
      "\n",
      "print \"TOTAL_SIZE:\", TOTAL_SIZE\n",
      "\n",
      "with open(\"../working/TOTAL_SIZE.pickle\", 'w') as picklefile:\n",
      "    pickle.dump(TOTAL_SIZE, picklefile)\n",
      "    \n",
      "# Save the title_set\n",
      "with open(\"../working/title_set.pickle\", 'w') as picklefile:\n",
      "    pickle.dump(title_set, picklefile)"
     ],
     "language": "python",
     "metadata": {},
     "outputs": []
    },
    {
     "cell_type": "markdown",
     "metadata": {},
     "source": [
      "###Natural Language\n",
      "Split the `Train.csv` file in preparation for parallel processing."
     ]
    },
    {
     "cell_type": "code",
     "collapsed": false,
     "input": [
      "if 'TOTAL_SIZE' not in globals():\n",
      "    TOTAL_SIZE = -1\n",
      "    with open(\"../working/TOTAL_SIZE.pickle\", 'r') as picklefile:\n",
      "        TOTAL_SIZE = pickle.load(picklefile)\n",
      "\n",
      "num_eng = 4\n",
      "outfile_template = \"../data/Train_%d.csv\"\n",
      "\n",
      "with open(\"../data/Train_no_dupes.csv\", 'rb') as infile:\n",
      "    rdr = csv.reader(infile, delimiter=',')\n",
      "    # There are 'TOTAL_SIZE' rows, to be divided into 'num_eng' splits\n",
      "    for eng in range(num_eng):\n",
      "        if eng == num_eng - 1: # if last engine/split\n",
      "            split_size = TOTAL_SIZE - (num_eng - 1)*(TOTAL_SIZE / num_eng)\n",
      "        else:\n",
      "            split_size = TOTAL_SIZE / num_eng\n",
      "        \n",
      "        outfile = open(outfile_template % eng, 'wb')\n",
      "        wtr = csv.writer(outfile)\n",
      "        for NN in xrange(split_size):\n",
      "            wtr.writerow(rdr.next())\n",
      "        outfile.close()"
     ],
     "language": "python",
     "metadata": {},
     "outputs": []
    },
    {
     "cell_type": "markdown",
     "metadata": {},
     "source": [
      "Setup the IPython engines for parallel preprocessing. Make sure you have already turned on the IPython cluster engines. I'm assuming you have 4 engines for 4 processors."
     ]
    },
    {
     "cell_type": "code",
     "collapsed": false,
     "input": [
      "from IPython.parallel import Client\n",
      "client = Client()\n",
      "lv = client.load_balanced_view()\n",
      "dv = client[:]\n",
      "print lv\n",
      "print dv\n",
      "\n",
      "num_eng = 4\n",
      "engine_ids = range(num_eng)\n",
      "for eid in engine_ids:\n",
      "    client[eid]['eid'] = eid\n",
      "dv['leftoff'] = 0\n",
      "print dv['eid']"
     ],
     "language": "python",
     "metadata": {},
     "outputs": []
    },
    {
     "cell_type": "code",
     "collapsed": false,
     "input": [
      "%%px\n",
      "import nltk, csv, re\n",
      "from nltk.tokenize import RegexpTokenizer\n",
      "from bs4 import BeautifulSoup\n",
      "\n",
      "infilename = \"../data/Train_%d.csv\" % eid\n",
      "outfilename = \"../data/proc_Train_%d.csv\" % eid\n",
      "import pickle\n",
      "with open(\"../working/TOTAL_SIZE.pickle\", 'r') as picklefile:\n",
      "    TOTAL_SIZE = pickle.load(picklefile)\n",
      "num_eng = 4\n",
      "split_rows = TOTAL_SIZE / num_eng\n",
      "#TOTAL_SIZE = 6034195\n",
      "#SPLIT_SIZE = TOTAL_SIZE / 4\n",
      "#toyset_rows = SPLIT_SIZE / 4\n",
      "#split_rows = toyset_rows / 4\n",
      "\n",
      "# Stop List according to Treebank-POS tags\n",
      "REJECT = set([\"CC\", \"DT\", \"EX\", \"FW\", \"IN\", \"LS\", \"MD\", \"PDT\",\n",
      "    \"PRP\", \"PRP$\", \"RP\", \"TO\", \"UH\", \"WDT\", \"WP\", \"WP$\", \"WRB\",\n",
      "    \"JJR\", \"JJS\", \"CD\", \"RB\", \"RBR\", \"RBS\", \"POS\", \"VBP\"])\n",
      "# REFERENCE: Accept List\n",
      "ACCEPT = set([\"JJ\", \"NN\", \"NNP\", \"NNS\", \"NNPS\", \"VB\", \"VBG\", \"VBN\",\n",
      "                   \"VBZ\"])\n",
      "# Additional Stop-words list\n",
      "sw = set([])\n",
      "with open(\"../working/english.stop\", 'rb') as f:\n",
      "    for l in f:\n",
      "        sw.add(l.rstrip())\n",
      "# Tokenizer customized for StackOverflow posts\n",
      "#tokenizer = RegexpTokenizer(r\"[^\\W_]+[+#]*\")\n",
      "#tokenizer = RegexpTokenizer(r\"[^\\W\\d_-]+['_-]*[^\\W\\d_-]*[+#]*\")\n",
      "tokenizer = RegexpTokenizer(r\"([^\\W\\d_-]+'*[^\\W\\d_-]*[+#]*)|([^\\W\\d_-]+[_-]*[^\\W\\d_-]*[+#]*)\")\n",
      "# Brill Tagger\n",
      "tagger = pickle.load(open(\"../working/treebank_brill_aubt.pickle\"))\n",
      "# WordNet Lemmatizer\n",
      "lemmatizer = nltk.stem.WordNetLemmatizer()\n",
      "# Convert treebank POS to WordNet POS\n",
      "wntag_dict = {'J':'a', 'V':'v', 'N':'n', 'R': 'r'}\n",
      "tb2wn = lambda x: wntag_dict[x[0]] if x[0] in wntag_dict else 'n'"
     ],
     "language": "python",
     "metadata": {},
     "outputs": []
    },
    {
     "cell_type": "code",
     "collapsed": false,
     "input": [
      "%%px\n",
      "def process_title(title):\n",
      "    # Get rid of appended punctuations\n",
      "    tokens = tokenizer.tokenize(title)\n",
      "    tktag_tups = tagger.tag(tokens)\n",
      "    # Filter out tokens that have irrelevant POS tags\n",
      "    filtered_tups = [(tup[0].lower(), tup[1]) for tup in tktag_tups\n",
      "                     if tup[1] not in REJECT]\n",
      "    #filtered_tups = filter(lambda tup: tup[1] not in REJECT, tktag_tups)\n",
      "    ##filtered_tups = filter(lambda tup: re.match(r\"\\D+\", tup[0]), filtered_tups)\n",
      "    # Lemma + lower (normalize) tokens\n",
      "    lemmaed_tks = [lemmatizer.lemmatize(t[0],tb2wn(t[1]))\n",
      "                   for t in filtered_tups if t[0] not in sw] \n",
      "    ##concat_tks = re.sub(r\"\\'\", '', ' '.join(lemmaed_tks))\n",
      "    return concat_tks.encode('ascii', errors='ignore')\n",
      "\n",
      "def process_body(body):\n",
      "    # Parse HTML tags\n",
      "    soup = BeautifulSoup(body)\n",
      "    #body_lst = [unicode(tag.string) for tag in soup.find_all('p')]\n",
      "    body_lst = []\n",
      "    content_lst = []\n",
      "    for tag in soup.find_all('p'):\n",
      "        content_lst.extend(tag.contents)\n",
      "    for content in content_lst:\n",
      "        try:\n",
      "            body_lst.append(content.decode('ascii', errors='ignore')) # <-- beautifulsoup shenanigans\n",
      "        except TypeError:\n",
      "            body_lst.append(content.decode(eventual_encoding='ascii')) # <-- beautifulsoup shenanigans\n",
      "        except:\n",
      "            body_lst.append(content.encode('ascii', errors='ignore')) # <-- beautifulsoup shenanigans\n",
      "    #body_lst.extend([unicode(tag.string) for tag in soup.find_all('code')])\n",
      "    # Parse out pre-pended symbol tags (except C#)\n",
      "    tokens_lst = tokenizer.batch_tokenize(body_lst)\n",
      "    tokens = []\n",
      "    for tl in tokens_lst:\n",
      "        tokens.extend(tl)\n",
      "    # Filter out tokens that have irrelevant POS tags\n",
      "    tktag_tups = tagger.tag(tokens)\n",
      "    filtered_tups = [(tup[0].lower(), tup[1]) for tup in tktag_tups\n",
      "                     if tup[1] not in REJECT]\n",
      "    #filtered_tups = filter(lambda tup: tup[1] not in REJECT, tktag_tups)\n",
      "    ##filtered_tups = filter(lambda tup: re.match(r\"\\D+\", tup[0]), filtered_tups)\n",
      "    # Lemma + lower (normalize) tokens\n",
      "    lemmaed_tks = [lemmatizer.lemmatize(t[0],tb2wn(t[1]))\n",
      "                   for t in filtered_tups if t[0] not in sw]\n",
      "    ##concat_tks = re.sub(r\"\\'\", '', ' '.join(lemmaed_tks))\n",
      "    return concat_tks.encode('ascii', errors='ignore')\n",
      "\n",
      "def process_csv(infilename=infilename, outfilename=outfilename,\n",
      "                leftoff=leftoff):\n",
      "    fin = open(infilename, \"rb\")\n",
      "    inreader = csv.reader(fin, delimiter=\",\")\n",
      "    ## Ignore header\n",
      "    #inreader.next();\n",
      "    \n",
      "    if leftoff > 0:\n",
      "        fout = open(outfilename, \"ab\")\n",
      "    else:\n",
      "        fout = open(outfilename, \"wb\")\n",
      "    outreader = csv.writer(fout, delimiter=\",\")\n",
      "    batch_num = split_rows / 10\n",
      "    for i,row in enumerate(inreader):\n",
      "        if i < leftoff: continue\n",
      "        if (i % batch_num == 0):\n",
      "            print \"Percent completed: %.2f\" % (i / batch_num * 10.0)\n",
      "        newRow = []\n",
      "        # Pass id\n",
      "        newRow.append(row[0])\n",
      "        # Process title\n",
      "        title = row[1].decode('ascii', 'ignore')\n",
      "        '''\n",
      "        try:\n",
      "            process_title(title)\n",
      "        except:\n",
      "            print \"Error\"\n",
      "            print \"title.__repr__():\", title.__repr__()\n",
      "            print \"title.__str__():\", title.__str__()\n",
      "        '''\n",
      "        newTitle = process_title(title)#.encode('ascii', 'ignore')\n",
      "        newRow.append(newTitle)\n",
      "        # Process body\n",
      "        body = row[2].decode('ascii', 'ignore')\n",
      "        '''\n",
      "        try:\n",
      "            process_body(body)\n",
      "        except:\n",
      "            print \"Error\"\n",
      "            print \"body.__repr__():\", body.__repr__()\n",
      "            print \"body.__str__():\", body.__str__()\n",
      "        '''\n",
      "        newBody = process_body(body)#.encode('ascii', 'ignore')\n",
      "        newRow.append(newBody)\n",
      "        # Pass tags\n",
      "        newRow.append(row[-1].decode('ascii', 'ignore'))\n",
      "        # Write to output file\n",
      "        outreader.writerow(newRow)\n",
      "    fin.close()\n",
      "    fout.close()"
     ],
     "language": "python",
     "metadata": {},
     "outputs": []
    },
    {
     "cell_type": "code",
     "collapsed": false,
     "input": [
      "# Run this block ONCE\n",
      "ars = []\n",
      "for eid in engine_ids:\n",
      "    ars.append(client[eid].execute(\"process_csv()\"))"
     ],
     "language": "python",
     "metadata": {},
     "outputs": []
    },
    {
     "cell_type": "code",
     "collapsed": false,
     "input": [
      "ar = ars[2]\n",
      "ar.metadata"
     ],
     "language": "python",
     "metadata": {},
     "outputs": []
    },
    {
     "cell_type": "code",
     "collapsed": false,
     "input": [
      "ar.elapsed"
     ],
     "language": "python",
     "metadata": {},
     "outputs": []
    },
    {
     "cell_type": "markdown",
     "metadata": {},
     "source": [
      "Merge the 4 splits back into one processed training set."
     ]
    },
    {
     "cell_type": "code",
     "collapsed": false,
     "input": [
      "# No need for parallel processing as the HDD is the bottleneck\n",
      "fout = open(\"../data/proc_Train.csv\", \"wb\")\n",
      "with fout:\n",
      "    for eid in engine_ids:\n",
      "        fin = open(\"../data/proc_Train_%d.csv\" % eid, \"rb\")\n",
      "        fout.write(fin.read())\n",
      "        fin.close()"
     ],
     "language": "python",
     "metadata": {},
     "outputs": []
    },
    {
     "cell_type": "markdown",
     "metadata": {},
     "source": [
      "###Body/Title/Tags extraction\n",
      "Extract only bodies from `proc_Train.csv`. No splits... yet."
     ]
    },
    {
     "cell_type": "code",
     "collapsed": false,
     "input": [
      "fin = open('../data/proc_Train.csv', 'rb')\n",
      "fout = open('../data/bodyonly.txt', 'wb')\n",
      "with fin, fout:\n",
      "    rdr = csv.reader(fin, delimiter=',')\n",
      "    for row in rdr:\n",
      "        fout.write(row[2])\n",
      "        fout.write('\\n')"
     ],
     "language": "python",
     "metadata": {},
     "outputs": []
    },
    {
     "cell_type": "markdown",
     "metadata": {},
     "source": [
      "Extract only titles from `proc_Train.csv`"
     ]
    },
    {
     "cell_type": "code",
     "collapsed": false,
     "input": [
      "fin = open(\"../data/proc_Train.csv\", 'rb')\n",
      "fout = open('../data/titleonly.txt', 'wb')\n",
      "with fin, fout:\n",
      "    rdr = csv.reader(fin, delimiter=',')\n",
      "    for row in rdr:\n",
      "        fout.write(row[1])\n",
      "        fout.write('\\n')"
     ],
     "language": "python",
     "metadata": {},
     "outputs": []
    },
    {
     "cell_type": "markdown",
     "metadata": {},
     "source": [
      "Extract only tags from `proc_Train.csv`"
     ]
    },
    {
     "cell_type": "code",
     "collapsed": false,
     "input": [
      "fin = open(\"../data/proc_Train.csv\", 'rb')\n",
      "fout = open('../data/tagsonly.txt', 'wb')\n",
      "with fin, fout:\n",
      "    rdr = csv.reader(fin, delimiter=',')\n",
      "    for row in rdr:\n",
      "        fout.write(row[3])\n",
      "        fout.write('\\n')"
     ],
     "language": "python",
     "metadata": {},
     "outputs": []
    },
    {
     "cell_type": "markdown",
     "metadata": {},
     "source": [
      "Create splits from the above files. This is in preparation for parallelization when synchronizing the removal of filtered rows corresponding to filtered-out tags in `tagsonly.txt` (see below step)."
     ]
    },
    {
     "cell_type": "code",
     "collapsed": false,
     "input": [
      "prenames = ['body', 'title', 'tags']\n",
      "for eid in engine_ids[:-1]:\n",
      "    client[eid]['prename'] = prenames[eid]\n",
      "\n",
      "print client[:-1]['prename']"
     ],
     "language": "python",
     "metadata": {},
     "outputs": []
    },
    {
     "cell_type": "code",
     "collapsed": false,
     "input": [
      "%%px --targets=[0,1,2]\n",
      "# [0,1,2] and not range(num_eng-1) b/c python functions don't work with ipython-magic\n",
      "import csv\n",
      "import pickle\n",
      "with open(\"../working/TOTAL_SIZE.pickle\", 'r') as picklefile:\n",
      "    TOTAL_SIZE = pickle.load(picklefile)\n",
      "\n",
      "num_eng = 4\n",
      "infile_template = \"../data/%sonly.txt\"\n",
      "outfile_template = \"../data/%sonly_%d.txt\"\n",
      "\n",
      "with open(infile_template % prename, 'rb') as infile:\n",
      "    # There are 'TOTAL_SIZE' rows, to be divided into 'num_eng' splits\n",
      "    for eng in range(num_eng):\n",
      "        if eng == num_eng - 1: # if last engine/split\n",
      "            split_size = TOTAL_SIZE - (num_eng - 1)*(TOTAL_SIZE / num_eng)\n",
      "        else:\n",
      "            split_size = TOTAL_SIZE / num_eng\n",
      "        outfile = open(outfile_template % (prename,eng), 'wb')\n",
      "        for NN in xrange(split_size):\n",
      "            outfile.write(infile.readline()) # Don't become crazy :> Stay sane\n",
      "        outfile.close()"
     ],
     "language": "python",
     "metadata": {},
     "outputs": []
    },
    {
     "cell_type": "markdown",
     "metadata": {},
     "source": [
      "##Dimensionality Reduction - Pruning\n",
      "Reset memory and load necessary modules."
     ]
    },
    {
     "cell_type": "code",
     "collapsed": false,
     "input": [
      "%reset -f"
     ],
     "language": "python",
     "metadata": {},
     "outputs": []
    },
    {
     "cell_type": "code",
     "collapsed": false,
     "input": [
      "%pylab inline"
     ],
     "language": "python",
     "metadata": {},
     "outputs": []
    },
    {
     "cell_type": "code",
     "collapsed": false,
     "input": [
      "from gensim.corpora.dictionary import Dictionary\n",
      "import pickle"
     ],
     "language": "python",
     "metadata": {},
     "outputs": [],
     "prompt_number": 1
    },
    {
     "cell_type": "code",
     "collapsed": false,
     "input": [
      "bodydict = Dictionary.load(\"../working/bodydict.pickle\")\n",
      "print bodydict"
     ],
     "language": "python",
     "metadata": {},
     "outputs": [
      {
       "output_type": "stream",
       "stream": "stdout",
       "text": [
        "Dictionary(494479 unique tokens)\n"
       ]
      }
     ],
     "prompt_number": 16
    },
    {
     "cell_type": "code",
     "collapsed": false,
     "input": [
      "titledict = Dictionary.load(\"../working/titledict.pickle\")\n",
      "print titledict"
     ],
     "language": "python",
     "metadata": {},
     "outputs": [
      {
       "output_type": "stream",
       "stream": "stdout",
       "text": [
        "Dictionary(104054 unique tokens)\n"
       ]
      }
     ],
     "prompt_number": 17
    },
    {
     "cell_type": "code",
     "collapsed": false,
     "input": [
      "tagsdict = Dictionary.load(\"../working/tagsdict.pickle\")\n",
      "print tagsdict"
     ],
     "language": "python",
     "metadata": {},
     "outputs": [
      {
       "output_type": "stream",
       "stream": "stdout",
       "text": [
        "Dictionary(38802 unique tokens)\n"
       ]
      }
     ],
     "prompt_number": 18
    },
    {
     "cell_type": "code",
     "collapsed": false,
     "input": [
      "from IPython.parallel import Client\n",
      "client = Client()\n",
      "lv = client.load_balanced_view()\n",
      "dv = client[:]\n",
      "print lv\n",
      "print dv\n",
      "\n",
      "num_eng = 4\n",
      "engine_ids = range(num_eng)\n",
      "for eid in engine_ids:\n",
      "    client[eid]['eid'] = eid\n",
      "print dv['eid']"
     ],
     "language": "python",
     "metadata": {},
     "outputs": [
      {
       "output_type": "stream",
       "stream": "stdout",
       "text": [
        "<LoadBalancedView None>\n",
        "<DirectView [0, 1, 2, 3]>\n",
        "[0, 1, 2, 3]\n"
       ]
      }
     ],
     "prompt_number": 2
    },
    {
     "cell_type": "code",
     "collapsed": false,
     "input": [
      "%%px\n",
      "from gensim.corpora.dictionary import Dictionary\n",
      "import pickle"
     ],
     "language": "python",
     "metadata": {},
     "outputs": [],
     "prompt_number": 3
    },
    {
     "cell_type": "markdown",
     "metadata": {},
     "source": [
      "Note: the following steps will use the `Dictionary.filter_extremes` function. Since I do not want to use list-comprehensions, as that would eat into the memory by a lot, I will instead change `keep_n` defaulted to `None` in the `gensim` module source code.\n",
      "###Tags Prune Preparation\n",
      "Perform a percentile reduction (aka filter out 'insignificant' tags). This step is not meant for dimensionality reduction. Rather, it is a step that pre-filtering out examples that are insignificant (can be treated as noise reduction)."
     ]
    },
    {
     "cell_type": "code",
     "collapsed": false,
     "input": [
      "# Build my dictionary\n",
      "tagsdict = Dictionary(unicode(line, errors='ignore').split() for line in\n",
      "                    open('../data/tagsonly.txt', 'rb'))\n",
      "print \"Before filtering,\", tagsdict\n",
      "tagsdict.save(\"../working/unfiltered_tagsdict.pickle\")"
     ],
     "language": "python",
     "metadata": {},
     "outputs": [
      {
       "output_type": "stream",
       "stream": "stdout",
       "text": [
        "Before filtering, Dictionary(41573 unique tokens)\n"
       ]
      }
     ],
     "prompt_number": 4
    },
    {
     "cell_type": "code",
     "collapsed": false,
     "input": [
      "# Find the filter cut-off\n",
      "tagsdict = Dictionary.load(\"../working/unfiltered_tagsdict.pickle\")\n",
      "print tagsdict\n",
      "tagsdict.filter_extremes(no_below=327230, no_above=1.0, keep_n=None)\n",
      "print tagsdict\n",
      "filtered_n_unique_words = int(tagsdict.__str__().lstrip('Dictionary(').rstrip(\n",
      "    ' unique tokens)'))\n",
      "print \"automatic loss: %.4f percent\" % (100*(1.0 - filtered_n_unique_words / 41573.0))"
     ],
     "language": "python",
     "metadata": {},
     "outputs": [
      {
       "output_type": "stream",
       "stream": "stdout",
       "text": [
        "Dictionary(41573 unique tokens)\n",
        "Dictionary(41573 unique tokens)"
       ]
      },
      {
       "output_type": "stream",
       "stream": "stdout",
       "text": [
        "\n",
        "automatic loss: 0.0000 percent\n"
       ]
      }
     ],
     "prompt_number": 84
    },
    {
     "cell_type": "code",
     "collapsed": false,
     "input": [
      "# Visualize the term-frequency histogram\n",
      "'''\n",
      "num_pts = 4000\n",
      "xs = linspace(1, 327230, num_pts, endpoint=True)\n",
      "def myfunc(xx):\n",
      "    x = int(xx)\n",
      "    myDict = Dictionary.load(\"../working/unfiltered_tagsdict.pickle\")\n",
      "    myDict.filter_extremes(no_below=x, no_above=1.0, keep_n=None)\n",
      "    y = int(myDict.__str__().lstrip('Dictionary(').rstrip(\n",
      "        ' unique tokens)'))\n",
      "    return y / 41573.0\n",
      "vfunc = np.vectorize(myfunc)\n",
      "ys = vfunc(xs)\n",
      "'''\n",
      "\n",
      "figure(figsize=(16,8));\n",
      "plt.semilogx(xs, ys);\n",
      "xlabel(\"no_below\");\n",
      "ylabel(\"# remaining unique tags\");\n",
      "xlim(0,50000);\n",
      "\n",
      "\n",
      "def myfunc2(ys):\n",
      "    actual_losses = zeros(num_pts)\n",
      "    for i in xrange(1, num_pts):\n",
      "        actual_losses[i] = ys[i-1] - ys[i]\n",
      "    #actual_losses = actual_losses[::-1]\n",
      "    return actual_losses\n",
      "actual_losses =  myfunc2(ys)\n",
      "actual_losses /= max(actual_losses)\n",
      "\n",
      "\n",
      "figure(figsize=(16,8));\n",
      "plt.plot(xs, actual_losses);\n",
      "xlabel(\"no_below\");\n",
      "ylabel(\"actual loss\");\n",
      "xlim(0,8000);\n",
      "\n",
      "def myfunc3(xs,ys):\n",
      "    ans = empty_like(xs)\n",
      "    ans[0] = 0\n",
      "    for i in xrange(1,len(xs)):\n",
      "        ans[i] = np.trapz(ys[:i+1], xs[:i+1])\n",
      "    return ans\n",
      "temp = myfunc3(xs, actual_losses)\n",
      "temp /= max(temp)\n",
      "\n",
      "\n",
      "figure(figsize=(16,8));\n",
      "plt.plot(xs, temp);\n",
      "plt.hlines(0.1, 0, xs[-1]);\n",
      "xlim(0,30);"
     ],
     "language": "python",
     "metadata": {},
     "outputs": [
      {
       "metadata": {},
       "output_type": "display_data",
       "png": "[encoded data removed]",
       "text": [
        "<matplotlib.figure.Figure at 0x6e3cd50>"
       ]
      },
      {
       "metadata": {},
       "output_type": "display_data",
       "png": "[encoded data removed]",
       "text": [
        "<matplotlib.figure.Figure at 0x46f77d0>"
       ]
      },
      {
       "metadata": {},
       "output_type": "display_data",
       "png": "[encoded data removed]",
       "text": [
        "<matplotlib.figure.Figure at 0xf3494d0>"
       ]
      }
     ],
     "prompt_number": 280
    },
    {
     "cell_type": "code",
     "collapsed": false,
     "input": [
      "# Build my filtered dictionary\n",
      "tagsdict = Dictionary.load(\"../working/unfiltered_tagsdict.pickle\")\n",
      "print \"Before filtering,\", tagsdict\n",
      "# Filter out 'insignificant' tags\n",
      "tagsdict.filter_extremes(no_below=22)\n",
      "# Save tagsdict\n",
      "tagsdict.save(\"../working/tagsdict.pickle\")\n",
      "print \"created tagsdict\"\n",
      "    \n",
      "n_unique_words = int(tagsdict.__str__().lstrip('Dictionary(').rstrip(\n",
      "    ' unique tokens)'))\n",
      "print tagsdict\n",
      "print \"n_unique_words:\", n_unique_words\n",
      "\n",
      "K = n_unique_words\n",
      "with open(\"../working/K.pickle\", 'w') as picklefile:\n",
      "    pickle.dump(K, picklefile)"
     ],
     "language": "python",
     "metadata": {},
     "outputs": [
      {
       "output_type": "stream",
       "stream": "stdout",
       "text": [
        "Before filtering, Dictionary(41573 unique tokens)\n",
        "created tagsdict"
       ]
      },
      {
       "output_type": "stream",
       "stream": "stdout",
       "text": [
        "\n",
        "Dictionary(18598 unique tokens)\n",
        "n_unique_words: 18598\n"
       ]
      }
     ],
     "prompt_number": 281
    },
    {
     "cell_type": "markdown",
     "metadata": {},
     "source": [
      "Prepare the pruning of the filtered out examples from `tagsonly`."
     ]
    },
    {
     "cell_type": "code",
     "collapsed": false,
     "input": [
      "%%px\n",
      "try:\n",
      "    tagsdict = Dictionary.load('../working/tagsdict.pickle')\n",
      "    print \"loaded tagsdict\"\n",
      "    line_set = set()\n",
      "    fin = open('../data/tagsonly_%d.txt' % eid, 'rb')\n",
      "    fout = open('../data/tagsonly2_%d.txt' % eid, 'wb')\n",
      "    with fin, fout:\n",
      "        for line_num, line in enumerate(fin):\n",
      "            flag = True\n",
      "            for tkn in line.split():\n",
      "                if tkn in tagsdict.token2id:\n",
      "                    flag = False\n",
      "                    fout.write(tkn + ' ')\n",
      "            if flag:\n",
      "                line_set.add(line_num) # add into pruning set if all tkn not in tagsdict\n",
      "                fout.write(' ')\n",
      "            fout.write('\\n')\n",
      "    del tagsdict\n",
      "    with open(\"../working/tags_line_set_%d.pickle\" % eid, 'w') as picklefile:\n",
      "        pickle.dump(line_set, picklefile)\n",
      "    \n",
      "except:\n",
      "    print \"tagsdict.pickle not created yet...\""
     ],
     "language": "python",
     "metadata": {},
     "outputs": [
      {
       "output_type": "stream",
       "stream": "stdout",
       "text": [
        "[stdout:0] loaded tagsdict\n",
        "[stdout:1] loaded tagsdict\n",
        "[stdout:2] loaded tagsdict\n",
        "[stdout:3] loaded tagsdict\n"
       ]
      }
     ],
     "prompt_number": 282
    },
    {
     "cell_type": "markdown",
     "metadata": {},
     "source": [
      "###Body Prune Preparation\n",
      "Perform a percentile reduction (aka filter out 'insignificant' words)."
     ]
    },
    {
     "cell_type": "code",
     "collapsed": false,
     "input": [
      "# Create bodydict\n",
      "bodydict = Dictionary(unicode(line, errors='ignore').split() for line in\n",
      "    open('../data/bodyonly.txt', 'rb')) # keep_n defaulted to None\n",
      "print \"Before filtering,\", bodydict\n",
      "bodydict.save(\"../working/unfiltered_bodydict.pickle\")"
     ],
     "language": "python",
     "metadata": {},
     "outputs": [
      {
       "output_type": "stream",
       "stream": "stdout",
       "text": [
        "Before filtering, Dictionary(1866135 unique tokens)\n"
       ]
      }
     ],
     "prompt_number": 49
    },
    {
     "cell_type": "code",
     "collapsed": false,
     "input": [
      "with open(\"../working/TOTAL_SIZE.pickle\", 'r') as picklefile:\n",
      "    TOTAL_SIZE = pickle.load(picklefile)\n",
      "print TOTAL_SIZE\n",
      "bodydict = Dictionary.load(\"../working/unfiltered_bodydict.pickle\")\n",
      "\n",
      "for hash_id,term_count in bodydict.dfs.iteritems():\n",
      "    if term_count > 0.105*TOTAL_SIZE:\n",
      "        print \"word: %s\\t\\tdoc_freq: %.3f percent\" % (bodydict[hash_id],(term_count*100.0/TOTAL_SIZE))"
     ],
     "language": "python",
     "metadata": {},
     "outputs": [
      {
       "output_type": "stream",
       "stream": "stdout",
       "text": [
        "word: code\t\tdoc_freq: 39.597 percent\n",
        "word: data\t\tdoc_freq: 10.976 percent\n",
        "word: error\t\tdoc_freq: 13.024 percent\n",
        "word: file\t\tdoc_freq: 17.111 percent\n",
        "word: run\t\tdoc_freq: 12.993 percent\n",
        "word: add\t\tdoc_freq: 10.999 percent\n",
        "word: find\t\tdoc_freq: 14.806 percent\n",
        "word: href\t\tdoc_freq: 16.041 percent\n",
        "word: http\t\tdoc_freq: 19.935 percent\n",
        "word: m\t\tdoc_freq: 27.744 percent\n",
        "word: s\t\tdoc_freq: 24.602 percent\n",
        "word: application\t\tdoc_freq: 10.734 percent\n",
        "word: set\t\tdoc_freq: 11.648 percent\n",
        "word: i\t\tdoc_freq: 25.526 percent\n",
        "word: make\t\tdoc_freq: 15.012 percent\n",
        "word: question\t\tdoc_freq: 13.213 percent\n",
        "word: create\t\tdoc_freq: 14.899 percent\n",
        "word: t\t\tdoc_freq: 30.367 percent\n",
        "word: ve\t\tdoc_freq: 12.626 percent\n",
        "word: work\t\tdoc_freq: 26.629 percent\n",
        "word: strong\t\tdoc_freq: 12.388 percent\n",
        "word: nofollow\t\tdoc_freq: 11.946 percent\n",
        "word: rel\t\tdoc_freq: 11.986 percent\n",
        "word: time\t\tdoc_freq: 11.592 percent\n",
        "word: user\t\tdoc_freq: 12.494 percent\n",
        "word: problem\t\tdoc_freq: 17.372 percent\n",
        "word: don\t\tdoc_freq: 11.133 percent\n"
       ]
      }
     ],
     "prompt_number": 182
    },
    {
     "cell_type": "code",
     "collapsed": false,
     "input": [
      "# Find the cut-off filter point\n",
      "bodydict = Dictionary.load(\"../working/unfiltered_bodydict.pickle\")\n",
      "print \"before filter:\", bodydict\n",
      "bodydict.filter_extremes(no_below=419500, no_above=0.105,keep_n=None)\n",
      "filtered_n_unique_words = int(bodydict.__str__().lstrip('Dictionary(').rstrip(\n",
      "    ' unique tokens)'))\n",
      "print \"after filter:\", bodydict\n",
      "print \"covered unique tokens: %.4f percent\" % (100*(filtered_n_unique_words / 1866135.0))"
     ],
     "language": "python",
     "metadata": {},
     "outputs": [
      {
       "output_type": "stream",
       "stream": "stdout",
       "text": [
        "before filter: Dictionary(1866135 unique tokens)\n",
        "after filter:"
       ]
      },
      {
       "output_type": "stream",
       "stream": "stdout",
       "text": [
        " Dictionary(1 unique tokens)\n",
        "covered unique tokens: 0.0001 percent\n"
       ]
      }
     ],
     "prompt_number": 196
    },
    {
     "cell_type": "code",
     "collapsed": false,
     "input": [
      "# Visualize the term-frequency histogram\n",
      "'''\n",
      "nnn = 100\n",
      "xxxs = linspace(1, 1000, nnn, endpoint=True)\n",
      "\n",
      "def myfunc7(xxx):\n",
      "    x = int(xxx)\n",
      "    myDict = Dictionary.load(\"../working/unfiltered_bodydict.pickle\")\n",
      "    myDict.filter_extremes(no_below=x, no_above=0.105, keep_n=None)\n",
      "    y = int(myDict.__str__().lstrip('Dictionary(').rstrip(\n",
      "        ' unique tokens)'))\n",
      "    return y# / 1866135.0\n",
      "vfunc = np.vectorize(myfunc7)\n",
      "yyys = vfunc(xxxs)\n",
      "#yyys /= max(yyys)\n",
      "'''\n",
      "\n",
      "figure(figsize=(16,8));\n",
      "plt.plot(xxxs, yyys);\n",
      "xlabel(\"no_below\");\n",
      "ylabel(\"# unique tokens\");\n",
      "xlim(0,1000);\n",
      "\n",
      "def myfunc8(yyys):\n",
      "    actual_losses = zeros(nnn)\n",
      "    for i in xrange(1, nnn):\n",
      "        actual_losses[i] = yyys[i-1] - yyys[i]\n",
      "    #ctual_losses = actual_losses[::-1]\n",
      "    return actual_losses\n",
      "aaa = myfunc8(yyys)\n",
      "#aaa /= max(aaa)\n",
      "\n",
      "figure(figsize=(16,8));\n",
      "#plt.semilogx(xs, actual_losses);\n",
      "plt.plot(xxxs, aaa);\n",
      "xlabel(\"no_below\");\n",
      "ylabel(\"actual loss\");\n",
      "xlim(0, 1000);\n",
      "\n",
      "def myfunc9(xxxs, yyys):\n",
      "    ans = empty_like(xxxs)\n",
      "    ans[0] = 0\n",
      "    for i in xrange(1, len(xxxs)):\n",
      "        ans[i] = np.trapz(yyys[:i+1], xxxs[:i+1])\n",
      "    return ans\n",
      "ttt = myfunc9(xxxs, aaa/1866135.0)\n",
      "#ttt /= max(ttt)\n",
      "\n",
      "figure(figsize=(16,8));\n",
      "plt.plot(xxxs, ttt/max(ttt));\n",
      "plt.hlines(0.1, 0, xxxs[-1]);\n",
      "xlim(0, 10);"
     ],
     "language": "python",
     "metadata": {},
     "outputs": [
      {
       "metadata": {},
       "output_type": "display_data",
       "png": "[encoded data removed]",
       "text": [
        "<matplotlib.figure.Figure at 0x408fe90>"
       ]
      },
      {
       "metadata": {},
       "output_type": "display_data",
       "png": "[encoded data removed]",
       "text": [
        "<matplotlib.figure.Figure at 0x4d9ae10>"
       ]
      },
      {
       "metadata": {},
       "output_type": "display_data",
       "png": "[encoded data removed]",
       "text": [
        "<matplotlib.figure.Figure at 0x16060d50>"
       ]
      }
     ],
     "prompt_number": 276
    },
    {
     "cell_type": "code",
     "collapsed": false,
     "input": [
      "# Build my dictionary\n",
      "bodydict = Dictionary.load(\"../working/unfiltered_bodydict.pickle\")\n",
      "print \"before filter:\", bodydict\n",
      "# Filter out 'insignificant' words\n",
      "bodydict.filter_extremes(no_below=3, no_above=0.105, keep_n=None)\n",
      "n_unique_words = int(bodydict.__str__().lstrip('Dictionary(').rstrip(\n",
      "    ' unique tokens)'))\n",
      "print bodydict\n",
      "print 'n_unique_words:', n_unique_words\n",
      "\n",
      "# Save bodydict\n",
      "bodydict.save(\"../working/bodydict.pickle\")\n",
      "print \"created bodydict\""
     ],
     "language": "python",
     "metadata": {},
     "outputs": [
      {
       "output_type": "stream",
       "stream": "stdout",
       "text": [
        "before filter: Dictionary(1866135 unique tokens)\n",
        "Dictionary(308939 unique tokens)"
       ]
      },
      {
       "output_type": "stream",
       "stream": "stdout",
       "text": [
        "\n",
        "n_unique_words: 308939\n",
        "created bodydict"
       ]
      },
      {
       "output_type": "stream",
       "stream": "stdout",
       "text": [
        "\n"
       ]
      }
     ],
     "prompt_number": 283
    },
    {
     "cell_type": "markdown",
     "metadata": {},
     "source": [
      "Prepare the pruning of the filtered out examples from `bodyonly`."
     ]
    },
    {
     "cell_type": "code",
     "collapsed": false,
     "input": [
      "%%px\n",
      "try:\n",
      "    bodydict = Dictionary.load('../working/bodydict.pickle')\n",
      "    print \"loaded bodydict\"\n",
      "    line_set = set()\n",
      "    fin = open('../data/bodyonly_%d.txt' % eid, 'rb')\n",
      "    fout = open('../data/bodyonly2_%d.txt' % eid, 'wb')\n",
      "    with fin, fout:\n",
      "        for line_num, line in enumerate(fin):\n",
      "            flag = True\n",
      "            for tkn in line.split():\n",
      "                if tkn in bodydict.token2id:\n",
      "                    flag = False\n",
      "                    fout.write(tkn + ' ')\n",
      "            if flag:\n",
      "                line_set.add(line_num) # add into pruning set if all tkn not in bodydict\n",
      "                fout.write(' ')\n",
      "            fout.write('\\n')\n",
      "    del bodydict\n",
      "    with open(\"../working/body_line_set_%d.pickle\" % eid, 'w') as picklefile:\n",
      "        pickle.dump(line_set, picklefile)\n",
      "\n",
      "except:\n",
      "    print \"bodydict.pickle is not created yet...\""
     ],
     "language": "python",
     "metadata": {},
     "outputs": [
      {
       "output_type": "stream",
       "stream": "stdout",
       "text": [
        "[stdout:0] loaded bodydict\n",
        "[stdout:1] loaded bodydict\n",
        "[stdout:2] loaded bodydict\n",
        "[stdout:3] loaded bodydict\n"
       ]
      }
     ],
     "prompt_number": 284
    },
    {
     "cell_type": "markdown",
     "metadata": {},
     "source": [
      "###Title Prune Preparation\n",
      "Perform a percentile reduction (aka filter out 'insignificant' words)."
     ]
    },
    {
     "cell_type": "code",
     "collapsed": false,
     "input": [
      "# Build my dictionary\n",
      "titledict = Dictionary(unicode(line, errors='ignore').split() for line in\n",
      "                    open('../data/titleonly.txt', 'rb')) # keep_n defaulted to None\n",
      "print \"Before filtering,\", titledict\n",
      "# Filter out 'insignificant' words\n",
      "titledict.filter_extremes(no_below=2, no_above=0.5)\n",
      "# Save titledict\n",
      "titledict.save(\"../working/titledict.pickle\")\n",
      "print \"created titledict\"\n",
      "    \n",
      "n_unique_words = int(titledict.__str__().lstrip(\"Dictionary(\").rstrip(\n",
      "    ' unique tokens)'))\n",
      "print titledict\n",
      "print \"n_unique_words:\", n_unique_words"
     ],
     "language": "python",
     "metadata": {},
     "outputs": []
    },
    {
     "cell_type": "markdown",
     "metadata": {},
     "source": [
      "Prepare the pruning of the filtered out examples from `titleonly`."
     ]
    },
    {
     "cell_type": "code",
     "collapsed": false,
     "input": [
      "%%px\n",
      "try:\n",
      "    titledict = Dictionary.load(\"../working/titledict.pickle\")\n",
      "    print \"loaded titledict\"\n",
      "    line_set = set()\n",
      "    fin = open('../data/titleonly_%d.txt' % eid, 'rb')\n",
      "    fout = open('../data/titleonly2_%d.txt' % eid, 'wb')\n",
      "    with fin, fout:\n",
      "        for line_num, line in enumerate(fin):\n",
      "            flag = True\n",
      "            for tkn in line.split():\n",
      "                if tkn in titledict.token2id:\n",
      "                    flag = False\n",
      "                    fout.write(tkn + ' ')\n",
      "            if flag:\n",
      "                line_set.add(line_num) # add into pruning set if all tkn not in tagsdict\n",
      "                fout.write(' ')\n",
      "            fout.write('\\n')\n",
      "    del titledict\n",
      "    with open(\"../working/title_line_set_%d.pickle\" % eid, 'w') as picklefile:\n",
      "        pickle.dump(line_set, picklefile)\n",
      "\n",
      "except:\n",
      "    print \"titledict.pickle not created yet...\""
     ],
     "language": "python",
     "metadata": {},
     "outputs": []
    },
    {
     "cell_type": "markdown",
     "metadata": {},
     "source": [
      "###Pruning\n",
      "Union all `line_set`'s into a `global_line_set`. Ignore titles for now."
     ]
    },
    {
     "cell_type": "code",
     "collapsed": false,
     "input": [
      "%%px\n",
      "tags_line_set, body_line_set, title_line_set = None, None, None\n",
      "with open(\"../working/tags_line_set_%d.pickle\" % eid, 'r') as picklefile:\n",
      "    tags_line_set = pickle.load(picklefile)\n",
      "with open(\"../working/body_line_set_%d.pickle\" % eid, 'r') as picklefile:\n",
      "    body_line_set = pickle.load(picklefile)\n",
      "#with open(\"../working/title_line_set_%d.pickle\" % eid, 'r') as picklefile:\n",
      "#    title_line_set = pickle.load(picklefile)\n",
      "\n",
      "line_set = tags_line_set | body_line_set #| title_line_set\n",
      "with open(\"../working/global_line_set_%d.pickle\" % eid, 'w') as picklefile:\n",
      "    pickle.dump(line_set, picklefile)\n",
      "    \n",
      "print len(tags_line_set)\n",
      "print len(body_line_set)\n",
      "print len(line_set)"
     ],
     "language": "python",
     "metadata": {},
     "outputs": [
      {
       "output_type": "stream",
       "stream": "stdout",
       "text": [
        "[stdout:0] \n",
        "1287\n",
        "1445\n",
        "2730\n",
        "[stdout:1] \n",
        "1272\n",
        "1444\n",
        "2713\n",
        "[stdout:2] \n",
        "1193\n",
        "1428\n",
        "2619\n",
        "[stdout:3] \n",
        "1182\n",
        "1481\n",
        "2663\n"
       ]
      }
     ],
     "prompt_number": 285
    },
    {
     "cell_type": "markdown",
     "metadata": {},
     "source": [
      "Prune the respective datasets! Finally~"
     ]
    },
    {
     "cell_type": "code",
     "collapsed": false,
     "input": [
      "%%px\n",
      "line_set = None\n",
      "with open(\"../working/global_line_set_%d.pickle\" % eid, 'r') as picklefile:\n",
      "    line_set = pickle.load(picklefile)\n",
      "\n",
      "N_part = 0\n",
      "\n",
      "infile = open(\"../data/tagsonly2_%d.txt\" % eid, 'rb')\n",
      "outfile = open(\"../data/filtered_tagsonly_%d.txt\" % eid, 'wb')\n",
      "\n",
      "with infile, outfile:\n",
      "    for line_num,line in enumerate(infile):\n",
      "        if line_num not in line_set: # if line number not in respective pruning set, THEN pass it into outfile\n",
      "            N_part += 1\n",
      "            outfile.write(line)\n",
      "\n",
      "# Save N_%d to later find out what the total N is...\n",
      "with open(\"../working/N_%d.pickle\" % eid, 'w') as picklefile:\n",
      "    pickle.dump(N_part, picklefile)\n",
      "\n",
      "infile = open(\"../data/bodyonly2_%d.txt\" % eid, 'rb')\n",
      "outfile = open(\"../data/filtered_bodyonly_%d.txt\" % eid, 'wb')\n",
      "\n",
      "with infile, outfile:\n",
      "    for line_num,line in enumerate(infile):\n",
      "        if line_num not in line_set: # if line number not in respective pruning set, THEN pass it into outfile\n",
      "            outfile.write(line)\n",
      "\n",
      "'''\n",
      "infile = open(\"../data/titleonly2_%d.txt\" % eid, 'rb')\n",
      "outfile = open(\"../data/filtered_titleonly_%d.txt\" % eid, 'wb')\n",
      "\n",
      "with infile, outfile:\n",
      "    for line_num,line in infile:\n",
      "        if line_num not in line_set: # if line number not in respective pruning set, THEN pass it into outfile\n",
      "            outfile.write(line)\n",
      "'''"
     ],
     "language": "python",
     "metadata": {},
     "outputs": [
      {
       "metadata": {},
       "output_type": "display_data",
       "text": [
        "\u001b[0;31mOut[0:9]: \u001b[0m'\\ninfile = open(\"../data/titleonly2_%d.txt\" % eid, \\'rb\\')\\noutfile = open(\"../data/filtered_titleonly_%d.txt\" % eid, \\'wb\\')\\n\\nwith infile, outfile:\\n    for line_num,line in infile:\\n        if line_num not in line_set: # if line number not in respective pruning set, THEN pass it into outfile\\n            outfile.write(line)\\n'"
       ]
      },
      {
       "metadata": {},
       "output_type": "display_data",
       "text": [
        "\u001b[0;31mOut[1:9]: \u001b[0m'\\ninfile = open(\"../data/titleonly2_%d.txt\" % eid, \\'rb\\')\\noutfile = open(\"../data/filtered_titleonly_%d.txt\" % eid, \\'wb\\')\\n\\nwith infile, outfile:\\n    for line_num,line in infile:\\n        if line_num not in line_set: # if line number not in respective pruning set, THEN pass it into outfile\\n            outfile.write(line)\\n'"
       ]
      },
      {
       "metadata": {},
       "output_type": "display_data",
       "text": [
        "\u001b[0;31mOut[2:9]: \u001b[0m'\\ninfile = open(\"../data/titleonly2_%d.txt\" % eid, \\'rb\\')\\noutfile = open(\"../data/filtered_titleonly_%d.txt\" % eid, \\'wb\\')\\n\\nwith infile, outfile:\\n    for line_num,line in infile:\\n        if line_num not in line_set: # if line number not in respective pruning set, THEN pass it into outfile\\n            outfile.write(line)\\n'"
       ]
      },
      {
       "metadata": {},
       "output_type": "display_data",
       "text": [
        "\u001b[0;31mOut[3:9]: \u001b[0m'\\ninfile = open(\"../data/titleonly2_%d.txt\" % eid, \\'rb\\')\\noutfile = open(\"../data/filtered_titleonly_%d.txt\" % eid, \\'wb\\')\\n\\nwith infile, outfile:\\n    for line_num,line in infile:\\n        if line_num not in line_set: # if line number not in respective pruning set, THEN pass it into outfile\\n            outfile.write(line)\\n'"
       ]
      }
     ],
     "prompt_number": 286
    },
    {
     "cell_type": "markdown",
     "metadata": {},
     "source": [
      "----------------------------------------------------------------------------------------------------------------------------------------\n",
      "##Tags only (dimensionality reduction with PLST)\n",
      "Pre-filter `tagsonly.txt` to `filtered_tagsonly.txt`. Obtain only `V`, the singular vectors for `filtered_tagsonly.txt` (tags). Treat the `V` matrix as a matrix of probabilities from which to sample up to `k` dimensions. Encode `filtered_tagsonly.txt` to `filtered2_tagsonly.txt` using the `k` vectors."
     ]
    },
    {
     "cell_type": "code",
     "collapsed": false,
     "input": [
      "%reset -f"
     ],
     "language": "python",
     "metadata": {},
     "outputs": [],
     "prompt_number": 23
    },
    {
     "cell_type": "code",
     "collapsed": false,
     "input": [
      "%pylab inline"
     ],
     "language": "python",
     "metadata": {},
     "outputs": [
      {
       "output_type": "stream",
       "stream": "stdout",
       "text": [
        "Populating the interactive namespace from numpy and matplotlib\n"
       ]
      }
     ],
     "prompt_number": 24
    },
    {
     "cell_type": "code",
     "collapsed": false,
     "input": [
      "from gensim.models.lsimodel import LsiModel\n",
      "from gensim.corpora.dictionary import Dictionary\n",
      "\n",
      "import mmh3\n",
      "\n",
      "import pickle"
     ],
     "language": "python",
     "metadata": {},
     "outputs": [],
     "prompt_number": 25
    },
    {
     "cell_type": "code",
     "collapsed": false,
     "input": [
      "num_eng = 4\n",
      "engine_ids = range(num_eng)"
     ],
     "language": "python",
     "metadata": {},
     "outputs": [],
     "prompt_number": 26
    },
    {
     "cell_type": "markdown",
     "metadata": {},
     "source": [
      "Stitch back up the files together."
     ]
    },
    {
     "cell_type": "code",
     "collapsed": false,
     "input": [
      "# I/O must be serialized, but the below SVD/LSI process is batched/parallelized.\n",
      "fout = open(\"../data/filtered_tagsonly.txt\", \"wb\")\n",
      "with fout:\n",
      "    for eid in engine_ids:\n",
      "        fin = open(\"../data/filtered_tagsonly_%d.txt\" % eid, \"rb\")\n",
      "        fout.write(fin.read())\n",
      "        fin.close()"
     ],
     "language": "python",
     "metadata": {},
     "outputs": [],
     "prompt_number": 292
    },
    {
     "cell_type": "code",
     "collapsed": false,
     "input": [
      "# I/O must be serialized, but the below SVD/LSI process is batched/parallelized.\n",
      "fout = open(\"../data/filtered_bodyonly.txt\", \"wb\")\n",
      "with fout:\n",
      "    for eid in engine_ids:\n",
      "        fin = open(\"../data/filtered_bodyonly_%d.txt\" % eid, \"rb\")\n",
      "        fout.write(fin.read())\n",
      "        fin.close()"
     ],
     "language": "python",
     "metadata": {},
     "outputs": [],
     "prompt_number": 293
    },
    {
     "cell_type": "markdown",
     "metadata": {},
     "source": [
      "SVD/LSI step."
     ]
    },
    {
     "cell_type": "code",
     "collapsed": false,
     "input": [
      "tagsdict = Dictionary.load(\"../working/tagsdict.pickle\")\n",
      "\n",
      "# Online stream of documents in hashed, binary, bag-of-words format\n",
      "class MyCorpus(object):\n",
      "    def __init__(self, filename):\n",
      "        self.filename = filename\n",
      "    def __iter__(self):\n",
      "        for line in open(self.filename,'rb'):\n",
      "            yield [(tup[0], 1) for tup in tagsdict.doc2bow(line.split())]"
     ],
     "language": "python",
     "metadata": {},
     "outputs": [
      {
       "output_type": "stream",
       "stream": "stderr",
       "text": [
        "2014-01-05 13:22:07,930 : INFO : loading Dictionary object from ../working/tagsdict.pickle\n"
       ]
      }
     ],
     "prompt_number": 27
    },
    {
     "cell_type": "code",
     "collapsed": false,
     "input": [
      "# dimensionality reduction\n",
      "M = 204 # M MUST DIVIDE NUM_ENG!!!!!!! IMPORTANT\n",
      "with open(\"../working/M.pickle\", 'w') as picklefile:\n",
      "    pickle.dump(M, picklefile)\n",
      "\n",
      "corpus = MyCorpus('../data/filtered_tagsonly.txt')\n",
      "model = LsiModel(num_topics=M, id2word=tagsdict,\n",
      "    power_iters=8, onepass=False, extra_samples=400) # May require M+1 to get the correct shape due to some weird gensim bug..."
     ],
     "language": "python",
     "metadata": {},
     "outputs": [
      {
       "output_type": "stream",
       "stream": "stderr",
       "text": [
        "2014-01-05 13:23:43,332 : INFO : using serial LSI version on this node\n"
       ]
      }
     ],
     "prompt_number": 28
    },
    {
     "cell_type": "code",
     "collapsed": false,
     "input": [
      "import logging\n",
      "logging.basicConfig(format='%(asctime)s : %(levelname)s : %(message)s', level=logging.INFO)\n",
      "model.add_documents(corpus, chunksize=600000) # originally chunksize=40000"
     ],
     "language": "python",
     "metadata": {},
     "outputs": [
      {
       "output_type": "stream",
       "stream": "stderr",
       "text": [
        "2014-01-05 13:23:44,803 : INFO : updating model with new documents\n"
       ]
      },
      {
       "output_type": "stream",
       "stream": "stderr",
       "text": [
        "2014-01-05 13:23:44,803 : INFO : using 400 extra samples and 8 power iterations\n"
       ]
      },
      {
       "output_type": "stream",
       "stream": "stderr",
       "text": [
        "2014-01-05 13:23:44,809 : INFO : 1st phase: constructing (18598, 604) action matrix\n"
       ]
      },
      {
       "output_type": "stream",
       "stream": "stderr",
       "text": [
        "2014-01-05 13:23:59,537 : INFO : PROGRESS: at document #0\n"
       ]
      },
      {
       "output_type": "stream",
       "stream": "stderr",
       "text": [
        "2014-01-05 13:24:37,134 : INFO : PROGRESS: at document #600000\n"
       ]
      },
      {
       "output_type": "stream",
       "stream": "stderr",
       "text": [
        "2014-01-05 13:25:14,332 : INFO : PROGRESS: at document #1200000\n"
       ]
      },
      {
       "output_type": "stream",
       "stream": "stderr",
       "text": [
        "2014-01-05 13:25:51,761 : INFO : PROGRESS: at document #1800000\n"
       ]
      },
      {
       "output_type": "stream",
       "stream": "stderr",
       "text": [
        "2014-01-05 13:26:29,488 : INFO : PROGRESS: at document #2400000\n"
       ]
      },
      {
       "output_type": "stream",
       "stream": "stderr",
       "text": [
        "2014-01-05 13:27:06,897 : INFO : PROGRESS: at document #3000000\n"
       ]
      },
      {
       "output_type": "stream",
       "stream": "stderr",
       "text": [
        "2014-01-05 13:27:42,309 : INFO : PROGRESS: at document #3600000\n"
       ]
      },
      {
       "output_type": "stream",
       "stream": "stderr",
       "text": [
        "2014-01-05 13:28:03,176 : INFO : running power iteration #1\n"
       ]
      },
      {
       "output_type": "stream",
       "stream": "stderr",
       "text": [
        "2014-01-05 13:28:17,974 : INFO : PROGRESS: at document #0/4114504\n"
       ]
      },
      {
       "output_type": "stream",
       "stream": "stderr",
       "text": [
        "2014-01-05 13:28:37,477 : INFO : PROGRESS: at document #600000/4114504\n"
       ]
      },
      {
       "output_type": "stream",
       "stream": "stderr",
       "text": [
        "2014-01-05 13:28:57,330 : INFO : PROGRESS: at document #1200000/4114504\n"
       ]
      },
      {
       "output_type": "stream",
       "stream": "stderr",
       "text": [
        "2014-01-05 13:29:17,058 : INFO : PROGRESS: at document #1800000/4114504\n"
       ]
      },
      {
       "output_type": "stream",
       "stream": "stderr",
       "text": [
        "2014-01-05 13:29:36,843 : INFO : PROGRESS: at document #2400000/4114504\n"
       ]
      },
      {
       "output_type": "stream",
       "stream": "stderr",
       "text": [
        "2014-01-05 13:29:56,623 : INFO : PROGRESS: at document #3000000/4114504\n"
       ]
      },
      {
       "output_type": "stream",
       "stream": "stderr",
       "text": [
        "2014-01-05 13:30:14,757 : INFO : PROGRESS: at document #3600000/4114504\n"
       ]
      },
      {
       "output_type": "stream",
       "stream": "stderr",
       "text": [
        "2014-01-05 13:30:19,831 : INFO : running power iteration #2\n"
       ]
      },
      {
       "output_type": "stream",
       "stream": "stderr",
       "text": [
        "2014-01-05 13:30:34,411 : INFO : PROGRESS: at document #0/4114504\n"
       ]
      },
      {
       "output_type": "stream",
       "stream": "stderr",
       "text": [
        "2014-01-05 13:30:53,838 : INFO : PROGRESS: at document #600000/4114504\n"
       ]
      },
      {
       "output_type": "stream",
       "stream": "stderr",
       "text": [
        "2014-01-05 13:31:13,267 : INFO : PROGRESS: at document #1200000/4114504\n"
       ]
      },
      {
       "output_type": "stream",
       "stream": "stderr",
       "text": [
        "2014-01-05 13:31:32,897 : INFO : PROGRESS: at document #1800000/4114504\n"
       ]
      },
      {
       "output_type": "stream",
       "stream": "stderr",
       "text": [
        "2014-01-05 13:31:52,176 : INFO : PROGRESS: at document #2400000/4114504\n"
       ]
      },
      {
       "output_type": "stream",
       "stream": "stderr",
       "text": [
        "2014-01-05 13:32:11,759 : INFO : PROGRESS: at document #3000000/4114504\n"
       ]
      },
      {
       "output_type": "stream",
       "stream": "stderr",
       "text": [
        "2014-01-05 13:32:29,148 : INFO : PROGRESS: at document #3600000/4114504\n"
       ]
      },
      {
       "output_type": "stream",
       "stream": "stderr",
       "text": [
        "2014-01-05 13:32:34,369 : INFO : running power iteration #3\n"
       ]
      },
      {
       "output_type": "stream",
       "stream": "stderr",
       "text": [
        "2014-01-05 13:32:48,695 : INFO : PROGRESS: at document #0/4114504\n"
       ]
      },
      {
       "output_type": "stream",
       "stream": "stderr",
       "text": [
        "2014-01-05 13:33:08,050 : INFO : PROGRESS: at document #600000/4114504\n"
       ]
      },
      {
       "output_type": "stream",
       "stream": "stderr",
       "text": [
        "2014-01-05 13:33:27,154 : INFO : PROGRESS: at document #1200000/4114504\n"
       ]
      },
      {
       "output_type": "stream",
       "stream": "stderr",
       "text": [
        "2014-01-05 13:33:46,468 : INFO : PROGRESS: at document #1800000/4114504\n"
       ]
      },
      {
       "output_type": "stream",
       "stream": "stderr",
       "text": [
        "2014-01-05 13:34:05,550 : INFO : PROGRESS: at document #2400000/4114504\n"
       ]
      },
      {
       "output_type": "stream",
       "stream": "stderr",
       "text": [
        "2014-01-05 13:34:24,816 : INFO : PROGRESS: at document #3000000/4114504\n"
       ]
      },
      {
       "output_type": "stream",
       "stream": "stderr",
       "text": [
        "2014-01-05 13:34:41,989 : INFO : PROGRESS: at document #3600000/4114504\n"
       ]
      },
      {
       "output_type": "stream",
       "stream": "stderr",
       "text": [
        "2014-01-05 13:34:47,021 : INFO : running power iteration #4\n"
       ]
      },
      {
       "output_type": "stream",
       "stream": "stderr",
       "text": [
        "2014-01-05 13:35:01,501 : INFO : PROGRESS: at document #0/4114504\n"
       ]
      },
      {
       "output_type": "stream",
       "stream": "stderr",
       "text": [
        "2014-01-05 13:35:20,863 : INFO : PROGRESS: at document #600000/4114504\n"
       ]
      },
      {
       "output_type": "stream",
       "stream": "stderr",
       "text": [
        "2014-01-05 13:35:40,030 : INFO : PROGRESS: at document #1200000/4114504\n"
       ]
      },
      {
       "output_type": "stream",
       "stream": "stderr",
       "text": [
        "2014-01-05 13:35:59,096 : INFO : PROGRESS: at document #1800000/4114504\n"
       ]
      },
      {
       "output_type": "stream",
       "stream": "stderr",
       "text": [
        "2014-01-05 13:36:18,499 : INFO : PROGRESS: at document #2400000/4114504\n"
       ]
      },
      {
       "output_type": "stream",
       "stream": "stderr",
       "text": [
        "2014-01-05 13:36:37,644 : INFO : PROGRESS: at document #3000000/4114504\n"
       ]
      },
      {
       "output_type": "stream",
       "stream": "stderr",
       "text": [
        "2014-01-05 13:36:55,095 : INFO : PROGRESS: at document #3600000/4114504\n"
       ]
      },
      {
       "output_type": "stream",
       "stream": "stderr",
       "text": [
        "2014-01-05 13:37:00,084 : INFO : running power iteration #5\n"
       ]
      },
      {
       "output_type": "stream",
       "stream": "stderr",
       "text": [
        "2014-01-05 13:37:14,340 : INFO : PROGRESS: at document #0/4114504\n"
       ]
      },
      {
       "output_type": "stream",
       "stream": "stderr",
       "text": [
        "2014-01-05 13:37:33,653 : INFO : PROGRESS: at document #600000/4114504\n"
       ]
      },
      {
       "output_type": "stream",
       "stream": "stderr",
       "text": [
        "2014-01-05 13:37:52,746 : INFO : PROGRESS: at document #1200000/4114504\n"
       ]
      },
      {
       "output_type": "stream",
       "stream": "stderr",
       "text": [
        "2014-01-05 13:38:11,856 : INFO : PROGRESS: at document #1800000/4114504\n"
       ]
      },
      {
       "output_type": "stream",
       "stream": "stderr",
       "text": [
        "2014-01-05 13:38:31,148 : INFO : PROGRESS: at document #2400000/4114504\n"
       ]
      },
      {
       "output_type": "stream",
       "stream": "stderr",
       "text": [
        "2014-01-05 13:38:50,531 : INFO : PROGRESS: at document #3000000/4114504\n"
       ]
      },
      {
       "output_type": "stream",
       "stream": "stderr",
       "text": [
        "2014-01-05 13:39:07,772 : INFO : PROGRESS: at document #3600000/4114504\n"
       ]
      },
      {
       "output_type": "stream",
       "stream": "stderr",
       "text": [
        "2014-01-05 13:39:12,754 : INFO : running power iteration #6\n"
       ]
      },
      {
       "output_type": "stream",
       "stream": "stderr",
       "text": [
        "2014-01-05 13:39:26,996 : INFO : PROGRESS: at document #0/4114504\n"
       ]
      },
      {
       "output_type": "stream",
       "stream": "stderr",
       "text": [
        "2014-01-05 13:39:46,267 : INFO : PROGRESS: at document #600000/4114504\n"
       ]
      },
      {
       "output_type": "stream",
       "stream": "stderr",
       "text": [
        "2014-01-05 13:40:05,697 : INFO : PROGRESS: at document #1200000/4114504\n"
       ]
      },
      {
       "output_type": "stream",
       "stream": "stderr",
       "text": [
        "2014-01-05 13:40:24,915 : INFO : PROGRESS: at document #1800000/4114504\n"
       ]
      },
      {
       "output_type": "stream",
       "stream": "stderr",
       "text": [
        "2014-01-05 13:40:44,349 : INFO : PROGRESS: at document #2400000/4114504\n"
       ]
      },
      {
       "output_type": "stream",
       "stream": "stderr",
       "text": [
        "2014-01-05 13:41:03,853 : INFO : PROGRESS: at document #3000000/4114504\n"
       ]
      },
      {
       "output_type": "stream",
       "stream": "stderr",
       "text": [
        "2014-01-05 13:41:21,165 : INFO : PROGRESS: at document #3600000/4114504\n"
       ]
      },
      {
       "output_type": "stream",
       "stream": "stderr",
       "text": [
        "2014-01-05 13:41:26,202 : INFO : running power iteration #7\n"
       ]
      },
      {
       "output_type": "stream",
       "stream": "stderr",
       "text": [
        "2014-01-05 13:41:40,431 : INFO : PROGRESS: at document #0/4114504\n"
       ]
      },
      {
       "output_type": "stream",
       "stream": "stderr",
       "text": [
        "2014-01-05 13:41:59,652 : INFO : PROGRESS: at document #600000/4114504\n"
       ]
      },
      {
       "output_type": "stream",
       "stream": "stderr",
       "text": [
        "2014-01-05 13:42:18,938 : INFO : PROGRESS: at document #1200000/4114504\n"
       ]
      },
      {
       "output_type": "stream",
       "stream": "stderr",
       "text": [
        "2014-01-05 13:42:37,983 : INFO : PROGRESS: at document #1800000/4114504\n"
       ]
      },
      {
       "output_type": "stream",
       "stream": "stderr",
       "text": [
        "2014-01-05 13:42:57,216 : INFO : PROGRESS: at document #2400000/4114504\n"
       ]
      },
      {
       "output_type": "stream",
       "stream": "stderr",
       "text": [
        "2014-01-05 13:43:16,493 : INFO : PROGRESS: at document #3000000/4114504\n"
       ]
      },
      {
       "output_type": "stream",
       "stream": "stderr",
       "text": [
        "2014-01-05 13:43:33,862 : INFO : PROGRESS: at document #3600000/4114504\n"
       ]
      },
      {
       "output_type": "stream",
       "stream": "stderr",
       "text": [
        "2014-01-05 13:43:38,950 : INFO : running power iteration #8\n"
       ]
      },
      {
       "output_type": "stream",
       "stream": "stderr",
       "text": [
        "2014-01-05 13:43:53,373 : INFO : PROGRESS: at document #0/4114504\n"
       ]
      },
      {
       "output_type": "stream",
       "stream": "stderr",
       "text": [
        "2014-01-05 13:44:12,635 : INFO : PROGRESS: at document #600000/4114504\n"
       ]
      },
      {
       "output_type": "stream",
       "stream": "stderr",
       "text": [
        "2014-01-05 13:44:31,936 : INFO : PROGRESS: at document #1200000/4114504\n"
       ]
      },
      {
       "output_type": "stream",
       "stream": "stderr",
       "text": [
        "2014-01-05 13:44:51,022 : INFO : PROGRESS: at document #1800000/4114504\n"
       ]
      },
      {
       "output_type": "stream",
       "stream": "stderr",
       "text": [
        "2014-01-05 13:45:10,127 : INFO : PROGRESS: at document #2400000/4114504\n"
       ]
      },
      {
       "output_type": "stream",
       "stream": "stderr",
       "text": [
        "2014-01-05 13:45:29,437 : INFO : PROGRESS: at document #3000000/4114504\n"
       ]
      },
      {
       "output_type": "stream",
       "stream": "stderr",
       "text": [
        "2014-01-05 13:45:46,626 : INFO : PROGRESS: at document #3600000/4114504\n"
       ]
      },
      {
       "output_type": "stream",
       "stream": "stderr",
       "text": [
        "2014-01-05 13:45:51,650 : INFO : 2nd phase: constructing (604, 604) covariance matrix\n"
       ]
      },
      {
       "output_type": "stream",
       "stream": "stderr",
       "text": [
        "2014-01-05 13:46:06,007 : INFO : PROGRESS: at document #0/4114504\n"
       ]
      },
      {
       "output_type": "stream",
       "stream": "stderr",
       "text": [
        "2014-01-05 13:46:36,365 : INFO : PROGRESS: at document #600000/4114504\n"
       ]
      },
      {
       "output_type": "stream",
       "stream": "stderr",
       "text": [
        "2014-01-05 13:47:06,610 : INFO : PROGRESS: at document #1200000/4114504\n"
       ]
      },
      {
       "output_type": "stream",
       "stream": "stderr",
       "text": [
        "2014-01-05 13:47:36,714 : INFO : PROGRESS: at document #1800000/4114504\n"
       ]
      },
      {
       "output_type": "stream",
       "stream": "stderr",
       "text": [
        "2014-01-05 13:48:07,313 : INFO : PROGRESS: at document #2400000/4114504\n"
       ]
      },
      {
       "output_type": "stream",
       "stream": "stderr",
       "text": [
        "2014-01-05 13:48:37,515 : INFO : PROGRESS: at document #3000000/4114504\n"
       ]
      },
      {
       "output_type": "stream",
       "stream": "stderr",
       "text": [
        "2014-01-05 13:49:06,095 : INFO : PROGRESS: at document #3600000/4114504\n"
       ]
      },
      {
       "output_type": "stream",
       "stream": "stderr",
       "text": [
        "2014-01-05 13:49:20,049 : INFO : running dense decomposition on (604, 604) covariance matrix\n"
       ]
      },
      {
       "output_type": "stream",
       "stream": "stderr",
       "text": [
        "2014-01-05 13:49:20,354 : INFO : computing the final decomposition\n"
       ]
      },
      {
       "output_type": "stream",
       "stream": "stderr",
       "text": [
        "2014-01-05 13:49:20,355 : INFO : keeping 204 factors (discarding 22.115% of energy spectrum)\n"
       ]
      }
     ],
     "prompt_number": 29
    },
    {
     "cell_type": "code",
     "collapsed": false,
     "input": [
      "# Analyze norms\n",
      "print \"2-norm:\", max(model.projection.s)\n",
      "print \"Frobenius-norm:\", sqrt(sum(model.projection.s**2))"
     ],
     "language": "python",
     "metadata": {},
     "outputs": [
      {
       "output_type": "stream",
       "stream": "stdout",
       "text": [
        "2-norm: 607.985420669\n",
        "Frobenius-norm: 2466.24779282\n"
       ]
      }
     ],
     "prompt_number": 30
    },
    {
     "cell_type": "code",
     "collapsed": false,
     "input": [
      "print shape(model.projection.u)\n",
      "print model.projection.u.dtype\n",
      "# Save the (dense) matrix\n",
      "np.save(\"../working/UgensimM64.npy\", model.projection.u)"
     ],
     "language": "python",
     "metadata": {},
     "outputs": [
      {
       "output_type": "stream",
       "stream": "stdout",
       "text": [
        "(18598, 204)\n",
        "float64\n"
       ]
      }
     ],
     "prompt_number": 31
    },
    {
     "cell_type": "code",
     "collapsed": false,
     "input": [
      "# If UgensimM is not already np.float32, make it so...\n",
      "UgensimM = np.load(\"../working/UgensimM64.npy\")\n",
      "UgensimM = UgensimM.astype(np.float32)\n",
      "print shape(UgensimM)\n",
      "np.save(\"../working/UgensimM32.npy\", UgensimM)"
     ],
     "language": "python",
     "metadata": {},
     "outputs": [
      {
       "output_type": "stream",
       "stream": "stdout",
       "text": [
        "(18598, 204)\n"
       ]
      }
     ],
     "prompt_number": 32
    },
    {
     "cell_type": "markdown",
     "metadata": {},
     "source": [
      "##Training Preparation"
     ]
    },
    {
     "cell_type": "code",
     "collapsed": false,
     "input": [
      "%reset -f"
     ],
     "language": "python",
     "metadata": {},
     "outputs": [],
     "prompt_number": 33
    },
    {
     "cell_type": "code",
     "collapsed": false,
     "input": [
      "%pylab inline"
     ],
     "language": "python",
     "metadata": {},
     "outputs": [
      {
       "output_type": "stream",
       "stream": "stdout",
       "text": [
        "Populating the interactive namespace from numpy and matplotlib\n"
       ]
      }
     ],
     "prompt_number": 34
    },
    {
     "cell_type": "code",
     "collapsed": false,
     "input": [
      "from gensim.corpora.dictionary import Dictionary\n",
      "import pickle\n",
      "import gzip\n",
      "import os\n",
      "import subprocess"
     ],
     "language": "python",
     "metadata": {},
     "outputs": [],
     "prompt_number": 35
    },
    {
     "cell_type": "code",
     "collapsed": false,
     "input": [
      "num_eng = 4\n",
      "try:\n",
      "    with open(\"../working/N.pickle\", 'r') as picklefile:\n",
      "        N = pickle.load(picklefile)\n",
      "except:\n",
      "    N = 0\n",
      "    filename_template = \"../working/N_%d.pickle\"\n",
      "    for eng in range(num_eng):\n",
      "        with open(filename_template % eng, 'r') as picklefile:\n",
      "            N += pickle.load(picklefile)\n",
      "    \n",
      "    with open(\"../working/N.pickle\", 'w') as picklefile:\n",
      "        pickle.dump(N, picklefile)\n",
      "\n",
      "with open(\"../working/TOTAL_SIZE.pickle\", 'r') as picklefile:\n",
      "    TOTAL_SIZE = pickle.load(picklefile)\n",
      "    \n",
      "print \"N before pruning:\", TOTAL_SIZE\n",
      "print \"N after pruning:\", N\n",
      "# SET TRAIN_SPLITS AND TOYSET_SPLITS HERE!!!\n",
      "train_splits = 16\n",
      "toyset_splits = 16\n",
      "with open(\"../working/train_splits.pickle\", 'w') as picklefile:\n",
      "    pickle.dump(train_splits, picklefile)\n",
      "with open(\"../working/toyset_splits.pickle\", 'w') as picklefile:\n",
      "    pickle.dump(toyset_splits, picklefile)\n",
      "p = train_splits * toyset_splits\n",
      "print \"p:\", p\n",
      "with open(\"../working/M.pickle\", 'r') as picklefile:\n",
      "    M = pickle.load(picklefile)\n",
      "print \"M:\", M\n",
      "\n",
      "with open('../working/K.pickle', 'r') as picklefile:\n",
      "    K = pickle.load(picklefile)\n",
      "print \"K:\", K"
     ],
     "language": "python",
     "metadata": {},
     "outputs": [
      {
       "output_type": "stream",
       "stream": "stdout",
       "text": [
        "N before pruning: 4125233\n",
        "N after pruning: 4120788\n",
        "p: 256\n",
        "M: 204\n",
        "K:"
       ]
      },
      {
       "output_type": "stream",
       "stream": "stdout",
       "text": [
        " 18598\n"
       ]
      }
     ],
     "prompt_number": 36
    },
    {
     "cell_type": "code",
     "collapsed": false,
     "input": [
      "from IPython.parallel import Client\n",
      "client = Client()\n",
      "lv = client.load_balanced_view()\n",
      "dv = client[:]\n",
      "print lv\n",
      "print dv\n",
      "\n",
      "num_eng = 4\n",
      "engine_ids = range(num_eng)\n",
      "for eid in engine_ids:\n",
      "    client[eid]['eid'] = eid\n",
      "print dv['eid']"
     ],
     "language": "python",
     "metadata": {},
     "outputs": [
      {
       "output_type": "stream",
       "stream": "stdout",
       "text": [
        "<LoadBalancedView None>\n",
        "<DirectView [0, 1, 2, 3]>\n",
        "[0, 1, 2, 3]\n"
       ]
      }
     ],
     "prompt_number": 37
    },
    {
     "cell_type": "code",
     "collapsed": false,
     "input": [
      "%%px\n",
      "import numpy as np\n",
      "from gensim.corpora.dictionary import Dictionary\n",
      "import pickle\n",
      "import scipy.sparse"
     ],
     "language": "python",
     "metadata": {},
     "outputs": [],
     "prompt_number": 38
    },
    {
     "cell_type": "code",
     "collapsed": false,
     "input": [
      "# Additional parallel\n",
      "for eid in engine_ids:\n",
      "    client[eid]['eid'] = eid\n",
      "    with open(\"../working/N_%d.pickle\" % eid, 'r') as picklefile:\n",
      "        N_part = pickle.load(picklefile)\n",
      "    client[eid]['split_size'] = N_part\n",
      "print \"split_size's are\", dv['split_size']\n",
      "\n",
      "dv['N'] = N\n",
      "dv['train_splits'] = train_splits\n",
      "dv['toyset_splits'] = toyset_splits\n",
      "dv['p'] = p\n",
      "dv['num_eng'] = num_eng\n",
      "dv['M'] = M\n",
      "dv['K'] = K"
     ],
     "language": "python",
     "metadata": {},
     "outputs": [
      {
       "output_type": "stream",
       "stream": "stdout",
       "text": [
        "split_size's are [1028578, 1028595, 1028689, 1028642]\n"
       ]
      }
     ],
     "prompt_number": 39
    },
    {
     "cell_type": "markdown",
     "metadata": {},
     "source": [
      "###Encoding the Label Set\n",
      "Encode the labels. Without `lil`, it took 20 minutes. Let's see how long it takes with `lil -> csr` conversion."
     ]
    },
    {
     "cell_type": "code",
     "collapsed": false,
     "input": [
      "%%px\n",
      "with open(\"../working/tagsdict.pickle\", 'rb') as picklefile:\n",
      "    tagsdict = pickle.load(picklefile)\n",
      "n_unique_words = int(tagsdict.__str__().lstrip('Dictionary(').rstrip(\n",
      "    ' unique tokens)'))\n",
      "\n",
      "infilename = '../data/filtered_tagsonly_%d.txt' % eid\n",
      "outfilename = '../data/PLST/Y/Y_%d.pickle'\n",
      "\n",
      "with open(infilename, 'rb') as infile:\n",
      "    blocks_per_eng = p / num_eng\n",
      "    for q in range(blocks_per_eng): # q = 0 ... 64\n",
      "        # read N' = N / p sized blocks\n",
      "        # store into densy array .npy % (eid * p / num_eng + q)\n",
      "        if q != blocks_per_eng - 1:\n",
      "            block_size = split_size / blocks_per_eng # 1 split <-> 1 eng\n",
      "        else: # if last block\n",
      "            block_size = split_size - (split_size / blocks_per_eng) * (blocks_per_eng - 1)\n",
      "        spmat = scipy.sparse.lil_matrix((block_size, n_unique_words), dtype=np.float32)\n",
      "        for b in xrange(block_size):\n",
      "            line = infile.readline()\n",
      "            if line == '':\n",
      "                print 'end-of-file reached for filtered_tagsonly_%d.txt' % eid\n",
      "                break\n",
      "            for token in line.split():\n",
      "                spmat[b, tagsdict.token2id[token]] = 1\n",
      "        with open(outfilename % (eid * (p / num_eng) + q), 'w') as picklefile:\n",
      "            pickle.dump(spmat.tocsr(), picklefile)\n",
      "        print \"%s created\" % (outfilename % (eid * (p / num_eng) + q))\n",
      "        del spmat"
     ],
     "language": "python",
     "metadata": {},
     "outputs": [
      {
       "output_type": "stream",
       "stream": "stdout",
       "text": [
        "[stdout:0] \n",
        "../data/PLST/Y/Y_0.pickle created\n",
        "../data/PLST/Y/Y_1.pickle created\n",
        "../data/PLST/Y/Y_2.pickle created\n",
        "../data/PLST/Y/Y_3.pickle created\n",
        "../data/PLST/Y/Y_4.pickle created\n",
        "../data/PLST/Y/Y_5.pickle created\n",
        "../data/PLST/Y/Y_6.pickle created\n",
        "../data/PLST/Y/Y_7.pickle created\n",
        "../data/PLST/Y/Y_8.pickle created\n",
        "../data/PLST/Y/Y_9.pickle created\n",
        "../data/PLST/Y/Y_10.pickle created\n",
        "../data/PLST/Y/Y_11.pickle created\n",
        "../data/PLST/Y/Y_12.pickle created\n",
        "../data/PLST/Y/Y_13.pickle created\n",
        "../data/PLST/Y/Y_14.pickle created\n",
        "../data/PLST/Y/Y_15.pickle created\n",
        "../data/PLST/Y/Y_16.pickle created\n",
        "../data/PLST/Y/Y_17.pickle created\n",
        "../data/PLST/Y/Y_18.pickle created\n",
        "../data/PLST/Y/Y_19.pickle created\n",
        "../data/PLST/Y/Y_20.pickle created\n",
        "../data/PLST/Y/Y_21.pickle created\n",
        "../data/PLST/Y/Y_22.pickle created\n",
        "../data/PLST/Y/Y_23.pickle created\n",
        "../data/PLST/Y/Y_24.pickle created\n",
        "../data/PLST/Y/Y_25.pickle created\n",
        "../data/PLST/Y/Y_26.pickle created\n",
        "../data/PLST/Y/Y_27.pickle created\n",
        "../data/PLST/Y/Y_28.pickle created\n",
        "../data/PLST/Y/Y_29.pickle created\n",
        "../data/PLST/Y/Y_30.pickle created\n",
        "../data/PLST/Y/Y_31.pickle created\n",
        "../data/PLST/Y/Y_32.pickle created\n",
        "../data/PLST/Y/Y_33.pickle created\n",
        "../data/PLST/Y/Y_34.pickle created\n",
        "../data/PLST/Y/Y_35.pickle created\n",
        "../data/PLST/Y/Y_36.pickle created\n",
        "../data/PLST/Y/Y_37.pickle created\n",
        "../data/PLST/Y/Y_38.pickle created\n",
        "../data/PLST/Y/Y_39.pickle created\n",
        "../data/PLST/Y/Y_40.pickle created\n",
        "../data/PLST/Y/Y_41.pickle created\n",
        "../data/PLST/Y/Y_42.pickle created\n",
        "../data/PLST/Y/Y_43.pickle created\n",
        "../data/PLST/Y/Y_44.pickle created\n",
        "../data/PLST/Y/Y_45.pickle created\n",
        "../data/PLST/Y/Y_46.pickle created\n",
        "../data/PLST/Y/Y_47.pickle created\n",
        "../data/PLST/Y/Y_48.pickle created\n",
        "../data/PLST/Y/Y_49.pickle created\n",
        "../data/PLST/Y/Y_50.pickle created\n",
        "../data/PLST/Y/Y_51.pickle created\n",
        "../data/PLST/Y/Y_52.pickle created\n",
        "../data/PLST/Y/Y_53.pickle created\n",
        "../data/PLST/Y/Y_54.pickle created\n",
        "../data/PLST/Y/Y_55.pickle created\n",
        "../data/PLST/Y/Y_56.pickle created\n",
        "../data/PLST/Y/Y_57.pickle created\n",
        "../data/PLST/Y/Y_58.pickle created\n",
        "../data/PLST/Y/Y_59.pickle created\n",
        "../data/PLST/Y/Y_60.pickle created\n",
        "../data/PLST/Y/Y_61.pickle created\n",
        "../data/PLST/Y/Y_62.pickle created\n",
        "../data/PLST/Y/Y_63.pickle created\n",
        "[stdout:1] \n",
        "../data/PLST/Y/Y_64.pickle created\n",
        "../data/PLST/Y/Y_65.pickle created\n",
        "../data/PLST/Y/Y_66.pickle created\n",
        "../data/PLST/Y/Y_67.pickle created\n",
        "../data/PLST/Y/Y_68.pickle created\n",
        "../data/PLST/Y/Y_69.pickle created\n",
        "../data/PLST/Y/Y_70.pickle created\n",
        "../data/PLST/Y/Y_71.pickle created\n",
        "../data/PLST/Y/Y_72.pickle created\n",
        "../data/PLST/Y/Y_73.pickle created\n",
        "../data/PLST/Y/Y_74.pickle created\n",
        "../data/PLST/Y/Y_75.pickle created\n",
        "../data/PLST/Y/Y_76.pickle created\n",
        "../data/PLST/Y/Y_77.pickle created\n",
        "../data/PLST/Y/Y_78.pickle created\n",
        "../data/PLST/Y/Y_79.pickle created\n",
        "../data/PLST/Y/Y_80.pickle created\n",
        "../data/PLST/Y/Y_81.pickle created\n",
        "../data/PLST/Y/Y_82.pickle created\n",
        "../data/PLST/Y/Y_83.pickle created\n",
        "../data/PLST/Y/Y_84.pickle created\n",
        "../data/PLST/Y/Y_85.pickle created\n",
        "../data/PLST/Y/Y_86.pickle created\n",
        "../data/PLST/Y/Y_87.pickle created\n",
        "../data/PLST/Y/Y_88.pickle created\n",
        "../data/PLST/Y/Y_89.pickle created\n",
        "../data/PLST/Y/Y_90.pickle created\n",
        "../data/PLST/Y/Y_91.pickle created\n",
        "../data/PLST/Y/Y_92.pickle created\n",
        "../data/PLST/Y/Y_93.pickle created\n",
        "../data/PLST/Y/Y_94.pickle created\n",
        "../data/PLST/Y/Y_95.pickle created\n",
        "../data/PLST/Y/Y_96.pickle created\n",
        "../data/PLST/Y/Y_97.pickle created\n",
        "../data/PLST/Y/Y_98.pickle created\n",
        "../data/PLST/Y/Y_99.pickle created\n",
        "../data/PLST/Y/Y_100.pickle created\n",
        "../data/PLST/Y/Y_101.pickle created\n",
        "../data/PLST/Y/Y_102.pickle created\n",
        "../data/PLST/Y/Y_103.pickle created\n",
        "../data/PLST/Y/Y_104.pickle created\n",
        "../data/PLST/Y/Y_105.pickle created\n",
        "../data/PLST/Y/Y_106.pickle created\n",
        "../data/PLST/Y/Y_107.pickle created\n",
        "../data/PLST/Y/Y_108.pickle created\n",
        "../data/PLST/Y/Y_109.pickle created\n",
        "../data/PLST/Y/Y_110.pickle created\n",
        "../data/PLST/Y/Y_111.pickle created\n",
        "../data/PLST/Y/Y_112.pickle created\n",
        "../data/PLST/Y/Y_113.pickle created\n",
        "../data/PLST/Y/Y_114.pickle created\n",
        "../data/PLST/Y/Y_115.pickle created\n",
        "../data/PLST/Y/Y_116.pickle created\n",
        "../data/PLST/Y/Y_117.pickle created\n",
        "../data/PLST/Y/Y_118.pickle created\n",
        "../data/PLST/Y/Y_119.pickle created\n",
        "../data/PLST/Y/Y_120.pickle created\n",
        "../data/PLST/Y/Y_121.pickle created\n",
        "../data/PLST/Y/Y_122.pickle created\n",
        "../data/PLST/Y/Y_123.pickle created\n",
        "../data/PLST/Y/Y_124.pickle created\n",
        "../data/PLST/Y/Y_125.pickle created\n",
        "../data/PLST/Y/Y_126.pickle created\n",
        "../data/PLST/Y/Y_127.pickle created\n",
        "[stdout:2] \n",
        "../data/PLST/Y/Y_128.pickle created\n",
        "../data/PLST/Y/Y_129.pickle created\n",
        "../data/PLST/Y/Y_130.pickle created\n",
        "../data/PLST/Y/Y_131.pickle created\n",
        "../data/PLST/Y/Y_132.pickle created\n",
        "../data/PLST/Y/Y_133.pickle created\n",
        "../data/PLST/Y/Y_134.pickle created\n",
        "../data/PLST/Y/Y_135.pickle created\n",
        "../data/PLST/Y/Y_136.pickle created\n",
        "../data/PLST/Y/Y_137.pickle created\n",
        "../data/PLST/Y/Y_138.pickle created\n",
        "../data/PLST/Y/Y_139.pickle created\n",
        "../data/PLST/Y/Y_140.pickle created\n",
        "../data/PLST/Y/Y_141.pickle created\n",
        "../data/PLST/Y/Y_142.pickle created\n",
        "../data/PLST/Y/Y_143.pickle created\n",
        "../data/PLST/Y/Y_144.pickle created\n",
        "../data/PLST/Y/Y_145.pickle created\n",
        "../data/PLST/Y/Y_146.pickle created\n",
        "../data/PLST/Y/Y_147.pickle created\n",
        "../data/PLST/Y/Y_148.pickle created\n",
        "../data/PLST/Y/Y_149.pickle created\n",
        "../data/PLST/Y/Y_150.pickle created\n",
        "../data/PLST/Y/Y_151.pickle created\n",
        "../data/PLST/Y/Y_152.pickle created\n",
        "../data/PLST/Y/Y_153.pickle created\n",
        "../data/PLST/Y/Y_154.pickle created\n",
        "../data/PLST/Y/Y_155.pickle created\n",
        "../data/PLST/Y/Y_156.pickle created\n",
        "../data/PLST/Y/Y_157.pickle created\n",
        "../data/PLST/Y/Y_158.pickle created\n",
        "../data/PLST/Y/Y_159.pickle created\n",
        "../data/PLST/Y/Y_160.pickle created\n",
        "../data/PLST/Y/Y_161.pickle created\n",
        "../data/PLST/Y/Y_162.pickle created\n",
        "../data/PLST/Y/Y_163.pickle created\n",
        "../data/PLST/Y/Y_164.pickle created\n",
        "../data/PLST/Y/Y_165.pickle created\n",
        "../data/PLST/Y/Y_166.pickle created\n",
        "../data/PLST/Y/Y_167.pickle created\n",
        "../data/PLST/Y/Y_168.pickle created\n",
        "../data/PLST/Y/Y_169.pickle created\n",
        "../data/PLST/Y/Y_170.pickle created\n",
        "../data/PLST/Y/Y_171.pickle created\n",
        "../data/PLST/Y/Y_172.pickle created\n",
        "../data/PLST/Y/Y_173.pickle created\n",
        "../data/PLST/Y/Y_174.pickle created\n",
        "../data/PLST/Y/Y_175.pickle created\n",
        "../data/PLST/Y/Y_176.pickle created\n",
        "../data/PLST/Y/Y_177.pickle created\n",
        "../data/PLST/Y/Y_178.pickle created\n",
        "../data/PLST/Y/Y_179.pickle created\n",
        "../data/PLST/Y/Y_180.pickle created\n",
        "../data/PLST/Y/Y_181.pickle created\n",
        "../data/PLST/Y/Y_182.pickle created\n",
        "../data/PLST/Y/Y_183.pickle created\n",
        "../data/PLST/Y/Y_184.pickle created\n",
        "../data/PLST/Y/Y_185.pickle created\n",
        "../data/PLST/Y/Y_186.pickle created\n",
        "../data/PLST/Y/Y_187.pickle created\n",
        "../data/PLST/Y/Y_188.pickle created\n",
        "../data/PLST/Y/Y_189.pickle created\n",
        "../data/PLST/Y/Y_190.pickle created\n",
        "../data/PLST/Y/Y_191.pickle created\n",
        "[stdout:3] \n",
        "../data/PLST/Y/Y_192.pickle created\n",
        "../data/PLST/Y/Y_193.pickle created\n",
        "../data/PLST/Y/Y_194.pickle created\n",
        "../data/PLST/Y/Y_195.pickle created\n",
        "../data/PLST/Y/Y_196.pickle created\n",
        "../data/PLST/Y/Y_197.pickle created\n",
        "../data/PLST/Y/Y_198.pickle created\n",
        "../data/PLST/Y/Y_199.pickle created\n",
        "../data/PLST/Y/Y_200.pickle created\n",
        "../data/PLST/Y/Y_201.pickle created\n",
        "../data/PLST/Y/Y_202.pickle created\n",
        "../data/PLST/Y/Y_203.pickle created\n",
        "../data/PLST/Y/Y_204.pickle created\n",
        "../data/PLST/Y/Y_205.pickle created\n",
        "../data/PLST/Y/Y_206.pickle created\n",
        "../data/PLST/Y/Y_207.pickle created\n",
        "../data/PLST/Y/Y_208.pickle created\n",
        "../data/PLST/Y/Y_209.pickle created\n",
        "../data/PLST/Y/Y_210.pickle created\n",
        "../data/PLST/Y/Y_211.pickle created\n",
        "../data/PLST/Y/Y_212.pickle created\n",
        "../data/PLST/Y/Y_213.pickle created\n",
        "../data/PLST/Y/Y_214.pickle created\n",
        "../data/PLST/Y/Y_215.pickle created\n",
        "../data/PLST/Y/Y_216.pickle created\n",
        "../data/PLST/Y/Y_217.pickle created\n",
        "../data/PLST/Y/Y_218.pickle created\n",
        "../data/PLST/Y/Y_219.pickle created\n",
        "../data/PLST/Y/Y_220.pickle created\n",
        "../data/PLST/Y/Y_221.pickle created\n",
        "../data/PLST/Y/Y_222.pickle created\n",
        "../data/PLST/Y/Y_223.pickle created\n",
        "../data/PLST/Y/Y_224.pickle created\n",
        "../data/PLST/Y/Y_225.pickle created\n",
        "../data/PLST/Y/Y_226.pickle created\n",
        "../data/PLST/Y/Y_227.pickle created\n",
        "../data/PLST/Y/Y_228.pickle created\n",
        "../data/PLST/Y/Y_229.pickle created\n",
        "../data/PLST/Y/Y_230.pickle created\n",
        "../data/PLST/Y/Y_231.pickle created\n",
        "../data/PLST/Y/Y_232.pickle created\n",
        "../data/PLST/Y/Y_233.pickle created\n",
        "../data/PLST/Y/Y_234.pickle created\n",
        "../data/PLST/Y/Y_235.pickle created\n",
        "../data/PLST/Y/Y_236.pickle created\n",
        "../data/PLST/Y/Y_237.pickle created\n",
        "../data/PLST/Y/Y_238.pickle created\n",
        "../data/PLST/Y/Y_239.pickle created\n",
        "../data/PLST/Y/Y_240.pickle created\n",
        "../data/PLST/Y/Y_241.pickle created\n",
        "../data/PLST/Y/Y_242.pickle created\n",
        "../data/PLST/Y/Y_243.pickle created\n",
        "../data/PLST/Y/Y_244.pickle created\n",
        "../data/PLST/Y/Y_245.pickle created\n",
        "../data/PLST/Y/Y_246.pickle created\n",
        "../data/PLST/Y/Y_247.pickle created\n",
        "../data/PLST/Y/Y_248.pickle created\n",
        "../data/PLST/Y/Y_249.pickle created\n",
        "../data/PLST/Y/Y_250.pickle created\n",
        "../data/PLST/Y/Y_251.pickle created\n",
        "../data/PLST/Y/Y_252.pickle created\n",
        "../data/PLST/Y/Y_253.pickle created\n",
        "../data/PLST/Y/Y_254.pickle created\n",
        "../data/PLST/Y/Y_255.pickle created\n"
       ]
      }
     ],
     "prompt_number": 40
    },
    {
     "cell_type": "markdown",
     "metadata": {},
     "source": [
      "Create manageable-sized partitions of `H`, calculated from `Y` and `UgensimM`."
     ]
    },
    {
     "cell_type": "code",
     "collapsed": false,
     "input": [
      "%%px\n",
      "infilename = '../data/PLST/Y/Y_%d.pickle'\n",
      "outfilename = '../data/PLST/H/H_%d.npy'\n",
      "UgensimM = np.load('../working/UgensimM32.npy')\n",
      "\n",
      "#completely_empty = 0\n",
      "#not_empty = 0\n",
      "for q in range(p / num_eng):\n",
      "    with open(infilename % (eid * p / num_eng + q), 'r') as picklefile:\n",
      "        Y_part = pickle.load(picklefile)\n",
      "    # We can speed up the dot product? With hacking and NumbaPro!!!\n",
      "    ## No we can't.. Numba dot-product is slower than NumPy MKL-optimized dot-product\n",
      "    H_part_dense = Y_part.dot(UgensimM)\n",
      "    del Y_part\n",
      "        \n",
      "    np.save(outfilename % (eid * (p / num_eng) + q), H_part_dense.T) # Save the transpose!\n",
      "    del H_part_dense"
     ],
     "language": "python",
     "metadata": {},
     "outputs": [],
     "prompt_number": 41
    },
    {
     "cell_type": "markdown",
     "metadata": {},
     "source": [
      "###Vowpal Wabbit training file creation\n",
      "Create a vowpal_wabbit-friendly format as training input.\n",
      "\n",
      "Reload size/dimension parameters again...\n",
      "\n",
      "Write the actual vw file.\n",
      "\n",
      "`M` number of `B_part`, which is `1 x N`. `H_part` is `N' x M`. There are a total of `p x M` file reads. `256 x 300 = 76,800!` But, alas, it must be done. Anyways, write `M` number of `Train_%d.vw` files!"
     ]
    },
    {
     "cell_type": "code",
     "collapsed": false,
     "input": [
      "%%px\n",
      "B_m = np.empty(N, dtype=np.float32)\n",
      "\n",
      "# Convert H_part to B_m\n",
      "for m in range(M / num_eng):\n",
      "    curr_ind = 0\n",
      "    for q in range(p / num_eng):\n",
      "        H_part = np.load('../data/PLST/H/H_%d.npy' % (eid*(p/num_eng)+q)) # M x N'\n",
      "        H_part_size = H_part.shape[1]\n",
      "        B_m[curr_ind : curr_ind + H_part_size] = H_part[m,:]\n",
      "        curr_ind += H_part_size\n",
      "    np.save(\"../data/PLST/B/B_%d.npy\" % (eid*(M/num_eng) + m), B_m)"
     ],
     "language": "python",
     "metadata": {},
     "outputs": [],
     "prompt_number": 7
    },
    {
     "cell_type": "code",
     "collapsed": false,
     "input": [
      "with open(\"../data/filtered_bodyonly.txt\", 'rb') as f_bodies:\n",
      "    bodies_str = f_bodies.read()\n",
      "    bodies_lst = bodies_str.split('\\n')\n",
      "    del bodies_str\n",
      "\n",
      "B_template = \"../data/PLST/B/B_%d.npy\" # % m in M\n",
      "vw_template = \"../data/PLST/vw/Train_%d.vw\"\n",
      "\n",
      "## 1/1/14 - Left off at this file. I've already deleted the incomplete one.\n",
      "for m in xrange(137,M):\n",
      "    # Write a total of M .vw training files!\n",
      "    f_vw = open(vw_template % m, 'wb')\n",
      "    B_part = np.load(B_template % m)\n",
      "    body_iter = iter(bodies_lst)\n",
      "    for b_elem in B_part:\n",
      "        body = body_iter.next() + '\\n'\n",
      "        f_vw.write('%.8f | ' % b_elem)\n",
      "        f_vw.write(body)\n",
      "    f_vw.close()\n",
      "    # 'shell=True' option is dangerous. Be careful. Also, pigz must be installed.\n",
      "    #subprocess.call(\"pigz -2 \" + (vw_template % m), shell=True)\n",
      "    \n",
      "del bodies_lst"
     ],
     "language": "python",
     "metadata": {},
     "outputs": [],
     "prompt_number": 3
    },
    {
     "cell_type": "markdown",
     "metadata": {},
     "source": [
      "Then perform the following script. DON'T COPY PASTE BELOW DUE TO FORMATTING ISSUES!"
     ]
    },
    {
     "cell_type": "raw",
     "metadata": {},
     "source": [
      "#!/bin/bash\n",
      "# Put this script in the `working` directory\n",
      "\n",
      "for i in {0..299}\n",
      "do\n",
      "    zcat \"../data/PLST/vw/Train_$i.vw.gz\" | vw --cache_file \"vw/Train_$i.cache\" --compressed -b 21 -f \"vw/Train_$i.model\" \n",
      "        --l2 0.0001 -l 0.05 2>&1 | tee -a somefile.txt\n",
      "done"
     ]
    },
    {
     "cell_type": "markdown",
     "metadata": {},
     "source": [
      "After running the above initialization bash-script, run the following script in two separate bash processes. Again, DON'T COPY!"
     ]
    },
    {
     "cell_type": "raw",
     "metadata": {},
     "source": [
      "#!/bin/bash\n",
      "\n",
      "python ~/working/spearmint/spearmint/spearmint/main.py --method=GPEIOptChooser --method-args=noiseless=1 --driver=local \n",
      "    somefile.txt\n",
      "\n",
      "# Within the python file, run vowpal wabbit in a spawned subprocess as follows...\n",
      "vw --cache_file \"vw/Train_$i.cache\" -f \"vw/Train_$i.model\" --compressed -b 21 --l2 <SOME VAL> -l <SOME VAL> 2>&1 | \n",
      "    tee -a somefile.txt"
     ]
    },
    {
     "cell_type": "markdown",
     "metadata": {},
     "source": [
      "##Cleaning up\n",
      "Reload modules and free memory."
     ]
    },
    {
     "cell_type": "code",
     "collapsed": false,
     "input": [
      "%reset -f"
     ],
     "language": "python",
     "metadata": {},
     "outputs": [],
     "prompt_number": 26
    },
    {
     "cell_type": "code",
     "collapsed": false,
     "input": [
      "%pylab inline"
     ],
     "language": "python",
     "metadata": {},
     "outputs": [
      {
       "output_type": "stream",
       "stream": "stdout",
       "text": [
        "Populating the interactive namespace from numpy and matplotlib\n"
       ]
      }
     ],
     "prompt_number": 27
    },
    {
     "cell_type": "code",
     "collapsed": false,
     "input": [
      "import pickle\n",
      "import scipy.sparse"
     ],
     "language": "python",
     "metadata": {},
     "outputs": [],
     "prompt_number": 1
    },
    {
     "cell_type": "code",
     "collapsed": false,
     "input": [
      "num_eng = 4\n",
      "try:\n",
      "    with open(\"../working/N.pickle\", 'r') as picklefile:\n",
      "        N = pickle.load(picklefile)\n",
      "except:\n",
      "    N = 0\n",
      "    filename_template = \"../working/N_%d.pickle\"\n",
      "    for eng in range(num_eng):\n",
      "        with open(filename_template % eng, 'r') as picklefile:\n",
      "            N += pickle.load(picklefile)\n",
      "    \n",
      "    with open(\"../working/N.pickle\", 'w') as picklefile:\n",
      "        pickle.dump(N, picklefile)\n",
      "\n",
      "with open(\"../working/TOTAL_SIZE.pickle\", 'r') as picklefile:\n",
      "    TOTAL_SIZE = pickle.load(picklefile)\n",
      "\n",
      "print \"N after pruning:\", N\n",
      "with open(\"../working/train_splits.pickle\", 'r') as picklefile:\n",
      "    train_splits = pickle.load(picklefile)\n",
      "with open(\"../working/toyset_splits.pickle\", 'r') as picklefile:\n",
      "    toyset_splits = pickle.load(picklefile)\n",
      "p = train_splits * toyset_splits\n",
      "print \"p:\", p\n",
      "with open(\"../working/M.pickle\", 'r') as picklefile:\n",
      "    M = pickle.load(picklefile)\n",
      "print \"M:\", M\n",
      "\n",
      "with open('../working/K.pickle', 'r') as picklefile:\n",
      "    K = pickle.load(picklefile)\n",
      "print \"K:\", K"
     ],
     "language": "python",
     "metadata": {},
     "outputs": [
      {
       "output_type": "stream",
       "stream": "stdout",
       "text": [
        "N after pruning: 4120788\n",
        "p: 256\n",
        "M: 300\n",
        "K: 38802\n"
       ]
      }
     ],
     "prompt_number": 2
    },
    {
     "cell_type": "code",
     "collapsed": false,
     "input": [
      "from IPython.parallel import Client\n",
      "client = Client()\n",
      "lv = client.load_balanced_view()\n",
      "dv = client[:]\n",
      "print lv\n",
      "print dv\n",
      "\n",
      "num_eng = 4\n",
      "engine_ids = range(num_eng)\n",
      "for eid in engine_ids:\n",
      "    client[eid]['eid'] = eid\n",
      "print dv['eid']"
     ],
     "language": "python",
     "metadata": {},
     "outputs": [
      {
       "output_type": "stream",
       "stream": "stdout",
       "text": [
        "<LoadBalancedView None>\n",
        "<DirectView [0, 1, 2, 3]>\n",
        "[0, 1, 2, 3]\n"
       ]
      }
     ],
     "prompt_number": 3
    },
    {
     "cell_type": "code",
     "collapsed": false,
     "input": [
      "for eid in engine_ids:\n",
      "    client[eid]['eid'] = eid\n",
      "    with open(\"../working/N_%d.pickle\" % eid, 'r') as picklefile:\n",
      "        N_part = pickle.load(picklefile)\n",
      "    client[eid]['split_size'] = N_part\n",
      "print \"split_size's are\", dv['split_size']\n",
      "\n",
      "dv['N'] = N\n",
      "dv['train_splits'] = 16\n",
      "dv['toyset_splits'] = 16\n",
      "dv['p'] = p\n",
      "dv['num_eng'] = num_eng\n",
      "dv['M'] = M\n",
      "dv['K'] = K"
     ],
     "language": "python",
     "metadata": {},
     "outputs": [
      {
       "output_type": "stream",
       "stream": "stdout",
       "text": [
        "split_size's are [1030205, 1030216, 1030202, 1030165]\n"
       ]
      }
     ],
     "prompt_number": 4
    },
    {
     "cell_type": "markdown",
     "metadata": {},
     "source": [
      "Process each of the `M` predictions files. Create `M` number of `W_m` files.\n",
      "\n",
      "Convert `W_m`'s, which are `1 x N`, to `R_part`'s, which are `N' x M`. Later, decode `R_part` to `T_part`, which is `N' x K`. There are `M` number of `W_m`'s. There are `p` number of `R_part`'s."
     ]
    },
    {
     "cell_type": "code",
     "collapsed": false,
     "input": [
      "mm_R = np.memmap(\"../data/PLST/R/R.mmap\", shape=(N,M), dtype=np.float32, mode='w+')\n",
      "del mm_R"
     ],
     "language": "python",
     "metadata": {},
     "outputs": [],
     "prompt_number": 6
    },
    {
     "cell_type": "code",
     "collapsed": false,
     "input": [
      "%%px\n",
      "import numpy as np\n",
      "\n",
      "mm_R = np.memmap(\"../data/PLST/R/R.mmap\", shape=(N,M), dtype=np.float32, mode='r+')\n",
      "pred_template = \"../data/PLST/vw/Train_%d.pred\"\n",
      "W_m = np.empty(N, dtype=np.float32)\n",
      "\n",
      "for m in range(M/num_eng):\n",
      "    with open(pred_template % (eid*(M/num_eng)+m), 'rb') as predfile:\n",
      "        for i,pred_str in enumerate(predfile):\n",
      "            W_m[i] = np.float32(pred_str)\n",
      "    mm_R[:,(eid*(M/num_eng)+m)] = W_m\n",
      " \n",
      "del W_m\n",
      "del mm_R"
     ],
     "language": "python",
     "metadata": {},
     "outputs": [],
     "prompt_number": 7
    },
    {
     "cell_type": "code",
     "collapsed": false,
     "input": [
      "%%px\n",
      "# hack temp 1/1/14 11:08am\n",
      "import numpy as np\n",
      "mm_R = np.memmap(\"../data/PLST/R/R.mmap\", shape=(N,M), dtype=np.float32, mode='r+')\n",
      "# Fill in mm_R with W_m's\n",
      "for m in xrange(M/num_eng):\n",
      "    W_m = np.load(\"../data/PLST/W/W_%d.npy\" % (eid*(M/num_eng)+m))\n",
      "    mm_R[:,(eid*(M/num_eng)+m)] = W_m\n",
      "del W_m\n",
      "del mm_R"
     ],
     "language": "python",
     "metadata": {},
     "outputs": [],
     "prompt_number": 7
    },
    {
     "cell_type": "markdown",
     "metadata": {},
     "source": [
      "Test memory load. Memory collapse when using all targets (i.e. using all 4 cores). Try using 2."
     ]
    },
    {
     "cell_type": "code",
     "collapsed": false,
     "input": [
      "%%px --target=[1,2]\n",
      "# Test memory load\n",
      "import numpy as np\n",
      "import scipy.sparse\n",
      "import pickle\n",
      "mm_R = np.memmap(\"../data/PLST/R/R.mmap\", shape=(N,M), dtype=np.float32, mode='r+')\n",
      "UgensimM = np.load(\"../working/UgensimM32.npy\")\n",
      "UgensimMT = UgensimM.T\n",
      "del UgensimM\n",
      "\n",
      "curr_ind = 0\n",
      "q = 0\n",
      "with open(\"../data/PLST/Y/Y_%d.pickle\" % (eid*(p/num_eng) + q), 'r') as picklefile:\n",
      "    Y_temp_part = pickle.load(picklefile)\n",
      "R_part_size = Y_temp_part.shape[0]\n",
      "del Y_temp_part\n",
      "mm_R_part = mm_R[mm_R_start+curr_ind : mm_R_start+curr_ind+R_part_size, :]\n",
      "curr_ind += R_part_size\n",
      "R_part = np.empty((R_part_size, M), dtype=np.float32)\n",
      "R_part[:] = mm_R_part[:]\n",
      "\n",
      "# I now have R_part and UgensimMT in memory... Let's try performing their dot product\n",
      "T_dense = R_part.dot(UgensimMT)\n",
      "del R_part\n",
      "T_dense[T_dense < 0.5] = 0\n",
      "T_dense[T_dense >= 0.5] = 1\n",
      "Tsp = scipy.sparse.csr_matrix(T_dense)\n",
      "del T_dense\n",
      "\n",
      "del mm_R\n",
      "del UgensimMT"
     ],
     "language": "python",
     "metadata": {},
     "outputs": [],
     "prompt_number": 12
    },
    {
     "cell_type": "raw",
     "metadata": {},
     "source": [
      "client[1]: client[0]['split_size']"
     ]
    },
    {
     "cell_type": "code",
     "collapsed": false,
     "input": [
      "client[1]['mm_R_start'] = 0\n",
      "client[2]['mm_R_start'] = client[0]['split_size'] + client[1]['split_size']"
     ],
     "language": "python",
     "metadata": {},
     "outputs": [],
     "prompt_number": 5
    },
    {
     "cell_type": "code",
     "collapsed": false,
     "input": [
      "%%px --target=[1,2]\n",
      "import numpy as np\n",
      "import scipy.sparse\n",
      "import pickle\n",
      "\n",
      "UgensimM = np.load(\"../working/UgensimM32.npy\")\n",
      "UgensimMT = UgensimM.T\n",
      "del UgensimM\n",
      "mm_R = np.memmap(\"../data/PLST/R/R.mmap\", shape=(N,M), dtype=np.float32, mode='r+')\n",
      "outfile_template = \"../data/PLST/T/T_%d.pickle\"\n",
      "curr_ind = 0\n",
      "for q in xrange(p / 2):\n",
      "    with open(\"../data/PLST/Y/Y_%d.pickle\" % ((eid-1)*(p/2) + q), 'r') as picklefile:\n",
      "        Y_temp_part = pickle.load(picklefile)\n",
      "    R_part_size = Y_temp_part.shape[0]\n",
      "    del Y_temp_part\n",
      "    mm_R_part = mm_R[mm_R_start+curr_ind : mm_R_start+curr_ind+R_part_size, :]\n",
      "    curr_ind += R_part_size\n",
      "    R_part = np.empty((R_part_size, M), dtype=np.float32)\n",
      "    R_part[:] = mm_R_part[:]\n",
      "    \n",
      "    T_dense = R_part.dot(UgensimMT)\n",
      "    del R_part\n",
      "    T_dense[T_dense < 0.5] = 0\n",
      "    T_dense[T_dense >= 0.5] = 1\n",
      "    Tsp = scipy.sparse.csr_matrix(T_dense)\n",
      "    del T_dense\n",
      "    \n",
      "    with open(outfile_template % ((eid-1)*(p/2) + q), 'w') as picklefile:\n",
      "        pickle.dump(Tsp, picklefile)\n",
      "    del Tsp\n",
      "    \n",
      "del UgensimMT\n",
      "del mm_R"
     ],
     "language": "python",
     "metadata": {},
     "outputs": [],
     "prompt_number": 6
    },
    {
     "cell_type": "markdown",
     "metadata": {},
     "source": [
      "##F1 Scoring\n",
      "<p>The evaluation metric for this competition is <a href=\"http://en.wikipedia.org/wiki/F1_score\"> Mean F1-Score</a>. The F1 score, commonly used in information retrieval, measures accuracy using the statistics precision `p` and recall `r`. Precision is the ratio of true positives `(tp)` to all predicted positives `(tp + fp)`. Recall is the ratio of true positives to all actual positives `(tp + fn)`. The F1 score is given by:</p>\n",
      "\n",
      "$$F1 = 2\\frac{p \\cdot r}{p+r}\\ \\ \\mathrm{where}\\ \\ p = \\frac{tp}{tp+fp},\\ \\ r = \\frac{tp}{tp+fn}$$\n",
      "<p>The F1 metric weights recall and precision equally, and a good retrieval algorithm will maximize both precision and recall simultaneously. Thus, moderately good performance on both will be favored over extremely good performance on one and poor performance on the other.</p>\n",
      "<p>To receive credit, the tag you predict must be an exact match, regardless of whether you believe the tags are synonyms.</p>"
     ]
    },
    {
     "cell_type": "markdown",
     "metadata": {},
     "source": [
      "To work around RAM limitations (I only have 8GB ram, out of which I prefer to use only 3/4's of [~6GB], just to be safe), we'll need to batch-process this step as well. This means calculating the true/false positive/negative rates by summing these values in toyset levels, i.e. dividing the training set into 16 toyset-level partitions, and then adding up the rates over these 16 partitions. The `p`, `r`, and `F1` calculations remain unchanged."
     ]
    },
    {
     "cell_type": "markdown",
     "metadata": {},
     "source": [
      "###Target/Ideal"
     ]
    },
    {
     "cell_type": "raw",
     "metadata": {},
     "source": [
      "tp = np.sum(T==Y)\n",
      "fp = np.sum((T != Y) & (T == 1))\n",
      "fn = np.sum((T != Y) & (T == 0))\n",
      "\n",
      "p = 1.0 * tp / (tp + fp)\n",
      "r = 1.0 * tp / (tp + fn)\n",
      "F1 = 2 * (p * r) / (p + r)\n",
      "\n",
      "print \"true positive:\", tp\n",
      "print \"false positive:\", fp\n",
      "print \"false negative:\", fn\n",
      "print \"precision:\", p\n",
      "print \"recall:\", r\n",
      "print \"F1-score:\", F1"
     ]
    },
    {
     "cell_type": "markdown",
     "metadata": {},
     "source": [
      "###Practical"
     ]
    },
    {
     "cell_type": "markdown",
     "metadata": {},
     "source": [
      "<b>Serial</b>"
     ]
    },
    {
     "cell_type": "code",
     "collapsed": false,
     "input": [
      "Y_part_name = \"../data/PLST/Y/Y_%d.pickle\"\n",
      "T_part_name = \"../data/PLST/T/T_%d.pickle\"\n",
      "tp, fp, fn = 0, 0, 0\n",
      "\n",
      "for q in range(p): # over all blocks/partitions (within each engine)\n",
      "    # Load the relevant data from both Y and T\n",
      "    with open(Y_part_name % q, 'r') as picklefile:\n",
      "        Y_part = pickle.load(picklefile)\n",
      "    Y_indices = Y_part.indices[:-1]\n",
      "    Y_indptr = Y_part.indptr\n",
      "    del Y_part\n",
      "    with open(T_part_name % q, 'r') as picklefile:\n",
      "        T_part = pickle.load(picklefile)\n",
      "    T_indices = T_part.indices[:-1]\n",
      "    T_indptr = T_part.indptr\n",
      "    del T_part\n",
      "    \n",
      "    \"\"\"\n",
      "        True Positive: when T == Y\n",
      "        False Positive: when T != Y and T == 1\n",
      "        False Negative: when T != Y and T == 0\n",
      "    \"\"\"\n",
      "    T_indptr_iter = iter(T_indptr)\n",
      "    Y_indptr_iter = iter(Y_indptr)\n",
      "    \n",
      "    # Between pos i and pos i+1:\n",
      "    Y_indptr_left_val = Y_indptr_iter.next()\n",
      "    T_indptr_left_val = T_indptr_iter.next()\n",
      "    if len(Y_indptr) != len(T_indptr):\n",
      "        print \"len(Y_indptr):\", len(Y_indptr)\n",
      "        print \"len(T_indptr):\", len(T_indptr)\n",
      "        raise Exception(\"Y_indptr and T_indptr are not the same size\")\n",
      "    both_done_flag= False # Y & T should have the same size...\n",
      "    \n",
      "    while not both_done_flag:\n",
      "        try:\n",
      "            T_indptr_right_val = T_indptr_iter.next()\n",
      "            T_selected_cols = T_indices[T_indptr_left_val : T_indptr_right_val]\n",
      "            T_indptr_left_val = T_indptr_right_val\n",
      "        except StopIteration:\n",
      "            T_selected_cols = T_indices[T_indptr_left_val:]\n",
      "            both_done_flag = True\n",
      "            \n",
      "        try:\n",
      "            Y_indptr_right_val = Y_indptr_iter.next()\n",
      "            Y_selected_cols = Y_indices[Y_indptr_left_val : Y_indptr_right_val]\n",
      "            Y_indptr_left_val = Y_indptr_right_val\n",
      "        except StopIteration:\n",
      "            Y_selected_cols = Y_indices[Y_indptr_left_val:]\n",
      "            \n",
      "        if T_selected_cols.shape[0] != 0:\n",
      "            in_T_and_Y_cols = set(T_selected_cols) & set(Y_selected_cols)\n",
      "            in_T_not_Y_cols = set(T_selected_cols) - set(Y_selected_cols)\n",
      "            in_Y_not_T_cols = set(Y_selected_cols) - set(T_selected_cols)\n",
      "            tp += len(in_T_and_Y_cols)\n",
      "            fp += len(in_T_not_Y_cols)\n",
      "            fn += len(in_Y_not_T_cols)\n",
      "        \n",
      "print tp\n",
      "print fp\n",
      "print fn"
     ],
     "language": "python",
     "metadata": {},
     "outputs": [
      {
       "output_type": "stream",
       "stream": "stdout",
       "text": [
        "599\n",
        "171728\n",
        "20559\n"
       ]
      }
     ],
     "prompt_number": 7
    },
    {
     "cell_type": "markdown",
     "metadata": {},
     "source": [
      "<b>Parallel</b>"
     ]
    },
    {
     "cell_type": "code",
     "collapsed": false,
     "input": [
      "%%px\n",
      "\n",
      "Y_part_name = \"../data/PLST/Y/Y_%d.pickle\"\n",
      "T_part_name = \"../data/PLST/T/T_%d.pickle\"\n",
      "tp, fp, fn = 0, 0, 0\n",
      "\n",
      "for q in range(p / num_eng): # over all blocks/partitions (within each engine)\n",
      "    # Load the relevant data from both Y and T\n",
      "    with open(Y_part_name % (eid*(p/num_eng) + q), 'r') as picklefile:\n",
      "        Y_part = pickle.load(picklefile)\n",
      "    Y_indices = Y_part.indices[:-1]\n",
      "    Y_indptr = Y_part.indptr\n",
      "    del Y_part\n",
      "    with open(T_part_name % (eid*(p/num_eng) + q), 'r') as picklefile:\n",
      "        T_part = pickle.load(picklefile)\n",
      "    T_indices = T_part.indices[:-1]\n",
      "    T_indptr = T_part.indptr\n",
      "    del T_part\n",
      "    \n",
      "    \"\"\"\n",
      "        True Positive: when T == Y\n",
      "        False Positive: when T != Y and T == 1\n",
      "        False Negative: when T != Y and T == 0\n",
      "    \"\"\"\n",
      "    T_indptr_iter = iter(T_indptr)\n",
      "    Y_indptr_iter = iter(Y_indptr)\n",
      "    \n",
      "    # Between pos i and pos i+1:\n",
      "    Y_indptr_left_val = Y_indptr.next()\n",
      "    T_indptr_left_val = T_indptr_iter.next()\n",
      "    if len(Y_indptr) != len(T_indptr):\n",
      "        print \"len(Y_indptr):\", len(Y_indptr)\n",
      "        print \"len(T_indptr):\", len(T_indptr)\n",
      "        raise Exception(\"Y_indptr and T_indptr are not the same size\")\n",
      "    both_done_flag= False # Y & T should have the same size...\n",
      "    \n",
      "    while not both_done_flag:\n",
      "        try:\n",
      "            T_indptr_right_val = T_indptr_iter.next()\n",
      "            T_selected_cols = T_indices[T_indptr_left_val : T_indptr_right_val]\n",
      "            T_indptr_left_val = T_indptr_right_val\n",
      "        except StopIteration:\n",
      "            T_selected_cols = T_indices[T_indptr_left_val:]\n",
      "            both_done_flag = True\n",
      "            \n",
      "        try:\n",
      "            Y_indptr_right_val = Y_indptr.next()\n",
      "            Y_selected_cols = Y_indices[Y_indptr_left_val : Y_indptr_right_val]\n",
      "            Y_indptr_left_val = Y_indptr_right_val\n",
      "        except StopIteration:\n",
      "            Y_selected_cols = Y_indices[Y_indptr_left_val:]\n",
      "            \n",
      "        if T_selected_cols.shape[0] != 0:\n",
      "            in_T_and_Y_cols = set(T_selected_cols) & set(Y_selected_cols)\n",
      "            in_T_not_Y_cols = set(T_selected_cols) - set(Y_selected_cols)\n",
      "            in_Y_not_T_cols = set(Y_selected_cols) - set(T_selected_cols)\n",
      "            tp += len(in_T_and_Y_cols)\n",
      "            fp += len(in_T_not_Y_cols)\n",
      "            fn += len(in_Y_not_T_cols)\n",
      "        \n",
      "print \"tp_%d:\" % eid, tp\n",
      "print \"fp_%d:\" % eid, fp\n",
      "print \"fn_%d:\" % eid, fn"
     ],
     "language": "python",
     "metadata": {},
     "outputs": [
      {
       "ename": "CompositeError",
       "evalue": "one or more exceptions from call to method: execute\n[0:execute]: IndexError: index -1 is out of bounds for axis 0 with size 0\n[1:execute]: IndexError: index -1 is out of bounds for axis 0 with size 0\n[2:execute]: IndexError: index -1 is out of bounds for axis 0 with size 0\n[3:execute]: IndexError: index -1 is out of bounds for axis 0 with size 0",
       "output_type": "pyerr",
       "traceback": [
        "[0:execute]: ",
        "\u001b[1;31m---------------------------------------------------------------------------\u001b[0m",
        "\u001b[1;31mIndexError\u001b[0m                                Traceback (most recent call last)\u001b[1;32m<ipython-input-4-4ecbad5108d1>\u001b[0m in \u001b[0;36m<module>\u001b[1;34m()\u001b[0m",
        "\u001b[0;32m     13\u001b[0m     \u001b[1;32mwith\u001b[0m \u001b[0mopen\u001b[0m\u001b[1;33m(\u001b[0m\u001b[0mT_part_name\u001b[0m \u001b[1;33m%\u001b[0m \u001b[1;33m(\u001b[0m\u001b[0meid\u001b[0m\u001b[1;33m*\u001b[0m\u001b[1;33m(\u001b[0m\u001b[0mp\u001b[0m\u001b[1;33m/\u001b[0m\u001b[0mnum_eng\u001b[0m\u001b[1;33m)\u001b[0m \u001b[1;33m+\u001b[0m \u001b[0mq\u001b[0m\u001b[1;33m)\u001b[0m\u001b[1;33m,\u001b[0m \u001b[1;34m'r'\u001b[0m\u001b[1;33m)\u001b[0m \u001b[1;32mas\u001b[0m \u001b[0mpicklefile\u001b[0m\u001b[1;33m:\u001b[0m\u001b[1;33m\u001b[0m\u001b[0m",
        "\u001b[0;32m     14\u001b[0m         \u001b[0mT_part\u001b[0m \u001b[1;33m=\u001b[0m \u001b[0mpickle\u001b[0m\u001b[1;33m.\u001b[0m\u001b[0mload\u001b[0m\u001b[1;33m(\u001b[0m\u001b[0mpicklefile\u001b[0m\u001b[1;33m)\u001b[0m\u001b[1;33m\u001b[0m\u001b[0m",
        "\u001b[1;32m---> 15\u001b[1;33m     \u001b[0mT_indices\u001b[0m \u001b[1;33m=\u001b[0m \u001b[0mT_part\u001b[0m\u001b[1;33m.\u001b[0m\u001b[0mindices\u001b[0m\u001b[1;33m[\u001b[0m\u001b[1;33m-\u001b[0m\u001b[1;36m1\u001b[0m\u001b[1;33m]\u001b[0m\u001b[1;33m\u001b[0m\u001b[0m",
        "\u001b[0m\u001b[0;32m     16\u001b[0m     \u001b[0mT_indptr\u001b[0m \u001b[1;33m=\u001b[0m \u001b[0mT_part\u001b[0m\u001b[1;33m.\u001b[0m\u001b[0mindptr\u001b[0m\u001b[1;33m\u001b[0m\u001b[0m",
        "\u001b[0;32m     17\u001b[0m     \u001b[1;32mdel\u001b[0m \u001b[0mT_part\u001b[0m\u001b[1;33m\u001b[0m\u001b[0m",
        "\u001b[1;31mIndexError\u001b[0m: index -1 is out of bounds for axis 0 with size 0",
        "",
        "[1:execute]: ",
        "\u001b[1;31m---------------------------------------------------------------------------\u001b[0m",
        "\u001b[1;31mIndexError\u001b[0m                                Traceback (most recent call last)\u001b[1;32m<ipython-input-4-4ecbad5108d1>\u001b[0m in \u001b[0;36m<module>\u001b[1;34m()\u001b[0m",
        "\u001b[0;32m     13\u001b[0m     \u001b[1;32mwith\u001b[0m \u001b[0mopen\u001b[0m\u001b[1;33m(\u001b[0m\u001b[0mT_part_name\u001b[0m \u001b[1;33m%\u001b[0m \u001b[1;33m(\u001b[0m\u001b[0meid\u001b[0m\u001b[1;33m*\u001b[0m\u001b[1;33m(\u001b[0m\u001b[0mp\u001b[0m\u001b[1;33m/\u001b[0m\u001b[0mnum_eng\u001b[0m\u001b[1;33m)\u001b[0m \u001b[1;33m+\u001b[0m \u001b[0mq\u001b[0m\u001b[1;33m)\u001b[0m\u001b[1;33m,\u001b[0m \u001b[1;34m'r'\u001b[0m\u001b[1;33m)\u001b[0m \u001b[1;32mas\u001b[0m \u001b[0mpicklefile\u001b[0m\u001b[1;33m:\u001b[0m\u001b[1;33m\u001b[0m\u001b[0m",
        "\u001b[0;32m     14\u001b[0m         \u001b[0mT_part\u001b[0m \u001b[1;33m=\u001b[0m \u001b[0mpickle\u001b[0m\u001b[1;33m.\u001b[0m\u001b[0mload\u001b[0m\u001b[1;33m(\u001b[0m\u001b[0mpicklefile\u001b[0m\u001b[1;33m)\u001b[0m\u001b[1;33m\u001b[0m\u001b[0m",
        "\u001b[1;32m---> 15\u001b[1;33m     \u001b[0mT_indices\u001b[0m \u001b[1;33m=\u001b[0m \u001b[0mT_part\u001b[0m\u001b[1;33m.\u001b[0m\u001b[0mindices\u001b[0m\u001b[1;33m[\u001b[0m\u001b[1;33m-\u001b[0m\u001b[1;36m1\u001b[0m\u001b[1;33m]\u001b[0m\u001b[1;33m\u001b[0m\u001b[0m",
        "\u001b[0m\u001b[0;32m     16\u001b[0m     \u001b[0mT_indptr\u001b[0m \u001b[1;33m=\u001b[0m \u001b[0mT_part\u001b[0m\u001b[1;33m.\u001b[0m\u001b[0mindptr\u001b[0m\u001b[1;33m\u001b[0m\u001b[0m",
        "\u001b[0;32m     17\u001b[0m     \u001b[1;32mdel\u001b[0m \u001b[0mT_part\u001b[0m\u001b[1;33m\u001b[0m\u001b[0m",
        "\u001b[1;31mIndexError\u001b[0m: index -1 is out of bounds for axis 0 with size 0",
        "",
        "[2:execute]: ",
        "\u001b[1;31m---------------------------------------------------------------------------\u001b[0m",
        "\u001b[1;31mIndexError\u001b[0m                                Traceback (most recent call last)\u001b[1;32m<ipython-input-4-4ecbad5108d1>\u001b[0m in \u001b[0;36m<module>\u001b[1;34m()\u001b[0m",
        "\u001b[0;32m     13\u001b[0m     \u001b[1;32mwith\u001b[0m \u001b[0mopen\u001b[0m\u001b[1;33m(\u001b[0m\u001b[0mT_part_name\u001b[0m \u001b[1;33m%\u001b[0m \u001b[1;33m(\u001b[0m\u001b[0meid\u001b[0m\u001b[1;33m*\u001b[0m\u001b[1;33m(\u001b[0m\u001b[0mp\u001b[0m\u001b[1;33m/\u001b[0m\u001b[0mnum_eng\u001b[0m\u001b[1;33m)\u001b[0m \u001b[1;33m+\u001b[0m \u001b[0mq\u001b[0m\u001b[1;33m)\u001b[0m\u001b[1;33m,\u001b[0m \u001b[1;34m'r'\u001b[0m\u001b[1;33m)\u001b[0m \u001b[1;32mas\u001b[0m \u001b[0mpicklefile\u001b[0m\u001b[1;33m:\u001b[0m\u001b[1;33m\u001b[0m\u001b[0m",
        "\u001b[0;32m     14\u001b[0m         \u001b[0mT_part\u001b[0m \u001b[1;33m=\u001b[0m \u001b[0mpickle\u001b[0m\u001b[1;33m.\u001b[0m\u001b[0mload\u001b[0m\u001b[1;33m(\u001b[0m\u001b[0mpicklefile\u001b[0m\u001b[1;33m)\u001b[0m\u001b[1;33m\u001b[0m\u001b[0m",
        "\u001b[1;32m---> 15\u001b[1;33m     \u001b[0mT_indices\u001b[0m \u001b[1;33m=\u001b[0m \u001b[0mT_part\u001b[0m\u001b[1;33m.\u001b[0m\u001b[0mindices\u001b[0m\u001b[1;33m[\u001b[0m\u001b[1;33m-\u001b[0m\u001b[1;36m1\u001b[0m\u001b[1;33m]\u001b[0m\u001b[1;33m\u001b[0m\u001b[0m",
        "\u001b[0m\u001b[0;32m     16\u001b[0m     \u001b[0mT_indptr\u001b[0m \u001b[1;33m=\u001b[0m \u001b[0mT_part\u001b[0m\u001b[1;33m.\u001b[0m\u001b[0mindptr\u001b[0m\u001b[1;33m\u001b[0m\u001b[0m",
        "\u001b[0;32m     17\u001b[0m     \u001b[1;32mdel\u001b[0m \u001b[0mT_part\u001b[0m\u001b[1;33m\u001b[0m\u001b[0m",
        "\u001b[1;31mIndexError\u001b[0m: index -1 is out of bounds for axis 0 with size 0",
        "",
        "[3:execute]: ",
        "\u001b[1;31m---------------------------------------------------------------------------\u001b[0m",
        "\u001b[1;31mIndexError\u001b[0m                                Traceback (most recent call last)\u001b[1;32m<ipython-input-4-4ecbad5108d1>\u001b[0m in \u001b[0;36m<module>\u001b[1;34m()\u001b[0m",
        "\u001b[0;32m     13\u001b[0m     \u001b[1;32mwith\u001b[0m \u001b[0mopen\u001b[0m\u001b[1;33m(\u001b[0m\u001b[0mT_part_name\u001b[0m \u001b[1;33m%\u001b[0m \u001b[1;33m(\u001b[0m\u001b[0meid\u001b[0m\u001b[1;33m*\u001b[0m\u001b[1;33m(\u001b[0m\u001b[0mp\u001b[0m\u001b[1;33m/\u001b[0m\u001b[0mnum_eng\u001b[0m\u001b[1;33m)\u001b[0m \u001b[1;33m+\u001b[0m \u001b[0mq\u001b[0m\u001b[1;33m)\u001b[0m\u001b[1;33m,\u001b[0m \u001b[1;34m'r'\u001b[0m\u001b[1;33m)\u001b[0m \u001b[1;32mas\u001b[0m \u001b[0mpicklefile\u001b[0m\u001b[1;33m:\u001b[0m\u001b[1;33m\u001b[0m\u001b[0m",
        "\u001b[0;32m     14\u001b[0m         \u001b[0mT_part\u001b[0m \u001b[1;33m=\u001b[0m \u001b[0mpickle\u001b[0m\u001b[1;33m.\u001b[0m\u001b[0mload\u001b[0m\u001b[1;33m(\u001b[0m\u001b[0mpicklefile\u001b[0m\u001b[1;33m)\u001b[0m\u001b[1;33m\u001b[0m\u001b[0m",
        "\u001b[1;32m---> 15\u001b[1;33m     \u001b[0mT_indices\u001b[0m \u001b[1;33m=\u001b[0m \u001b[0mT_part\u001b[0m\u001b[1;33m.\u001b[0m\u001b[0mindices\u001b[0m\u001b[1;33m[\u001b[0m\u001b[1;33m-\u001b[0m\u001b[1;36m1\u001b[0m\u001b[1;33m]\u001b[0m\u001b[1;33m\u001b[0m\u001b[0m",
        "\u001b[0m\u001b[0;32m     16\u001b[0m     \u001b[0mT_indptr\u001b[0m \u001b[1;33m=\u001b[0m \u001b[0mT_part\u001b[0m\u001b[1;33m.\u001b[0m\u001b[0mindptr\u001b[0m\u001b[1;33m\u001b[0m\u001b[0m",
        "\u001b[0;32m     17\u001b[0m     \u001b[1;32mdel\u001b[0m \u001b[0mT_part\u001b[0m\u001b[1;33m\u001b[0m\u001b[0m",
        "\u001b[1;31mIndexError\u001b[0m: index -1 is out of bounds for axis 0 with size 0",
        ""
       ]
      }
     ],
     "prompt_number": 17
    },
    {
     "cell_type": "code",
     "collapsed": false,
     "input": [
      "p = 1.0 * tp / (tp + fp)\n",
      "r = 1.0 * tp / (tp + fn)\n",
      "F1 = 2 * (p * r) / (p + r)\n",
      "\n",
      "print \"true positive:\", tp\n",
      "print \"false positive:\", fp\n",
      "print \"false negative:\", fn\n",
      "print \"precision:\", p\n",
      "print \"recall:\", r\n",
      "print \"F1-score:\", F1"
     ],
     "language": "python",
     "metadata": {},
     "outputs": [
      {
       "output_type": "stream",
       "stream": "stdout",
       "text": [
        "true positive: 599\n",
        "false positive: 171728\n",
        "false negative: 20559\n",
        "precision: 0.00347594979313\n",
        "recall: 0.0283108044239\n",
        "F1-score: 0.0061916944466\n"
       ]
      }
     ],
     "prompt_number": 8
    },
    {
     "cell_type": "code",
     "collapsed": false,
     "input": [
      "tp, fp, fn = 0, 0, 0\n",
      "for eid in engine_ids:\n",
      "    tp += client[eid]['tp_split']\n",
      "    fp += client[eid]['fp_split']\n",
      "    fn += client[eid]['fn_split']\n",
      "\n",
      "p = 1.0 * tp / (tp + fp)\n",
      "r = 1.0 * tp / (tp + fn)\n",
      "F1 = 2 * (p * r) / (p + r)\n",
      "\n",
      "print \"true positive:\", tp\n",
      "print \"false positive:\", fp\n",
      "print \"false negative:\", fn\n",
      "print \"precision:\", p\n",
      "print \"recall:\", r\n",
      "print \"F1-score:\", F1"
     ],
     "language": "python",
     "metadata": {},
     "outputs": []
    }
   ],
   "metadata": {}
  }
 ]
}